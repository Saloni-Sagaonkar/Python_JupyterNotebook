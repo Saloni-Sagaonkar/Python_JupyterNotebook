{
 "cells": [
  {
   "cell_type": "markdown",
   "id": "c9344e4b",
   "metadata": {},
   "source": [
    "# 11. Loops \n"
   ]
  },
  {
   "cell_type": "markdown",
   "id": "62fd035c",
   "metadata": {},
   "source": [
    "When you want some statements to execute a hundred times, you don’t repeat them 100 times. In such a case, you can use loops in python.\n",
    "\n",
    "4 types of Loop:\n",
    "\n",
    "1. While Loop\n",
    "2. For Loop\n",
    "3. Loop Control Statements\n",
    "4. Nested For Loop "
   ]
  },
  {
   "cell_type": "markdown",
   "id": "f82dfd79",
   "metadata": {},
   "source": [
    "### While Loop"
   ]
  },
  {
   "cell_type": "markdown",
   "id": "6bd31a0f",
   "metadata": {},
   "source": [
    "A while loop iterates till its condition becomes False.\n",
    "\n",
    "When the program control reaches the while loop, the condition is checked. If the condition is true, the block of code under it is executed.\n",
    "\n",
    "Remember to indent all statements under the loop equally. After that, the condition is checked again.\n",
    "\n",
    "This continues until the condition becomes false."
   ]
  },
  {
   "cell_type": "code",
   "execution_count": 2,
   "id": "7eb9db8c",
   "metadata": {},
   "outputs": [
    {
     "name": "stdout",
     "output_type": "stream",
     "text": [
      "Saloni\n",
      "22.5\n",
      "1999\n"
     ]
    }
   ],
   "source": [
    "x = ['Saloni', 22.5, 1999]\n",
    "for i in x:\n",
    "    print(i)"
   ]
  },
  {
   "cell_type": "code",
   "execution_count": 4,
   "id": "d559d930",
   "metadata": {},
   "outputs": [
    {
     "name": "stdout",
     "output_type": "stream",
     "text": [
      "P\n",
      "Y\n",
      "T\n",
      "H\n",
      "O\n",
      "N\n"
     ]
    }
   ],
   "source": [
    "x = \"PYTHON\"\n",
    "for i in x:\n",
    "    print(i)"
   ]
  },
  {
   "cell_type": "markdown",
   "id": "674585a2",
   "metadata": {},
   "source": [
    "#### a. The else statement for while loop"
   ]
  },
  {
   "cell_type": "markdown",
   "id": "bf64997f",
   "metadata": {},
   "source": [
    "A while loop may have an else statement after it. When the condition becomes false, the block under the else statement is executed.\n",
    "\n",
    "However, it doesn’t execute if you break out of the loop or if an exception is raised."
   ]
  },
  {
   "cell_type": "code",
   "execution_count": 5,
   "id": "39e68354",
   "metadata": {},
   "outputs": [
    {
     "name": "stdout",
     "output_type": "stream",
     "text": [
      "3\n",
      "2\n",
      "1\n",
      "Reached 0\n"
     ]
    }
   ],
   "source": [
    "a = 3\n",
    "while(a>0):\n",
    "    print(a)\n",
    "    a-=1\n",
    "else:\n",
    "    print (\"Reached 0\")"
   ]
  },
  {
   "cell_type": "markdown",
   "id": "9b6f4705",
   "metadata": {},
   "source": [
    "Put a break statement in the body of the while loop for a==1.So, when that happens, the statement in the else block is not executed."
   ]
  },
  {
   "cell_type": "code",
   "execution_count": 6,
   "id": "645717c0",
   "metadata": {},
   "outputs": [
    {
     "name": "stdout",
     "output_type": "stream",
     "text": [
      "3\n",
      "2\n"
     ]
    }
   ],
   "source": [
    "a=3\n",
    "while(a>0):\n",
    "    print(a)\n",
    "    a-=1\n",
    "    if a==1:\n",
    "        break;\n",
    "else:\n",
    "    print(\"Reached 0\")"
   ]
  },
  {
   "cell_type": "markdown",
   "id": "f5d84bd2",
   "metadata": {},
   "source": [
    "#### b. Single Statement while"
   ]
  },
  {
   "cell_type": "code",
   "execution_count": 7,
   "id": "fca1de2b",
   "metadata": {},
   "outputs": [
    {
     "name": "stdout",
     "output_type": "stream",
     "text": [
      "3\n",
      "2\n",
      "1\n"
     ]
    }
   ],
   "source": [
    "a=3\n",
    "while a>0: print(a); a-=1;"
   ]
  },
  {
   "cell_type": "markdown",
   "id": "2dc114a7",
   "metadata": {},
   "source": [
    "### For Loop\n",
    "Python for loop can iterate over a sequence of items. In Python, we use the ‘in’ keyword."
   ]
  },
  {
   "cell_type": "code",
   "execution_count": 17,
   "id": "fbe2abd9",
   "metadata": {},
   "outputs": [
    {
     "name": "stdout",
     "output_type": "stream",
     "text": [
      "0\n",
      "1\n",
      "2\n"
     ]
    }
   ],
   "source": [
    "for i in range(3):\n",
    "    print(i)"
   ]
  },
  {
   "cell_type": "markdown",
   "id": "31c46d39",
   "metadata": {},
   "source": [
    "#### a. The range() function\n",
    "This function yields a sequence of numbers. When called with one argument, say n, it creates a sequence of numbers from 0 to n-1."
   ]
  },
  {
   "cell_type": "code",
   "execution_count": 10,
   "id": "0fa7b71d",
   "metadata": {},
   "outputs": [
    {
     "data": {
      "text/plain": [
       "[0, 1, 2, 3, 4, 5, 6, 7, 8, 9]"
      ]
     },
     "execution_count": 10,
     "metadata": {},
     "output_type": "execute_result"
    }
   ],
   "source": [
    "list(range(10))"
   ]
  },
  {
   "cell_type": "code",
   "execution_count": 13,
   "id": "4572d42e",
   "metadata": {},
   "outputs": [
    {
     "name": "stdout",
     "output_type": "stream",
     "text": [
      "2\n",
      "3\n",
      "4\n",
      "5\n"
     ]
    }
   ],
   "source": [
    "for i in range(2,6):   #Calling two arguments creates a sequence of numbers from the first to the second.\n",
    "    print(i)"
   ]
  },
  {
   "cell_type": "code",
   "execution_count": 14,
   "id": "ee692c15",
   "metadata": {},
   "outputs": [
    {
     "name": "stdout",
     "output_type": "stream",
     "text": [
      "2\n",
      "4\n",
      "6\n",
      "8\n",
      "10\n",
      "12\n"
     ]
    }
   ],
   "source": [
    "#print even numbers from 2 to 13\n",
    "for i in range(2,13,2):           # pass three arguments. The third argument is the interval.\n",
    "    print(i)"
   ]
  },
  {
   "cell_type": "code",
   "execution_count": 16,
   "id": "ba5590af",
   "metadata": {},
   "outputs": [
    {
     "data": {
      "text/plain": [
       "[12, 10, 8, 6, 4]"
      ]
     },
     "execution_count": 16,
     "metadata": {},
     "output_type": "execute_result"
    }
   ],
   "source": [
    "list(range(12,2,-2))  #interval can also be negative"
   ]
  },
  {
   "cell_type": "markdown",
   "id": "7b0bf9e6",
   "metadata": {},
   "source": [
    "#### b. Iterating on lists or similar constructs\n",
    "You aren’t bound to use the range() function, though. You can use the loop to iterate on a list or a similar construct."
   ]
  },
  {
   "cell_type": "code",
   "execution_count": 18,
   "id": "916f765d",
   "metadata": {},
   "outputs": [
    {
     "name": "stdout",
     "output_type": "stream",
     "text": [
      "1\n",
      "2\n",
      "3\n",
      "4\n"
     ]
    }
   ],
   "source": [
    "for i in [1,2,3,4]:\n",
    "    print(i)"
   ]
  },
  {
   "cell_type": "code",
   "execution_count": 19,
   "id": "87b97eaf",
   "metadata": {},
   "outputs": [
    {
     "name": "stdout",
     "output_type": "stream",
     "text": [
      "8\n",
      "9\n",
      "6\n",
      "7\n"
     ]
    }
   ],
   "source": [
    "for a in {8,9,7,6}:\n",
    "    print(a)"
   ]
  },
  {
   "cell_type": "code",
   "execution_count": 20,
   "id": "74dc048e",
   "metadata": {},
   "outputs": [
    {
     "name": "stdout",
     "output_type": "stream",
     "text": [
      "P\n",
      "Y\n",
      "T\n",
      "H\n",
      "O\n",
      "N\n"
     ]
    }
   ],
   "source": [
    "for i in \"PYTHON\":\n",
    "    print(i)"
   ]
  },
  {
   "cell_type": "markdown",
   "id": "c06f67e1",
   "metadata": {},
   "source": [
    "#### c. Iterating on indices of a list or a similar construct\n",
    "The len() function returns the length of the list. When you apply the range() function on that, it returns the indices of the list on a range object.\n",
    "\n"
   ]
  },
  {
   "cell_type": "code",
   "execution_count": 21,
   "id": "9a5da28a",
   "metadata": {},
   "outputs": [
    {
     "name": "stdout",
     "output_type": "stream",
     "text": [
      "Romanian\n",
      "Spanish\n",
      "Gujarati\n"
     ]
    }
   ],
   "source": [
    "list=['Romanian','Spanish','Gujarati']\n",
    "for i in range(len(list)):\n",
    "        print(list[i])"
   ]
  },
  {
   "cell_type": "markdown",
   "id": "fd587a72",
   "metadata": {},
   "source": [
    "#### d. The else statement for for-loop\n",
    "Like a while loop, a for-loop may also have an else statement after it.\n",
    "\n",
    "When the loop is exhausted, the block under the else statement executes."
   ]
  },
  {
   "cell_type": "code",
   "execution_count": 23,
   "id": "062ad389",
   "metadata": {},
   "outputs": [
    {
     "name": "stdout",
     "output_type": "stream",
     "text": [
      "0\n",
      "1\n",
      "2\n",
      "3\n",
      "4\n",
      "Reached else\n"
     ]
    }
   ],
   "source": [
    "for i in range (5):\n",
    "    print(i)\n",
    "else:\n",
    "    print(\"Reached else\")"
   ]
  },
  {
   "cell_type": "markdown",
   "id": "125bb137",
   "metadata": {},
   "source": [
    "In the while loop, it doesn’t execute if you break out of the loop or if an exception is raised."
   ]
  },
  {
   "cell_type": "code",
   "execution_count": 24,
   "id": "be43c0f2",
   "metadata": {},
   "outputs": [
    {
     "name": "stdout",
     "output_type": "stream",
     "text": [
      "0\n",
      "1\n",
      "2\n",
      "3\n"
     ]
    }
   ],
   "source": [
    "for i in range(5):\n",
    "    print(i)\n",
    "    if(i==3):break\n",
    "else:print('Reached else')"
   ]
  },
  {
   "cell_type": "markdown",
   "id": "04e3fb67",
   "metadata": {},
   "source": [
    "### Nested for Loops \n",
    "You can also nest a loop inside another. You can put a for loop inside a while, or a while inside a for, or a for inside a for, or a while inside a while.\n",
    "\n",
    "Or you can put a loop inside a loop inside a loop"
   ]
  },
  {
   "cell_type": "code",
   "execution_count": 26,
   "id": "ad50306f",
   "metadata": {},
   "outputs": [
    {
     "name": "stdout",
     "output_type": "stream",
     "text": [
      "* * * * \n",
      "* * * * \n",
      "* * * * \n",
      "* * * * \n"
     ]
    }
   ],
   "source": [
    "for i in range(4):\n",
    "    for j in range(4):\n",
    "        print(\"* \", end='')\n",
    "    print()"
   ]
  },
  {
   "cell_type": "code",
   "execution_count": 28,
   "id": "a6b989a7",
   "metadata": {},
   "outputs": [
    {
     "name": "stdout",
     "output_type": "stream",
     "text": [
      "* \n",
      "* * \n",
      "* * * \n",
      "* * * * \n"
     ]
    }
   ],
   "source": [
    "for i in range(4):\n",
    "    for j in range(i+1):\n",
    "        print(\"* \", end='')\n",
    "    print()"
   ]
  },
  {
   "cell_type": "markdown",
   "id": "82f0b648",
   "metadata": {},
   "source": [
    "Nested while loops to print the same pattern"
   ]
  },
  {
   "cell_type": "code",
   "execution_count": 32,
   "id": "2301554c",
   "metadata": {},
   "outputs": [
    {
     "name": "stdout",
     "output_type": "stream",
     "text": [
      "\n",
      "* \n",
      "* * \n",
      "* * * \n"
     ]
    }
   ],
   "source": [
    "i=4\n",
    "while(i>0):\n",
    "    j=4\n",
    "    while(j>i):\n",
    "        print(\"* \", end='')\n",
    "        j-=1\n",
    "    i-=1\n",
    "    print()"
   ]
  },
  {
   "cell_type": "code",
   "execution_count": 33,
   "id": "1ed7d9d8",
   "metadata": {},
   "outputs": [
    {
     "name": "stdout",
     "output_type": "stream",
     "text": [
      "* * * * \n",
      "* * * \n",
      "* * \n",
      "* \n"
     ]
    }
   ],
   "source": [
    "for i in range(4):\n",
    "    for j in range(4-i):\n",
    "        print(\"* \", end='')\n",
    "    print()"
   ]
  },
  {
   "cell_type": "markdown",
   "id": "81dd4c20",
   "metadata": {},
   "source": [
    "### Loop Control Statements"
   ]
  },
  {
   "cell_type": "markdown",
   "id": "c18f1b4a",
   "metadata": {},
   "source": [
    "Three keywords in Python- break, continue, and pass."
   ]
  },
  {
   "cell_type": "markdown",
   "id": "35cfdd04",
   "metadata": {},
   "source": [
    "#### a. break statement\n",
    "When you put a break statement in the body of a loop, the loop stops executing, and control shifts to the first statement outside it.\n",
    "\n",
    "You can put it in a for or while loop."
   ]
  },
  {
   "cell_type": "code",
   "execution_count": 35,
   "id": "5c9549c7",
   "metadata": {},
   "outputs": [
    {
     "name": "stdout",
     "output_type": "stream",
     "text": [
      "p\n",
      "y\n",
      "t\n",
      "h\n"
     ]
    }
   ],
   "source": [
    "for i in 'python':\n",
    "    print(i)\n",
    "    if i=='h':\n",
    "        break"
   ]
  },
  {
   "cell_type": "markdown",
   "id": "bbd0b8cd",
   "metadata": {},
   "source": [
    "#### b. continue statement\n",
    "When the program control reaches the continue statement, it skips the statements after ‘continue’.\n",
    "\n",
    "It then shifts to the next item in the sequence and executes the block of code for it. You can use it with both for and while loops."
   ]
  },
  {
   "cell_type": "code",
   "execution_count": 45,
   "id": "613b4913",
   "metadata": {},
   "outputs": [
    {
     "name": "stdout",
     "output_type": "stream",
     "text": [
      "0\n",
      "1\n",
      "2\n",
      "4\n"
     ]
    }
   ],
   "source": [
    "for i in range(5):\n",
    "    if i==3:\n",
    "        continue\n",
    "    print (i)"
   ]
  },
  {
   "cell_type": "code",
   "execution_count": 51,
   "id": "29c44353",
   "metadata": {},
   "outputs": [
    {
     "name": "stdout",
     "output_type": "stream",
     "text": [
      "s\n",
      "a\n",
      "l\n",
      "n\n",
      "i\n"
     ]
    }
   ],
   "source": [
    "for i in 'saloni':\n",
    "    if i=='o':\n",
    "        continue\n",
    "    print(i)\n",
    "    "
   ]
  },
  {
   "cell_type": "markdown",
   "id": "9fc08744",
   "metadata": {},
   "source": [
    "#### c. pass statement\n",
    "When we need a particular loop, class, or function in our program, but don’t know what goes in it, we place the pass statement in it.\n",
    "\n",
    "It is a null statement. The interpreter does not ignore it, but it performs a no-operation (NOP)."
   ]
  },
  {
   "cell_type": "code",
   "execution_count": 53,
   "id": "efcb2290",
   "metadata": {},
   "outputs": [
    {
     "name": "stdout",
     "output_type": "stream",
     "text": [
      "2\n",
      "4\n",
      "6\n",
      "8\n",
      "10\n"
     ]
    }
   ],
   "source": [
    "for i in range(1,11):\n",
    "    if(i%2!=0):\n",
    "        pass\n",
    "    else:\n",
    "        print(i)"
   ]
  },
  {
   "cell_type": "code",
   "execution_count": null,
   "id": "6d32901b",
   "metadata": {},
   "outputs": [],
   "source": []
  }
 ],
 "metadata": {
  "kernelspec": {
   "display_name": "Python 3 (ipykernel)",
   "language": "python",
   "name": "python3"
  },
  "language_info": {
   "codemirror_mode": {
    "name": "ipython",
    "version": 3
   },
   "file_extension": ".py",
   "mimetype": "text/x-python",
   "name": "python",
   "nbconvert_exporter": "python",
   "pygments_lexer": "ipython3",
   "version": "3.9.7"
  }
 },
 "nbformat": 4,
 "nbformat_minor": 5
}
