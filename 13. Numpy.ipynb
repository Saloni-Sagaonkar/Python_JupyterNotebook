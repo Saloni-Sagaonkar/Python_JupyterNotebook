{
 "cells": [
  {
   "cell_type": "markdown",
   "id": "64f1239a",
   "metadata": {},
   "source": [
    "# 13. Numpy"
   ]
  },
  {
   "cell_type": "markdown",
   "id": "c077c183",
   "metadata": {},
   "source": [
    "A library for Python, NumPy lets you work with huge, multidimensional matrices and arrays.\n",
    "\n",
    "Along with that, it provides a gamut of high-level functions to perform mathematical operations on these structures.\n",
    "\n",
    "The term ‘Numpy’ is a portmanteau of the words ‘NUMerical’ and ‘PYthon’."
   ]
  },
  {
   "cell_type": "markdown",
   "id": "b8570b23",
   "metadata": {},
   "source": [
    "### Features of Numpy"
   ]
  },
  {
   "cell_type": "markdown",
   "id": "1373e205",
   "metadata": {},
   "source": [
    "- NumPy stands on CPython, a non-optimizing bytecode interpreter.\n",
    "- Multidimensional arrays.\n",
    "- Functions and operators for these arrays.\n",
    "- Python Alternative to MATLAB.\n",
    "- ndarray- n-dimensional arrays.\n",
    "- Fourier transforms and shapes manipulation.\n",
    "- Linear algebra and random number generation."
   ]
  },
  {
   "cell_type": "markdown",
   "id": "61a02865",
   "metadata": {},
   "source": [
    "### Import Numpy"
   ]
  },
  {
   "cell_type": "code",
   "execution_count": 1,
   "id": "8e92b136",
   "metadata": {},
   "outputs": [],
   "source": [
    "import numpy as np"
   ]
  },
  {
   "cell_type": "markdown",
   "id": "bb5d12ab",
   "metadata": {},
   "source": [
    "### Numpy ndarray\n",
    "\n",
    "This is one of the most important features of numpy. ndarray is an n-dimensional array, a grid of values of the same kind.\n",
    "\n",
    "A tuple of nonnegative integers indexes this tuple. An array’s rank is its number of dimensions."
   ]
  },
  {
   "cell_type": "code",
   "execution_count": 2,
   "id": "d5f34830",
   "metadata": {},
   "outputs": [
    {
     "data": {
      "text/plain": [
       "numpy.ndarray"
      ]
     },
     "execution_count": 2,
     "metadata": {},
     "output_type": "execute_result"
    }
   ],
   "source": [
    "a = np.array([1,2,3])\n",
    "type(a)"
   ]
  },
  {
   "cell_type": "code",
   "execution_count": 3,
   "id": "9620f886",
   "metadata": {},
   "outputs": [
    {
     "data": {
      "text/plain": [
       "(3,)"
      ]
     },
     "execution_count": 3,
     "metadata": {},
     "output_type": "execute_result"
    }
   ],
   "source": [
    "a.shape      # (3,)-->1D"
   ]
  },
  {
   "cell_type": "code",
   "execution_count": 4,
   "id": "6b8bb311",
   "metadata": {},
   "outputs": [
    {
     "data": {
      "text/plain": [
       "(1, 3)"
      ]
     },
     "execution_count": 4,
     "metadata": {},
     "output_type": "execute_result"
    }
   ],
   "source": [
    "a[0], a[2]"
   ]
  },
  {
   "cell_type": "code",
   "execution_count": 5,
   "id": "0fcd4f28",
   "metadata": {},
   "outputs": [
    {
     "data": {
      "text/plain": [
       "array([1, 5, 3])"
      ]
     },
     "execution_count": 5,
     "metadata": {},
     "output_type": "execute_result"
    }
   ],
   "source": [
    "a[1]=5\n",
    "a"
   ]
  },
  {
   "cell_type": "markdown",
   "id": "78a562d8",
   "metadata": {},
   "source": [
    "Another example:"
   ]
  },
  {
   "cell_type": "code",
   "execution_count": 7,
   "id": "45d97d6e",
   "metadata": {},
   "outputs": [
    {
     "data": {
      "text/plain": [
       "array([[4, 5, 6],\n",
       "       [7, 8, 9]])"
      ]
     },
     "execution_count": 7,
     "metadata": {},
     "output_type": "execute_result"
    }
   ],
   "source": [
    "b = np.array([[4,5,6],[7,8,9]])\n",
    "b"
   ]
  },
  {
   "cell_type": "code",
   "execution_count": 8,
   "id": "a7308e60",
   "metadata": {},
   "outputs": [
    {
     "data": {
      "text/plain": [
       "5"
      ]
     },
     "execution_count": 8,
     "metadata": {},
     "output_type": "execute_result"
    }
   ],
   "source": [
    "b[0,1]"
   ]
  },
  {
   "cell_type": "code",
   "execution_count": 9,
   "id": "f1bfb1b6",
   "metadata": {},
   "outputs": [
    {
     "data": {
      "text/plain": [
       "(2, 3)"
      ]
     },
     "execution_count": 9,
     "metadata": {},
     "output_type": "execute_result"
    }
   ],
   "source": [
    "b.shape"
   ]
  },
  {
   "cell_type": "code",
   "execution_count": 10,
   "id": "38bd3e7b",
   "metadata": {},
   "outputs": [
    {
     "data": {
      "text/plain": [
       "6"
      ]
     },
     "execution_count": 10,
     "metadata": {},
     "output_type": "execute_result"
    }
   ],
   "source": [
    "b.size"
   ]
  },
  {
   "cell_type": "code",
   "execution_count": 12,
   "id": "594585f6",
   "metadata": {},
   "outputs": [
    {
     "data": {
      "text/plain": [
       "array([[4, 2, 6],\n",
       "       [7, 8, 9]])"
      ]
     },
     "execution_count": 12,
     "metadata": {},
     "output_type": "execute_result"
    }
   ],
   "source": [
    "b[0,1]= 2\n",
    "b"
   ]
  },
  {
   "cell_type": "markdown",
   "id": "849fec12",
   "metadata": {},
   "source": [
    "### Create NumPy Array"
   ]
  },
  {
   "cell_type": "code",
   "execution_count": 14,
   "id": "eca0bc1d",
   "metadata": {},
   "outputs": [
    {
     "data": {
      "text/plain": [
       "array([0, 1, 2, 3, 4, 5, 6])"
      ]
     },
     "execution_count": 14,
     "metadata": {},
     "output_type": "execute_result"
    }
   ],
   "source": [
    "np.arange(7)  #this is like range in python"
   ]
  },
  {
   "cell_type": "code",
   "execution_count": 15,
   "id": "e4353f60",
   "metadata": {},
   "outputs": [
    {
     "data": {
      "text/plain": [
       "array([[0.97146497, 0.02186754, 0.06203961],\n",
       "       [0.45613283, 0.1221603 , 0.53595702],\n",
       "       [0.39903607, 0.67210078, 0.7479507 ]])"
      ]
     },
     "execution_count": 15,
     "metadata": {},
     "output_type": "execute_result"
    }
   ],
   "source": [
    "np.random.random((3,3))    #Fills random values"
   ]
  },
  {
   "cell_type": "code",
   "execution_count": 17,
   "id": "5f24ed1a",
   "metadata": {},
   "outputs": [
    {
     "data": {
      "text/plain": [
       "array([[1., 1., 1., 1.],\n",
       "       [1., 1., 1., 1.]])"
      ]
     },
     "execution_count": 17,
     "metadata": {},
     "output_type": "execute_result"
    }
   ],
   "source": [
    "np.ones((2,4))"
   ]
  },
  {
   "cell_type": "code",
   "execution_count": 18,
   "id": "355838d0",
   "metadata": {},
   "outputs": [
    {
     "data": {
      "text/plain": [
       "array([[0., 0.]])"
      ]
     },
     "execution_count": 18,
     "metadata": {},
     "output_type": "execute_result"
    }
   ],
   "source": [
    "np.zeros((1,2))"
   ]
  },
  {
   "cell_type": "code",
   "execution_count": 19,
   "id": "6f1bbcbd",
   "metadata": {},
   "outputs": [
    {
     "data": {
      "text/plain": [
       "array([[1., 0., 0.],\n",
       "       [0., 1., 0.],\n",
       "       [0., 0., 1.]])"
      ]
     },
     "execution_count": 19,
     "metadata": {},
     "output_type": "execute_result"
    }
   ],
   "source": [
    "np.eye(3)     # Identity matix"
   ]
  },
  {
   "cell_type": "code",
   "execution_count": 20,
   "id": "21456df4",
   "metadata": {},
   "outputs": [
    {
     "data": {
      "text/plain": [
       "array([[7, 7],\n",
       "       [7, 7],\n",
       "       [7, 7]])"
      ]
     },
     "execution_count": 20,
     "metadata": {},
     "output_type": "execute_result"
    }
   ],
   "source": [
    "np.full((3,2),7)  # Matrix of constants"
   ]
  },
  {
   "cell_type": "code",
   "execution_count": 25,
   "id": "7cc1d459",
   "metadata": {},
   "outputs": [
    {
     "data": {
      "text/plain": [
       "array([[1., 1., 1.],\n",
       "       [1., 1., 1.]])"
      ]
     },
     "execution_count": 25,
     "metadata": {},
     "output_type": "execute_result"
    }
   ],
   "source": [
    "np.empty([2,3])     # Empty array"
   ]
  },
  {
   "cell_type": "code",
   "execution_count": 27,
   "id": "f9a0d72e",
   "metadata": {},
   "outputs": [
    {
     "data": {
      "text/plain": [
       "array([[[[1, 2, 3]]]])"
      ]
     },
     "execution_count": 27,
     "metadata": {},
     "output_type": "execute_result"
    }
   ],
   "source": [
    "np.array([1,2,3], ndmin=4)   #minimum dimension"
   ]
  },
  {
   "cell_type": "code",
   "execution_count": 28,
   "id": "8fafb861",
   "metadata": {},
   "outputs": [
    {
     "data": {
      "text/plain": [
       "array([1.+0.j, 2.+0.j, 3.+0.j])"
      ]
     },
     "execution_count": 28,
     "metadata": {},
     "output_type": "execute_result"
    }
   ],
   "source": [
    "np.array([1,2,3], dtype=complex)     #data type"
   ]
  },
  {
   "cell_type": "markdown",
   "id": "a1b958de",
   "metadata": {},
   "source": [
    "### Numpy-Data Types"
   ]
  },
  {
   "cell_type": "markdown",
   "id": "949868e6",
   "metadata": {},
   "source": [
    "A NumPy array holds elements of the same kind.\n",
    "\n",
    "If while creating a NumPy array, you do not specify the data type, NumPy will decide it for you.\n",
    "\n",
    "The following data types-\n",
    "\n",
    "bool_, int_, intc, intp, int8, int16, int32, int64, uint8, uint16, uint32, uint64, float_, float16, float32, float64, complex_, complex64, complex128"
   ]
  },
  {
   "cell_type": "code",
   "execution_count": 29,
   "id": "f356b85f",
   "metadata": {},
   "outputs": [
    {
     "data": {
      "text/plain": [
       "dtype('int32')"
      ]
     },
     "execution_count": 29,
     "metadata": {},
     "output_type": "execute_result"
    }
   ],
   "source": [
    "np.dtype(np.int32)"
   ]
  },
  {
   "cell_type": "code",
   "execution_count": 33,
   "id": "c0f9debb",
   "metadata": {},
   "outputs": [
    {
     "data": {
      "text/plain": [
       "dtype('int32')"
      ]
     },
     "execution_count": 33,
     "metadata": {},
     "output_type": "execute_result"
    }
   ],
   "source": [
    "np.dtype('i4')"
   ]
  },
  {
   "cell_type": "code",
   "execution_count": 35,
   "id": "8531bd27",
   "metadata": {},
   "outputs": [
    {
     "data": {
      "text/plain": [
       "dtype('float64')"
      ]
     },
     "execution_count": 35,
     "metadata": {},
     "output_type": "execute_result"
    }
   ],
   "source": [
    "np.dtype('f8')"
   ]
  },
  {
   "cell_type": "markdown",
   "id": "b0528ad9",
   "metadata": {},
   "source": [
    "### Functions of NumPy Array"
   ]
  },
  {
   "cell_type": "markdown",
   "id": "f4fa3c3e",
   "metadata": {},
   "source": [
    "Converting from 2D to 1D array"
   ]
  },
  {
   "cell_type": "code",
   "execution_count": 86,
   "id": "1f2977e8",
   "metadata": {},
   "outputs": [
    {
     "data": {
      "text/plain": [
       "array([[1, 2, 3],\n",
       "       [4, 5, 6]])"
      ]
     },
     "execution_count": 86,
     "metadata": {},
     "output_type": "execute_result"
    }
   ],
   "source": [
    "from numpy import *\n",
    "a = array([[1,2,3],[4,5,6]])\n",
    "a"
   ]
  },
  {
   "cell_type": "code",
   "execution_count": 87,
   "id": "a0102a54",
   "metadata": {},
   "outputs": [
    {
     "name": "stdout",
     "output_type": "stream",
     "text": [
      "[1 2 3 4 5 6]\n"
     ]
    }
   ],
   "source": [
    "b=a.flatten()    #2D to 1D\n",
    "print(b)"
   ]
  },
  {
   "cell_type": "code",
   "execution_count": 36,
   "id": "4ebde7af",
   "metadata": {},
   "outputs": [
    {
     "data": {
      "text/plain": [
       "array([[1, 2],\n",
       "       [3, 4],\n",
       "       [5, 6]])"
      ]
     },
     "execution_count": 36,
     "metadata": {},
     "output_type": "execute_result"
    }
   ],
   "source": [
    "a=np.array([[1,2,3],[4,5,6]])\n",
    "a.reshape(3,2)                   "
   ]
  },
  {
   "cell_type": "code",
   "execution_count": 37,
   "id": "1a6869c5",
   "metadata": {},
   "outputs": [
    {
     "data": {
      "text/plain": [
       "2"
      ]
     },
     "execution_count": 37,
     "metadata": {},
     "output_type": "execute_result"
    }
   ],
   "source": [
    "a.ndim   #number of array dimensions "
   ]
  },
  {
   "cell_type": "code",
   "execution_count": 38,
   "id": "d84975c9",
   "metadata": {},
   "outputs": [
    {
     "data": {
      "text/plain": [
       "4"
      ]
     },
     "execution_count": 38,
     "metadata": {},
     "output_type": "execute_result"
    }
   ],
   "source": [
    "np.array([[1,2,3],[4,5,6]]).itemsize     #Length of each element in bytes"
   ]
  },
  {
   "cell_type": "code",
   "execution_count": 42,
   "id": "47a63a31",
   "metadata": {},
   "outputs": [
    {
     "data": {
      "text/plain": [
       "1"
      ]
     },
     "execution_count": 42,
     "metadata": {},
     "output_type": "execute_result"
    }
   ],
   "source": [
    "np.array([[1,2,3],[4,5,6]],dtype=np.int8).itemsize"
   ]
  },
  {
   "cell_type": "code",
   "execution_count": 45,
   "id": "20b147c5",
   "metadata": {},
   "outputs": [
    {
     "data": {
      "text/plain": [
       "2"
      ]
     },
     "execution_count": 45,
     "metadata": {},
     "output_type": "execute_result"
    }
   ],
   "source": [
    "np.array([[1.,2.,3.],[4.,5.,6.]],dtype=np.float16).itemsize"
   ]
  },
  {
   "cell_type": "code",
   "execution_count": 46,
   "id": "8bb69461",
   "metadata": {},
   "outputs": [
    {
     "data": {
      "text/plain": [
       "  C_CONTIGUOUS : True\n",
       "  F_CONTIGUOUS : False\n",
       "  OWNDATA : True\n",
       "  WRITEABLE : True\n",
       "  ALIGNED : True\n",
       "  WRITEBACKIFCOPY : False\n",
       "  UPDATEIFCOPY : False"
      ]
     },
     "execution_count": 46,
     "metadata": {},
     "output_type": "execute_result"
    }
   ],
   "source": [
    "a.flags              #REFER- https://numpy.org/doc/stable/reference/generated/numpy.ndarray.flags.html"
   ]
  },
  {
   "cell_type": "code",
   "execution_count": 88,
   "id": "d263a497",
   "metadata": {},
   "outputs": [
    {
     "name": "stdout",
     "output_type": "stream",
     "text": [
      "[[1 2 3]\n",
      " [4 5 6]\n",
      " [7 8 9]]\n"
     ]
    }
   ],
   "source": [
    "from numpy import *\n",
    "m = matrix('1 2 3; 4 5 6; 7 8 9')     #2D matrix\n",
    "print (m)"
   ]
  },
  {
   "cell_type": "code",
   "execution_count": 89,
   "id": "4010607f",
   "metadata": {},
   "outputs": [
    {
     "data": {
      "text/plain": [
       "array([1, 5, 9])"
      ]
     },
     "execution_count": 89,
     "metadata": {},
     "output_type": "execute_result"
    }
   ],
   "source": [
    "diagonal(m)     # print diagonal elements"
   ]
  },
  {
   "cell_type": "code",
   "execution_count": 92,
   "id": "80e13ae8",
   "metadata": {},
   "outputs": [
    {
     "data": {
      "text/plain": [
       "9"
      ]
     },
     "execution_count": 92,
     "metadata": {},
     "output_type": "execute_result"
    }
   ],
   "source": [
    "m.max()"
   ]
  },
  {
   "cell_type": "code",
   "execution_count": 93,
   "id": "38acc782",
   "metadata": {},
   "outputs": [
    {
     "data": {
      "text/plain": [
       "1"
      ]
     },
     "execution_count": 93,
     "metadata": {},
     "output_type": "execute_result"
    }
   ],
   "source": [
    "m.min()"
   ]
  },
  {
   "cell_type": "markdown",
   "id": "58257215",
   "metadata": {},
   "source": [
    "### Numpy Array Indexing"
   ]
  },
  {
   "cell_type": "code",
   "execution_count": 48,
   "id": "8269fb82",
   "metadata": {},
   "outputs": [
    {
     "data": {
      "text/plain": [
       "array([[2, 3],\n",
       "       [5, 6]])"
      ]
     },
     "execution_count": 48,
     "metadata": {},
     "output_type": "execute_result"
    }
   ],
   "source": [
    "a= np.array([[1,2,3],[4,5,6],[7,8,9]])\n",
    "b = a[:2, 1:3]\n",
    "b"
   ]
  },
  {
   "cell_type": "code",
   "execution_count": 50,
   "id": "b37268b3",
   "metadata": {},
   "outputs": [
    {
     "data": {
      "text/plain": [
       "array([[1, 2],\n",
       "       [4, 5],\n",
       "       [7, 8]])"
      ]
     },
     "execution_count": 50,
     "metadata": {},
     "output_type": "execute_result"
    }
   ],
   "source": [
    "b= a[0:3, 0:2]\n",
    "b"
   ]
  },
  {
   "cell_type": "code",
   "execution_count": 51,
   "id": "e0b659a8",
   "metadata": {},
   "outputs": [
    {
     "data": {
      "text/plain": [
       "6"
      ]
     },
     "execution_count": 51,
     "metadata": {},
     "output_type": "execute_result"
    }
   ],
   "source": [
    "a[1,2]"
   ]
  },
  {
   "cell_type": "code",
   "execution_count": 52,
   "id": "1992c7b5",
   "metadata": {},
   "outputs": [
    {
     "data": {
      "text/plain": [
       "array([[36,  2,  3],\n",
       "       [ 4,  5,  6],\n",
       "       [ 7,  8,  9]])"
      ]
     },
     "execution_count": 52,
     "metadata": {},
     "output_type": "execute_result"
    }
   ],
   "source": [
    "b[0,0]=36\n",
    "a"
   ]
  },
  {
   "cell_type": "code",
   "execution_count": 53,
   "id": "cdf5886c",
   "metadata": {},
   "outputs": [
    {
     "data": {
      "text/plain": [
       "array([[4, 5, 6],\n",
       "       [7, 8, 9]])"
      ]
     },
     "execution_count": 53,
     "metadata": {},
     "output_type": "execute_result"
    }
   ],
   "source": [
    "a[1:]"
   ]
  },
  {
   "cell_type": "code",
   "execution_count": 54,
   "id": "904f205d",
   "metadata": {},
   "outputs": [
    {
     "data": {
      "text/plain": [
       "array([[4, 5, 6]])"
      ]
     },
     "execution_count": 54,
     "metadata": {},
     "output_type": "execute_result"
    }
   ],
   "source": [
    "a[1:2, :]"
   ]
  },
  {
   "cell_type": "code",
   "execution_count": 55,
   "id": "23c4e3cf",
   "metadata": {},
   "outputs": [
    {
     "data": {
      "text/plain": [
       "array([[6]])"
      ]
     },
     "execution_count": 55,
     "metadata": {},
     "output_type": "execute_result"
    }
   ],
   "source": [
    "a[1:2, 2:3]"
   ]
  },
  {
   "cell_type": "code",
   "execution_count": 56,
   "id": "b5ad1054",
   "metadata": {},
   "outputs": [
    {
     "data": {
      "text/plain": [
       "array([2, 5, 8])"
      ]
     },
     "execution_count": 56,
     "metadata": {},
     "output_type": "execute_result"
    }
   ],
   "source": [
    "a[:,1]"
   ]
  },
  {
   "cell_type": "code",
   "execution_count": 57,
   "id": "d9df8bfd",
   "metadata": {},
   "outputs": [
    {
     "data": {
      "text/plain": [
       "array([36,  4,  7])"
      ]
     },
     "execution_count": 57,
     "metadata": {},
     "output_type": "execute_result"
    }
   ],
   "source": [
    "a[:,0]"
   ]
  },
  {
   "cell_type": "markdown",
   "id": "535030d5",
   "metadata": {},
   "source": [
    "#### 1. Integer Indexing\n",
    "It is possible to create an array from another."
   ]
  },
  {
   "cell_type": "code",
   "execution_count": 58,
   "id": "82997ba0",
   "metadata": {},
   "outputs": [
    {
     "name": "stderr",
     "output_type": "stream",
     "text": [
      "C:\\Users\\DELL\\AppData\\Local\\Temp/ipykernel_2544/1075112984.py:2: FutureWarning: Using a non-tuple sequence for multidimensional indexing is deprecated; use `arr[tuple(seq)]` instead of `arr[seq]`. In the future this will be interpreted as an array index, `arr[np.array(seq)]`, which will result either in an error or a different result.\n",
      "  a[[[0,1,2],[0,1,0]]]             #Prints elements at [0,0], [1,1], and [2,0]\n"
     ]
    },
    {
     "data": {
      "text/plain": [
       "array([1, 4, 5])"
      ]
     },
     "execution_count": 58,
     "metadata": {},
     "output_type": "execute_result"
    }
   ],
   "source": [
    "a= np.array([[1,2],[3,4],[5,6]])\n",
    "a[[[0,1,2],[0,1,0]]]             #Prints elements at [0,0], [1,1], and [2,0]"
   ]
  },
  {
   "cell_type": "code",
   "execution_count": 59,
   "id": "c5b9976f",
   "metadata": {},
   "outputs": [
    {
     "data": {
      "text/plain": [
       "array([0, 2, 0, 1])"
      ]
     },
     "execution_count": 59,
     "metadata": {},
     "output_type": "execute_result"
    }
   ],
   "source": [
    "a = np.array([[1,2,3], [4,5,6], [7,8,9], [10, 11, 12]])\n",
    "b = np.array([0, 2, 0, 1])\n",
    "b"
   ]
  },
  {
   "cell_type": "code",
   "execution_count": 60,
   "id": "83246fe8",
   "metadata": {},
   "outputs": [
    {
     "data": {
      "text/plain": [
       "array([ 1,  6,  7, 11])"
      ]
     },
     "execution_count": 60,
     "metadata": {},
     "output_type": "execute_result"
    }
   ],
   "source": [
    "a[np.arange(4),b]"
   ]
  },
  {
   "cell_type": "code",
   "execution_count": 62,
   "id": "f232dc83",
   "metadata": {},
   "outputs": [
    {
     "data": {
      "text/plain": [
       "array([[11,  2,  3],\n",
       "       [ 4,  5, 16],\n",
       "       [17,  8,  9],\n",
       "       [10, 21, 12]])"
      ]
     },
     "execution_count": 62,
     "metadata": {},
     "output_type": "execute_result"
    }
   ],
   "source": [
    "a[np.arange(4), b]+=10\n",
    "a"
   ]
  },
  {
   "cell_type": "markdown",
   "id": "63f7eb9c",
   "metadata": {},
   "source": [
    "#### 2. Boolean Indexing\n",
    "It is possible to create an array from another."
   ]
  },
  {
   "cell_type": "code",
   "execution_count": 63,
   "id": "fd1e21ff",
   "metadata": {},
   "outputs": [
    {
     "data": {
      "text/plain": [
       "array([[False, False],\n",
       "       [False,  True],\n",
       "       [ True,  True]])"
      ]
     },
     "execution_count": 63,
     "metadata": {},
     "output_type": "execute_result"
    }
   ],
   "source": [
    "a= np.array([[1,2],[3,4],[5,6]])\n",
    "boolean=(a>3)\n",
    "boolean"
   ]
  },
  {
   "cell_type": "code",
   "execution_count": 64,
   "id": "95faa294",
   "metadata": {},
   "outputs": [
    {
     "data": {
      "text/plain": [
       "array([4, 5, 6])"
      ]
     },
     "execution_count": 64,
     "metadata": {},
     "output_type": "execute_result"
    }
   ],
   "source": [
    "a[boolean]"
   ]
  },
  {
   "cell_type": "markdown",
   "id": "29a06922",
   "metadata": {},
   "source": [
    "### Mathematical Functions on Arrays in NumPy"
   ]
  },
  {
   "cell_type": "code",
   "execution_count": 67,
   "id": "d50a1e62",
   "metadata": {},
   "outputs": [
    {
     "data": {
      "text/plain": [
       "array([[ 8, 10, 12],\n",
       "       [14, 16, 18]])"
      ]
     },
     "execution_count": 67,
     "metadata": {},
     "output_type": "execute_result"
    }
   ],
   "source": [
    "a=np.array([[1,2,3],[4,5,6]])\n",
    "b=np.array([[7,8,9],[10,11,12]])\n",
    "np.add(a,b)                           #a+b does the same"
   ]
  },
  {
   "cell_type": "code",
   "execution_count": 68,
   "id": "6c0d6e35",
   "metadata": {},
   "outputs": [
    {
     "data": {
      "text/plain": [
       "array([[-6, -6, -6],\n",
       "       [-6, -6, -6]])"
      ]
     },
     "execution_count": 68,
     "metadata": {},
     "output_type": "execute_result"
    }
   ],
   "source": [
    "np.subtract(a,b)      #a-b"
   ]
  },
  {
   "cell_type": "code",
   "execution_count": 69,
   "id": "df2ac12c",
   "metadata": {},
   "outputs": [
    {
     "data": {
      "text/plain": [
       "array([[ 7, 16, 27],\n",
       "       [40, 55, 72]])"
      ]
     },
     "execution_count": 69,
     "metadata": {},
     "output_type": "execute_result"
    }
   ],
   "source": [
    "np.multiply(a,b)       #a*b"
   ]
  },
  {
   "cell_type": "code",
   "execution_count": 70,
   "id": "642264d1",
   "metadata": {},
   "outputs": [
    {
     "data": {
      "text/plain": [
       "array([[0.14285714, 0.25      , 0.33333333],\n",
       "       [0.4       , 0.45454545, 0.5       ]])"
      ]
     },
     "execution_count": 70,
     "metadata": {},
     "output_type": "execute_result"
    }
   ],
   "source": [
    "np.divide(a,b)        #a/b"
   ]
  },
  {
   "cell_type": "code",
   "execution_count": 72,
   "id": "e272c0c3",
   "metadata": {},
   "outputs": [
    {
     "data": {
      "text/plain": [
       "array([[1.        , 1.41421356, 1.73205081],\n",
       "       [2.        , 2.23606798, 2.44948974]])"
      ]
     },
     "execution_count": 72,
     "metadata": {},
     "output_type": "execute_result"
    }
   ],
   "source": [
    "np.sqrt(a)            #square root"
   ]
  },
  {
   "cell_type": "code",
   "execution_count": 73,
   "id": "9caa8058",
   "metadata": {},
   "outputs": [
    {
     "data": {
      "text/plain": [
       "10"
      ]
     },
     "execution_count": 73,
     "metadata": {},
     "output_type": "execute_result"
    }
   ],
   "source": [
    "a=np.array([[1,2],[3,4]])\n",
    "np.sum(a)"
   ]
  },
  {
   "cell_type": "code",
   "execution_count": 74,
   "id": "1803e93c",
   "metadata": {},
   "outputs": [
    {
     "data": {
      "text/plain": [
       "array([4, 6])"
      ]
     },
     "execution_count": 74,
     "metadata": {},
     "output_type": "execute_result"
    }
   ],
   "source": [
    "np.sum(a, axis=0)   #sum of each column"
   ]
  },
  {
   "cell_type": "code",
   "execution_count": 75,
   "id": "a9f44a40",
   "metadata": {},
   "outputs": [
    {
     "data": {
      "text/plain": [
       "array([3, 7])"
      ]
     },
     "execution_count": 75,
     "metadata": {},
     "output_type": "execute_result"
    }
   ],
   "source": [
    "np.sum(a,axis=1)    #Sum of each row"
   ]
  },
  {
   "cell_type": "code",
   "execution_count": 76,
   "id": "8f17ffdd",
   "metadata": {},
   "outputs": [
    {
     "data": {
      "text/plain": [
       "array([[1, 3],\n",
       "       [2, 4]])"
      ]
     },
     "execution_count": 76,
     "metadata": {},
     "output_type": "execute_result"
    }
   ],
   "source": [
    "a.T      #transpose the matrix"
   ]
  },
  {
   "cell_type": "code",
   "execution_count": 78,
   "id": "07fc2409",
   "metadata": {},
   "outputs": [
    {
     "data": {
      "text/plain": [
       "array([5, 4, 6])"
      ]
     },
     "execution_count": 78,
     "metadata": {},
     "output_type": "execute_result"
    }
   ],
   "source": [
    "np.array([5,4,6]).T      "
   ]
  },
  {
   "cell_type": "markdown",
   "id": "74bd2799",
   "metadata": {},
   "source": [
    "Another Example:"
   ]
  },
  {
   "cell_type": "code",
   "execution_count": 81,
   "id": "dd019925",
   "metadata": {},
   "outputs": [],
   "source": [
    "x=np.array([[1,2],[3,4]])\n",
    "y=np.array([[5,6],[7,8]])\n",
    "v=np.array([9,10])\n",
    "w=np.array([11,12])"
   ]
  },
  {
   "cell_type": "code",
   "execution_count": 82,
   "id": "431922f1",
   "metadata": {},
   "outputs": [
    {
     "data": {
      "text/plain": [
       "219"
      ]
     },
     "execution_count": 82,
     "metadata": {},
     "output_type": "execute_result"
    }
   ],
   "source": [
    "v.dot(w)                      #Same as np.dot(v,w)\n",
    "                              #(9*11) + (10*12)=219"
   ]
  },
  {
   "cell_type": "code",
   "execution_count": 83,
   "id": "20479890",
   "metadata": {},
   "outputs": [
    {
     "data": {
      "text/plain": [
       "array([29, 67])"
      ]
     },
     "execution_count": 83,
     "metadata": {},
     "output_type": "execute_result"
    }
   ],
   "source": [
    "x.dot(v)"
   ]
  },
  {
   "cell_type": "code",
   "execution_count": 85,
   "id": "46c6875f",
   "metadata": {},
   "outputs": [
    {
     "data": {
      "text/plain": [
       "array([[19, 22],\n",
       "       [43, 50]])"
      ]
     },
     "execution_count": 85,
     "metadata": {},
     "output_type": "execute_result"
    }
   ],
   "source": [
    "x.dot(y)                    # (1*5)+(2*7) =19, (1*6))+(2*8)=22\n",
    "                            # (3*5)+(4*7) =43, (3*6)+(4*8)=50"
   ]
  },
  {
   "cell_type": "code",
   "execution_count": 94,
   "id": "300ed3f9",
   "metadata": {},
   "outputs": [
    {
     "name": "stdout",
     "output_type": "stream",
     "text": [
      "[[ 30  17  35]\n",
      " [ 72  47  92]\n",
      " [114  77 149]]\n"
     ]
    }
   ],
   "source": [
    "m1 = matrix('1 2 3; 4 5 6; 7 8 9')\n",
    "m2 = matrix('5 6 7; 2 1 8; 7 3 4')\n",
    "m = m1*m2\n",
    "print(m)"
   ]
  },
  {
   "cell_type": "code",
   "execution_count": null,
   "id": "0449cdc5",
   "metadata": {},
   "outputs": [],
   "source": []
  }
 ],
 "metadata": {
  "kernelspec": {
   "display_name": "Python 3 (ipykernel)",
   "language": "python",
   "name": "python3"
  },
  "language_info": {
   "codemirror_mode": {
    "name": "ipython",
    "version": 3
   },
   "file_extension": ".py",
   "mimetype": "text/x-python",
   "name": "python",
   "nbconvert_exporter": "python",
   "pygments_lexer": "ipython3",
   "version": "3.9.7"
  }
 },
 "nbformat": 4,
 "nbformat_minor": 5
}
