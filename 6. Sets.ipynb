{
 "cells": [
  {
   "cell_type": "markdown",
   "id": "1b4e8c2b",
   "metadata": {},
   "source": [
    "# 6. Sets\n",
    "A set can have a list of values. Define it using curly braces\n",
    "\n",
    "It is mutable. You can change its elements or add more."
   ]
  },
  {
   "cell_type": "code",
   "execution_count": 5,
   "id": "28414784",
   "metadata": {},
   "outputs": [
    {
     "data": {
      "text/plain": [
       "{1, 2, 3}"
      ]
     },
     "execution_count": 5,
     "metadata": {},
     "output_type": "execute_result"
    }
   ],
   "source": [
    "a = {1, 3, 2}\n",
    "a"
   ]
  },
  {
   "cell_type": "markdown",
   "id": "c73f7c2e",
   "metadata": {},
   "source": [
    "It returns only one instance of any value present more than once."
   ]
  },
  {
   "cell_type": "code",
   "execution_count": 4,
   "id": "108ec8bf",
   "metadata": {},
   "outputs": [
    {
     "data": {
      "text/plain": [
       "{1, 2, 3}"
      ]
     },
     "execution_count": 4,
     "metadata": {},
     "output_type": "execute_result"
    }
   ],
   "source": [
    "a = {1, 2, 2, 3}\n",
    "a"
   ]
  },
  {
   "cell_type": "markdown",
   "id": "5242bda5",
   "metadata": {},
   "source": [
    " A set is unordered, so it doesn’t support indexing."
   ]
  },
  {
   "cell_type": "code",
   "execution_count": 6,
   "id": "828e1e81",
   "metadata": {},
   "outputs": [
    {
     "ename": "TypeError",
     "evalue": "'set' object is not subscriptable",
     "output_type": "error",
     "traceback": [
      "\u001b[1;31m---------------------------------------------------------------------------\u001b[0m",
      "\u001b[1;31mTypeError\u001b[0m                                 Traceback (most recent call last)",
      "\u001b[1;32m~\\AppData\\Local\\Temp/ipykernel_13532/4164697690.py\u001b[0m in \u001b[0;36m<module>\u001b[1;34m\u001b[0m\n\u001b[1;32m----> 1\u001b[1;33m \u001b[0ma\u001b[0m\u001b[1;33m[\u001b[0m\u001b[1;36m2\u001b[0m\u001b[1;33m]\u001b[0m\u001b[1;33m\u001b[0m\u001b[1;33m\u001b[0m\u001b[0m\n\u001b[0m",
      "\u001b[1;31mTypeError\u001b[0m: 'set' object is not subscriptable"
     ]
    }
   ],
   "source": [
    "a[2]"
   ]
  },
  {
   "cell_type": "markdown",
   "id": "78d731b2",
   "metadata": {},
   "source": [
    "### 6.1 Set methods\n",
    "\n",
    "#### a. add()\n"
   ]
  },
  {
   "cell_type": "code",
   "execution_count": 9,
   "id": "94b205d2",
   "metadata": {},
   "outputs": [
    {
     "data": {
      "text/plain": [
       "{1, 2, 3, 4, 5}"
      ]
     },
     "execution_count": 9,
     "metadata": {},
     "output_type": "execute_result"
    }
   ],
   "source": [
    "a = {1, 2, 3, 4}\n",
    "a.add(5)\n",
    "a"
   ]
  },
  {
   "cell_type": "markdown",
   "id": "32867267",
   "metadata": {},
   "source": [
    "#### b. remove()"
   ]
  },
  {
   "cell_type": "code",
   "execution_count": 27,
   "id": "4eb956a8",
   "metadata": {},
   "outputs": [
    {
     "data": {
      "text/plain": [
       "{1, 2, 4, 5, 6}"
      ]
     },
     "execution_count": 27,
     "metadata": {},
     "output_type": "execute_result"
    }
   ],
   "source": [
    "p = {1, 2, 3, 4, 5, 6}\n",
    "p.remove(3)\n",
    "p"
   ]
  },
  {
   "cell_type": "code",
   "execution_count": null,
   "id": "2f1c5b7e",
   "metadata": {},
   "outputs": [],
   "source": []
  }
 ],
 "metadata": {
  "kernelspec": {
   "display_name": "Python 3 (ipykernel)",
   "language": "python",
   "name": "python3"
  },
  "language_info": {
   "codemirror_mode": {
    "name": "ipython",
    "version": 3
   },
   "file_extension": ".py",
   "mimetype": "text/x-python",
   "name": "python",
   "nbconvert_exporter": "python",
   "pygments_lexer": "ipython3",
   "version": "3.9.7"
  }
 },
 "nbformat": 4,
 "nbformat_minor": 5
}
