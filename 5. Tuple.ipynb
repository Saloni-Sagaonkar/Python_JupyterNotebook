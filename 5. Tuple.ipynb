{
 "cells": [
  {
   "cell_type": "markdown",
   "id": "d5cbbc09",
   "metadata": {},
   "source": [
    "# 5. Tuple"
   ]
  },
  {
   "cell_type": "markdown",
   "id": "4521153f",
   "metadata": {},
   "source": [
    "A tuple is like a list. You declare it using parentheses instead.\n",
    "\n",
    "It can hold a sequence of items. The difference is that it is immutable."
   ]
  },
  {
   "cell_type": "code",
   "execution_count": 1,
   "id": "53ed7002",
   "metadata": {},
   "outputs": [
    {
     "data": {
      "text/plain": [
       "('Maths', 'Science', 'English')"
      ]
     },
     "execution_count": 1,
     "metadata": {},
     "output_type": "execute_result"
    }
   ],
   "source": [
    "subjects =('Maths', 'Science', 'English')\n",
    "subjects"
   ]
  },
  {
   "cell_type": "code",
   "execution_count": 2,
   "id": "28b5d5c1",
   "metadata": {},
   "outputs": [
    {
     "data": {
      "text/plain": [
       "tuple"
      ]
     },
     "execution_count": 2,
     "metadata": {},
     "output_type": "execute_result"
    }
   ],
   "source": [
    "type(subjects)"
   ]
  },
  {
   "cell_type": "markdown",
   "id": "1255fbe5",
   "metadata": {},
   "source": [
    "### 5.1 Creating a tuple with a single item "
   ]
  },
  {
   "cell_type": "code",
   "execution_count": 3,
   "id": "450efe0d",
   "metadata": {},
   "outputs": [
    {
     "data": {
      "text/plain": [
       "int"
      ]
     },
     "execution_count": 3,
     "metadata": {},
     "output_type": "execute_result"
    }
   ],
   "source": [
    "a = (1)\n",
    "type(a)         #the type() method supposed to return class'tuple'"
   ]
  },
  {
   "cell_type": "code",
   "execution_count": 4,
   "id": "d2127cdc",
   "metadata": {},
   "outputs": [
    {
     "data": {
      "text/plain": [
       "tuple"
      ]
     },
     "execution_count": 4,
     "metadata": {},
     "output_type": "execute_result"
    }
   ],
   "source": [
    "a = (1,)       #add comma after the item\n",
    "type(a)"
   ]
  },
  {
   "cell_type": "code",
   "execution_count": 5,
   "id": "910641b1",
   "metadata": {},
   "outputs": [
    {
     "data": {
      "text/plain": [
       "tuple"
      ]
     },
     "execution_count": 5,
     "metadata": {},
     "output_type": "execute_result"
    }
   ],
   "source": [
    "a = 1,        #tuple packing\n",
    "type(a)"
   ]
  },
  {
   "cell_type": "markdown",
   "id": "03050aeb",
   "metadata": {},
   "source": [
    "### 5.2 Accessing the tuple"
   ]
  },
  {
   "cell_type": "code",
   "execution_count": 6,
   "id": "355de93b",
   "metadata": {},
   "outputs": [
    {
     "data": {
      "text/plain": [
       "('Maths', 'Science', 'English')"
      ]
     },
     "execution_count": 6,
     "metadata": {},
     "output_type": "execute_result"
    }
   ],
   "source": [
    "subjects"
   ]
  },
  {
   "cell_type": "code",
   "execution_count": 7,
   "id": "34394367",
   "metadata": {},
   "outputs": [
    {
     "data": {
      "text/plain": [
       "'Science'"
      ]
     },
     "execution_count": 7,
     "metadata": {},
     "output_type": "execute_result"
    }
   ],
   "source": [
    "subjects[1]"
   ]
  },
  {
   "cell_type": "code",
   "execution_count": 8,
   "id": "29982d45",
   "metadata": {},
   "outputs": [
    {
     "data": {
      "text/plain": [
       "(85, 89, 93, 75, 96)"
      ]
     },
     "execution_count": 8,
     "metadata": {},
     "output_type": "execute_result"
    }
   ],
   "source": [
    "percentages=(85, 89, 93, 75, 96)\n",
    "percentages"
   ]
  },
  {
   "cell_type": "code",
   "execution_count": 13,
   "id": "c2ab3130",
   "metadata": {},
   "outputs": [
    {
     "data": {
      "text/plain": [
       "75"
      ]
     },
     "execution_count": 13,
     "metadata": {},
     "output_type": "execute_result"
    }
   ],
   "source": [
    "percentages[3]"
   ]
  },
  {
   "cell_type": "markdown",
   "id": "c50f7d75",
   "metadata": {},
   "source": [
    "### 5.3 Slicing a Tuple"
   ]
  },
  {
   "cell_type": "markdown",
   "id": "a89b1ca1",
   "metadata": {},
   "source": [
    "Using the slicing operator [] we can part (slice) of a tuple."
   ]
  },
  {
   "cell_type": "code",
   "execution_count": 9,
   "id": "c58307e9",
   "metadata": {},
   "outputs": [
    {
     "data": {
      "text/plain": [
       "(93, 75)"
      ]
     },
     "execution_count": 9,
     "metadata": {},
     "output_type": "execute_result"
    }
   ],
   "source": [
    "percentages[2:4]"
   ]
  },
  {
   "cell_type": "code",
   "execution_count": 10,
   "id": "2ce25985",
   "metadata": {},
   "outputs": [
    {
     "data": {
      "text/plain": [
       "(85, 89, 93, 75)"
      ]
     },
     "execution_count": 10,
     "metadata": {},
     "output_type": "execute_result"
    }
   ],
   "source": [
    "percentages[:4]"
   ]
  },
  {
   "cell_type": "code",
   "execution_count": 11,
   "id": "fecf6b77",
   "metadata": {},
   "outputs": [
    {
     "data": {
      "text/plain": [
       "()"
      ]
     },
     "execution_count": 11,
     "metadata": {},
     "output_type": "execute_result"
    }
   ],
   "source": [
    "percentages[2:2]"
   ]
  },
  {
   "cell_type": "code",
   "execution_count": 14,
   "id": "1f26c2a0",
   "metadata": {},
   "outputs": [
    {
     "data": {
      "text/plain": [
       "(85, 89, 93)"
      ]
     },
     "execution_count": 14,
     "metadata": {},
     "output_type": "execute_result"
    }
   ],
   "source": [
    "percentages[:-2]"
   ]
  },
  {
   "cell_type": "code",
   "execution_count": 15,
   "id": "9c8d0702",
   "metadata": {},
   "outputs": [
    {
     "data": {
      "text/plain": [
       "(75, 96)"
      ]
     },
     "execution_count": 15,
     "metadata": {},
     "output_type": "execute_result"
    }
   ],
   "source": [
    "percentages[-2:]"
   ]
  },
  {
   "cell_type": "code",
   "execution_count": 16,
   "id": "a50d52db",
   "metadata": {},
   "outputs": [
    {
     "data": {
      "text/plain": [
       "(93,)"
      ]
     },
     "execution_count": 16,
     "metadata": {},
     "output_type": "execute_result"
    }
   ],
   "source": [
    "percentages[2:-2]"
   ]
  },
  {
   "cell_type": "code",
   "execution_count": 18,
   "id": "c8ac219e",
   "metadata": {},
   "outputs": [
    {
     "data": {
      "text/plain": [
       "()"
      ]
     },
     "execution_count": 18,
     "metadata": {},
     "output_type": "execute_result"
    }
   ],
   "source": [
    "percentages[-2:2]"
   ]
  },
  {
   "cell_type": "code",
   "execution_count": 19,
   "id": "c0721cd3",
   "metadata": {},
   "outputs": [
    {
     "data": {
      "text/plain": [
       "(85, 89, 93, 75, 96)"
      ]
     },
     "execution_count": 19,
     "metadata": {},
     "output_type": "execute_result"
    }
   ],
   "source": [
    "percentages[:]     #prints the whole tuple"
   ]
  },
  {
   "cell_type": "markdown",
   "id": "b5059414",
   "metadata": {},
   "source": [
    "### 5.4 Deleting a Tuple"
   ]
  },
  {
   "cell_type": "markdown",
   "id": "9adbed05",
   "metadata": {},
   "source": [
    "Python tuple is immutable. Once declared, you can’t change its size or elements.\n",
    "\n",
    "This also means that you can’t delete just a part of it. You must delete an entire tuple, if you may."
   ]
  },
  {
   "cell_type": "code",
   "execution_count": 21,
   "id": "c82ea403",
   "metadata": {
    "scrolled": true
   },
   "outputs": [
    {
     "ename": "TypeError",
     "evalue": "'tuple' object does not support item deletion",
     "output_type": "error",
     "traceback": [
      "\u001b[1;31m---------------------------------------------------------------------------\u001b[0m",
      "\u001b[1;31mTypeError\u001b[0m                                 Traceback (most recent call last)",
      "\u001b[1;32m~\\AppData\\Local\\Temp/ipykernel_15860/1580989829.py\u001b[0m in \u001b[0;36m<module>\u001b[1;34m\u001b[0m\n\u001b[1;32m----> 1\u001b[1;33m \u001b[1;32mdel\u001b[0m \u001b[0mpercentages\u001b[0m\u001b[1;33m[\u001b[0m\u001b[1;36m1\u001b[0m\u001b[1;33m:\u001b[0m\u001b[1;36m3\u001b[0m\u001b[1;33m]\u001b[0m\u001b[1;33m\u001b[0m\u001b[1;33m\u001b[0m\u001b[0m\n\u001b[0m",
      "\u001b[1;31mTypeError\u001b[0m: 'tuple' object does not support item deletion"
     ]
    }
   ],
   "source": [
    "del percentages[1:3]"
   ]
  },
  {
   "cell_type": "code",
   "execution_count": 23,
   "id": "1bdf0383",
   "metadata": {},
   "outputs": [
    {
     "ename": "NameError",
     "evalue": "name 'percentages' is not defined",
     "output_type": "error",
     "traceback": [
      "\u001b[1;31m---------------------------------------------------------------------------\u001b[0m",
      "\u001b[1;31mNameError\u001b[0m                                 Traceback (most recent call last)",
      "\u001b[1;32m~\\AppData\\Local\\Temp/ipykernel_15860/1878513719.py\u001b[0m in \u001b[0;36m<module>\u001b[1;34m\u001b[0m\n\u001b[1;32m----> 1\u001b[1;33m \u001b[1;32mdel\u001b[0m \u001b[0mpercentages\u001b[0m\u001b[1;33m\u001b[0m\u001b[1;33m\u001b[0m\u001b[0m\n\u001b[0m\u001b[0;32m      2\u001b[0m \u001b[0mpercentages\u001b[0m        \u001b[1;31m# tuple has successfully been deleted.\u001b[0m\u001b[1;33m\u001b[0m\u001b[1;33m\u001b[0m\u001b[0m\n",
      "\u001b[1;31mNameError\u001b[0m: name 'percentages' is not defined"
     ]
    }
   ],
   "source": [
    "del percentages\n",
    "percentages        # tuple has successfully been deleted."
   ]
  },
  {
   "cell_type": "markdown",
   "id": "e94ad075",
   "metadata": {},
   "source": [
    "### 5.5 Reassigning Tuples "
   ]
  },
  {
   "cell_type": "markdown",
   "id": "7cf4c203",
   "metadata": {},
   "source": [
    "Tuple with a list as an item in it."
   ]
  },
  {
   "cell_type": "code",
   "execution_count": 24,
   "id": "702f0ff4",
   "metadata": {},
   "outputs": [
    {
     "ename": "TypeError",
     "evalue": "'tuple' object does not support item assignment",
     "output_type": "error",
     "traceback": [
      "\u001b[1;31m---------------------------------------------------------------------------\u001b[0m",
      "\u001b[1;31mTypeError\u001b[0m                                 Traceback (most recent call last)",
      "\u001b[1;32m~\\AppData\\Local\\Temp/ipykernel_15860/3859864703.py\u001b[0m in \u001b[0;36m<module>\u001b[1;34m\u001b[0m\n\u001b[0;32m      1\u001b[0m \u001b[0mmy_tuple\u001b[0m\u001b[1;33m=\u001b[0m \u001b[1;33m(\u001b[0m\u001b[1;36m1\u001b[0m\u001b[1;33m,\u001b[0m\u001b[1;36m2\u001b[0m\u001b[1;33m,\u001b[0m\u001b[1;36m3\u001b[0m\u001b[1;33m,\u001b[0m\u001b[1;33m[\u001b[0m\u001b[1;36m4\u001b[0m\u001b[1;33m,\u001b[0m\u001b[1;36m5\u001b[0m\u001b[1;33m]\u001b[0m\u001b[1;33m)\u001b[0m\u001b[1;33m\u001b[0m\u001b[1;33m\u001b[0m\u001b[0m\n\u001b[1;32m----> 2\u001b[1;33m \u001b[0mmy_tuple\u001b[0m\u001b[1;33m[\u001b[0m\u001b[1;36m3\u001b[0m\u001b[1;33m]\u001b[0m\u001b[1;33m=\u001b[0m\u001b[1;36m6\u001b[0m\u001b[1;33m\u001b[0m\u001b[1;33m\u001b[0m\u001b[0m\n\u001b[0m",
      "\u001b[1;31mTypeError\u001b[0m: 'tuple' object does not support item assignment"
     ]
    }
   ],
   "source": [
    "my_tuple= (1,2,3,[4,5])\n",
    "my_tuple[3]=6"
   ]
  },
  {
   "cell_type": "markdown",
   "id": "c0d66695",
   "metadata": {},
   "source": [
    "Failed. Now how about changing an element from the same list[]?\n",
    "\n",
    "while tuples are immutable, a mutable item that it holds may be reassigned."
   ]
  },
  {
   "cell_type": "code",
   "execution_count": 25,
   "id": "60d25147",
   "metadata": {},
   "outputs": [
    {
     "data": {
      "text/plain": [
       "(1, 2, 3, [6, 5])"
      ]
     },
     "execution_count": 25,
     "metadata": {},
     "output_type": "execute_result"
    }
   ],
   "source": [
    "my_tuple [3][0] = 6\n",
    "my_tuple"
   ]
  },
  {
   "cell_type": "markdown",
   "id": "fe7e9146",
   "metadata": {},
   "source": [
    "### 5.6 Tuple Functions "
   ]
  },
  {
   "cell_type": "markdown",
   "id": "2b4e08ef",
   "metadata": {},
   "source": [
    "A lot of functions that work on lists work on tuples too. A function applies on a construct and returns a result. It does not modify the construct."
   ]
  },
  {
   "cell_type": "markdown",
   "id": "ba69b7e8",
   "metadata": {},
   "source": [
    "#### a. len() \n",
    "\n",
    "Calculates length of the tuple."
   ]
  },
  {
   "cell_type": "code",
   "execution_count": 26,
   "id": "a3c8d01e",
   "metadata": {},
   "outputs": [
    {
     "data": {
      "text/plain": [
       "(1, 2, 3, [6, 5])"
      ]
     },
     "execution_count": 26,
     "metadata": {},
     "output_type": "execute_result"
    }
   ],
   "source": [
    "my_tuple"
   ]
  },
  {
   "cell_type": "code",
   "execution_count": 28,
   "id": "f81082f8",
   "metadata": {},
   "outputs": [
    {
     "data": {
      "text/plain": [
       "4"
      ]
     },
     "execution_count": 28,
     "metadata": {},
     "output_type": "execute_result"
    }
   ],
   "source": [
    "len(my_tuple)      # returns 4, not 5, because the list counts as 1."
   ]
  },
  {
   "cell_type": "markdown",
   "id": "a0348169",
   "metadata": {},
   "source": [
    "#### b. max()\n",
    "It returns the item from the tuple with the highest value.\n",
    "\n",
    "We can’t apply this function on the tuple my_tuple, because ints cannot be compared to a list. \n",
    "\n",
    "So let’s take yet another tuple in Python."
   ]
  },
  {
   "cell_type": "code",
   "execution_count": 30,
   "id": "ce74d6a0",
   "metadata": {},
   "outputs": [
    {
     "data": {
      "text/plain": [
       "9"
      ]
     },
     "execution_count": 30,
     "metadata": {},
     "output_type": "execute_result"
    }
   ],
   "source": [
    "a = (1, 5, 9, 7, 6, 2)\n",
    "max(a)"
   ]
  },
  {
   "cell_type": "code",
   "execution_count": 35,
   "id": "d7261dc7",
   "metadata": {},
   "outputs": [
    {
     "data": {
      "text/plain": [
       "'hi'"
      ]
     },
     "execution_count": 35,
     "metadata": {},
     "output_type": "execute_result"
    }
   ],
   "source": [
    "max(('hi', 'Hi', 'Hello'))  #‘hi’ is the greatest out of these, because h has the highest ASCII value among h and H"
   ]
  },
  {
   "cell_type": "code",
   "execution_count": 36,
   "id": "6778d936",
   "metadata": {},
   "outputs": [
    {
     "ename": "TypeError",
     "evalue": "'>' not supported between instances of 'int' and 'str'",
     "output_type": "error",
     "traceback": [
      "\u001b[1;31m---------------------------------------------------------------------------\u001b[0m",
      "\u001b[1;31mTypeError\u001b[0m                                 Traceback (most recent call last)",
      "\u001b[1;32m~\\AppData\\Local\\Temp/ipykernel_15860/2466667138.py\u001b[0m in \u001b[0;36m<module>\u001b[1;34m\u001b[0m\n\u001b[1;32m----> 1\u001b[1;33m \u001b[0mmax\u001b[0m\u001b[1;33m(\u001b[0m\u001b[1;33m(\u001b[0m\u001b[1;34m'Hi'\u001b[0m\u001b[1;33m,\u001b[0m \u001b[1;36m9\u001b[0m\u001b[1;33m)\u001b[0m\u001b[1;33m)\u001b[0m\u001b[1;33m\u001b[0m\u001b[1;33m\u001b[0m\u001b[0m\n\u001b[0m",
      "\u001b[1;31mTypeError\u001b[0m: '>' not supported between instances of 'int' and 'str'"
     ]
    }
   ],
   "source": [
    "max(('Hi', 9))     #can’t compare an int and a string"
   ]
  },
  {
   "cell_type": "markdown",
   "id": "8f511f8d",
   "metadata": {},
   "source": [
    "#### c. min()\n",
    "It returns the item from the tuple with the lowest value."
   ]
  },
  {
   "cell_type": "code",
   "execution_count": 37,
   "id": "89d61833",
   "metadata": {},
   "outputs": [
    {
     "data": {
      "text/plain": [
       "1"
      ]
     },
     "execution_count": 37,
     "metadata": {},
     "output_type": "execute_result"
    }
   ],
   "source": [
    "min(a)"
   ]
  },
  {
   "cell_type": "markdown",
   "id": "b5f6a037",
   "metadata": {},
   "source": [
    "#### d. sum()\n",
    "\n",
    "It returns the sum of all elements in the tuple."
   ]
  },
  {
   "cell_type": "code",
   "execution_count": 38,
   "id": "fe7c1489",
   "metadata": {},
   "outputs": [
    {
     "data": {
      "text/plain": [
       "30"
      ]
     },
     "execution_count": 38,
     "metadata": {},
     "output_type": "execute_result"
    }
   ],
   "source": [
    "sum(a)"
   ]
  },
  {
   "cell_type": "markdown",
   "id": "6edc2c28",
   "metadata": {},
   "source": [
    "#### e. sorted()\n",
    "The sorting is in ascending order, and it doesn’t modify the original tuple."
   ]
  },
  {
   "cell_type": "code",
   "execution_count": 39,
   "id": "c2a953c2",
   "metadata": {},
   "outputs": [
    {
     "data": {
      "text/plain": [
       "[1, 2, 5, 6, 7, 9]"
      ]
     },
     "execution_count": 39,
     "metadata": {},
     "output_type": "execute_result"
    }
   ],
   "source": [
    "sorted(a)"
   ]
  },
  {
   "cell_type": "markdown",
   "id": "e3cae64b",
   "metadata": {},
   "source": [
    "#### f. tuple()\n",
    "This function converts another construct into a Python tuple. "
   ]
  },
  {
   "cell_type": "code",
   "execution_count": 40,
   "id": "c9fa021a",
   "metadata": {},
   "outputs": [
    {
     "data": {
      "text/plain": [
       "(1, 2, 3)"
      ]
     },
     "execution_count": 40,
     "metadata": {},
     "output_type": "execute_result"
    }
   ],
   "source": [
    "list1=[1,2,3]\n",
    "tuple(list1)"
   ]
  },
  {
   "cell_type": "code",
   "execution_count": 41,
   "id": "936d06e1",
   "metadata": {},
   "outputs": [
    {
     "data": {
      "text/plain": [
       "('s', 't', 'r', 'i', 'n', 'g')"
      ]
     },
     "execution_count": 41,
     "metadata": {},
     "output_type": "execute_result"
    }
   ],
   "source": [
    "string1='string'\n",
    "tuple(string1)"
   ]
  },
  {
   "cell_type": "code",
   "execution_count": 43,
   "id": "a9bc640e",
   "metadata": {},
   "outputs": [
    {
     "data": {
      "text/plain": [
       "(1, 2, 3)"
      ]
     },
     "execution_count": 43,
     "metadata": {},
     "output_type": "execute_result"
    }
   ],
   "source": [
    "set1={2, 1, 3}\n",
    "tuple(set1)"
   ]
  },
  {
   "cell_type": "markdown",
   "id": "3ce3a359",
   "metadata": {},
   "source": [
    "#### g. any()\n",
    "If even one item in the tuple has a Boolean value of True, then this function returns True. Otherwise, it returns False."
   ]
  },
  {
   "cell_type": "code",
   "execution_count": 44,
   "id": "65957dcf",
   "metadata": {},
   "outputs": [
    {
     "data": {
      "text/plain": [
       "True"
      ]
     },
     "execution_count": 44,
     "metadata": {},
     "output_type": "execute_result"
    }
   ],
   "source": [
    "any(('', '0', ''))"
   ]
  },
  {
   "cell_type": "code",
   "execution_count": 45,
   "id": "0fa932ba",
   "metadata": {},
   "outputs": [
    {
     "data": {
      "text/plain": [
       "False"
      ]
     },
     "execution_count": 45,
     "metadata": {},
     "output_type": "execute_result"
    }
   ],
   "source": [
    "any(('', 0, ''))  #The string ‘0’ does have a Boolean value of True. If it was rather the integer 0, it would’ve returned False."
   ]
  },
  {
   "cell_type": "markdown",
   "id": "8db1d7b9",
   "metadata": {},
   "source": [
    "#### h. all()\n",
    "Unlike any(), all() returns True only if all items have a Boolean value of True. Otherwise, it returns False."
   ]
  },
  {
   "cell_type": "code",
   "execution_count": 48,
   "id": "e0f53456",
   "metadata": {},
   "outputs": [
    {
     "data": {
      "text/plain": [
       "False"
      ]
     },
     "execution_count": 48,
     "metadata": {},
     "output_type": "execute_result"
    }
   ],
   "source": [
    "all(('1', 1, True,''))"
   ]
  },
  {
   "cell_type": "markdown",
   "id": "e765e556",
   "metadata": {},
   "source": [
    "### 5.7 Tuple Methods"
   ]
  },
  {
   "cell_type": "markdown",
   "id": "52eca8c3",
   "metadata": {},
   "source": [
    "A method is a sequence of instructions to perform on something. \n",
    "\n",
    "Unlike a function, it does modify the construct on which it is called. \n",
    "\n",
    "You call a method using the dot operator in python."
   ]
  },
  {
   "cell_type": "markdown",
   "id": "4cf9dfd2",
   "metadata": {},
   "source": [
    "#### a. index()\n",
    "This method takes one argument and returns the index of the first appearance of an item in a tuple. "
   ]
  },
  {
   "cell_type": "code",
   "execution_count": 49,
   "id": "0cecc625",
   "metadata": {},
   "outputs": [
    {
     "data": {
      "text/plain": [
       "1"
      ]
     },
     "execution_count": 49,
     "metadata": {},
     "output_type": "execute_result"
    }
   ],
   "source": [
    "a = (1,2,3,2,4,5,2)\n",
    "a.index(2)"
   ]
  },
  {
   "cell_type": "markdown",
   "id": "e8360187",
   "metadata": {},
   "source": [
    "#### b. count()\n",
    "This method takes one argument and returns the number of times an item appears in the tuple."
   ]
  },
  {
   "cell_type": "code",
   "execution_count": 50,
   "id": "bbbf9049",
   "metadata": {},
   "outputs": [
    {
     "data": {
      "text/plain": [
       "3"
      ]
     },
     "execution_count": 50,
     "metadata": {},
     "output_type": "execute_result"
    }
   ],
   "source": [
    "a.count(2)"
   ]
  },
  {
   "cell_type": "markdown",
   "id": "224b2a98",
   "metadata": {},
   "source": [
    "### 5.8 Tuple Operations "
   ]
  },
  {
   "cell_type": "markdown",
   "id": "d853f715",
   "metadata": {},
   "source": [
    "#### a. Membership\n",
    "The ‘in’ and ‘not in’ operators on items. This tells whether they belong to the tuple."
   ]
  },
  {
   "cell_type": "code",
   "execution_count": 51,
   "id": "43c27fb4",
   "metadata": {},
   "outputs": [
    {
     "data": {
      "text/plain": [
       "False"
      ]
     },
     "execution_count": 51,
     "metadata": {},
     "output_type": "execute_result"
    }
   ],
   "source": [
    "'a' in tuple (\"string\")"
   ]
  },
  {
   "cell_type": "code",
   "execution_count": 52,
   "id": "f4f0cb38",
   "metadata": {},
   "outputs": [
    {
     "data": {
      "text/plain": [
       "True"
      ]
     },
     "execution_count": 52,
     "metadata": {},
     "output_type": "execute_result"
    }
   ],
   "source": [
    "'x' not in tuple(\"string\")"
   ]
  },
  {
   "cell_type": "markdown",
   "id": "5990bbab",
   "metadata": {},
   "source": [
    "#### b. Concatenation\n",
    "Concatenation is the act of joining. Joining two tuples using the concatenation operator ‘+’.\n",
    "\n",
    "Other arithmetic operations do not apply on a tuple."
   ]
  },
  {
   "cell_type": "code",
   "execution_count": 53,
   "id": "e9efa5f4",
   "metadata": {},
   "outputs": [
    {
     "data": {
      "text/plain": [
       "(1, 2, 3, 4, 5, 6)"
      ]
     },
     "execution_count": 53,
     "metadata": {},
     "output_type": "execute_result"
    }
   ],
   "source": [
    "(1, 2, 3)+(4, 5, 6)"
   ]
  },
  {
   "cell_type": "markdown",
   "id": "baad1507",
   "metadata": {},
   "source": [
    "#### c. Logical\n",
    "All the logical operators (like >,>=,..) can be applied on a tuple."
   ]
  },
  {
   "cell_type": "code",
   "execution_count": 54,
   "id": "e9be0891",
   "metadata": {},
   "outputs": [
    {
     "data": {
      "text/plain": [
       "False"
      ]
     },
     "execution_count": 54,
     "metadata": {},
     "output_type": "execute_result"
    }
   ],
   "source": [
    "(1, 2, 3)>(4, 5, 6)"
   ]
  },
  {
   "cell_type": "code",
   "execution_count": 58,
   "id": "ca41660c",
   "metadata": {},
   "outputs": [
    {
     "data": {
      "text/plain": [
       "True"
      ]
     },
     "execution_count": 58,
     "metadata": {},
     "output_type": "execute_result"
    }
   ],
   "source": [
    "(5, )> (2, 3)"
   ]
  },
  {
   "cell_type": "code",
   "execution_count": 59,
   "id": "29ece950",
   "metadata": {},
   "outputs": [
    {
     "data": {
      "text/plain": [
       "False"
      ]
     },
     "execution_count": 59,
     "metadata": {},
     "output_type": "execute_result"
    }
   ],
   "source": [
    "(1, 2)==('1','2')"
   ]
  },
  {
   "cell_type": "markdown",
   "id": "cd0b5952",
   "metadata": {},
   "source": [
    "#### d. Identity\n",
    "The ‘is’ and ‘is not’ operators"
   ]
  },
  {
   "cell_type": "code",
   "execution_count": 61,
   "id": "13cfb518",
   "metadata": {},
   "outputs": [
    {
     "name": "stderr",
     "output_type": "stream",
     "text": [
      "<>:2: SyntaxWarning: \"is\" with a literal. Did you mean \"==\"?\n",
      "<>:2: SyntaxWarning: \"is\" with a literal. Did you mean \"==\"?\n",
      "C:\\Users\\DELL\\AppData\\Local\\Temp/ipykernel_15860/733585488.py:2: SyntaxWarning: \"is\" with a literal. Did you mean \"==\"?\n",
      "  (1,2) is a     #two tuples or lists do not have the same identity.\n"
     ]
    },
    {
     "data": {
      "text/plain": [
       "False"
      ]
     },
     "execution_count": 61,
     "metadata": {},
     "output_type": "execute_result"
    }
   ],
   "source": [
    "a = (1,2)\n",
    "(1,2) is a     #two tuples or lists do not have the same identity. \n",
    "               #In other words, they are two different tuples or lists. As a result, it returns False."
   ]
  },
  {
   "cell_type": "markdown",
   "id": "c2617b36",
   "metadata": {},
   "source": [
    "### 5.9 Iterating on Tuple\n",
    "Iterate on a Python tuple using a for loop."
   ]
  },
  {
   "cell_type": "code",
   "execution_count": 63,
   "id": "8b63dc51",
   "metadata": {},
   "outputs": [
    {
     "name": "stdout",
     "output_type": "stream",
     "text": [
      "1\n",
      "2\n",
      "3\n"
     ]
    }
   ],
   "source": [
    "for i in (1, 2, 3):\n",
    "    print (i)"
   ]
  },
  {
   "cell_type": "markdown",
   "id": "2cb545d7",
   "metadata": {},
   "source": [
    "### 5.10 Nested Tuples"
   ]
  },
  {
   "cell_type": "code",
   "execution_count": 66,
   "id": "e9fb9900",
   "metadata": {},
   "outputs": [
    {
     "data": {
      "text/plain": [
       "6"
      ]
     },
     "execution_count": 66,
     "metadata": {},
     "output_type": "execute_result"
    }
   ],
   "source": [
    "a = ((1, 2, 3),(4, (5, 6)))\n",
    "a[1][1][1]                   #access the item 6"
   ]
  },
  {
   "cell_type": "markdown",
   "id": "6799b5ec",
   "metadata": {},
   "source": [
    "Python tuple may also contain other constructs, especially, lists. \n",
    "\n",
    "After all, it is a collection of items, and items can be anything."
   ]
  },
  {
   "cell_type": "code",
   "execution_count": 70,
   "id": "d0213cfa",
   "metadata": {},
   "outputs": [
    {
     "data": {
      "text/plain": [
       "4"
      ]
     },
     "execution_count": 70,
     "metadata": {},
     "output_type": "execute_result"
    }
   ],
   "source": [
    "b = (1, 2, [3, 4])\n",
    "b[2][1]                      #access the item 4"
   ]
  },
  {
   "cell_type": "code",
   "execution_count": null,
   "id": "64cfcaf2",
   "metadata": {},
   "outputs": [],
   "source": []
  }
 ],
 "metadata": {
  "kernelspec": {
   "display_name": "Python 3 (ipykernel)",
   "language": "python",
   "name": "python3"
  },
  "language_info": {
   "codemirror_mode": {
    "name": "ipython",
    "version": 3
   },
   "file_extension": ".py",
   "mimetype": "text/x-python",
   "name": "python",
   "nbconvert_exporter": "python",
   "pygments_lexer": "ipython3",
   "version": "3.9.7"
  }
 },
 "nbformat": 4,
 "nbformat_minor": 5
}
