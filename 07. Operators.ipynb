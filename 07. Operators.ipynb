{
 "cells": [
  {
   "cell_type": "markdown",
   "id": "01a46ccb",
   "metadata": {},
   "source": [
    "# 7. Operators"
   ]
  },
  {
   "cell_type": "markdown",
   "id": "a8cd4855",
   "metadata": {},
   "source": [
    "Python operator is a symbol that performs an operation on one or more operands. An operand is a variable or a value on which we perform the operation.\n",
    "\n",
    "Python Operator falls into 7 categories:\n",
    "\n",
    "1. Arithmetic Operator\n",
    "2. Relational Operator\n",
    "3. Assignment Operator\n",
    "4. Logical Operator\n",
    "5. Membership Operator\n",
    "6. Identity Operator\n",
    "7. Bitwise Operator"
   ]
  },
  {
   "cell_type": "markdown",
   "id": "18a6a111",
   "metadata": {},
   "source": [
    "### 7.1 Arithmetic Operators\n",
    "These arithmetic operators include Python operators for basic mathematical operations."
   ]
  },
  {
   "cell_type": "markdown",
   "id": "a7513ddc",
   "metadata": {},
   "source": [
    "#### a. Addition(+)\n",
    "Adds the values on either side of the operator."
   ]
  },
  {
   "cell_type": "code",
   "execution_count": 1,
   "id": "00432f00",
   "metadata": {},
   "outputs": [
    {
     "data": {
      "text/plain": [
       "44"
      ]
     },
     "execution_count": 1,
     "metadata": {},
     "output_type": "execute_result"
    }
   ],
   "source": [
    "27+17"
   ]
  },
  {
   "cell_type": "markdown",
   "id": "8aef489f",
   "metadata": {},
   "source": [
    "#### b. Subtraction(-)\n",
    "Subtracts the value on the right from the one on the left."
   ]
  },
  {
   "cell_type": "code",
   "execution_count": 2,
   "id": "74d65748",
   "metadata": {},
   "outputs": [
    {
     "data": {
      "text/plain": [
       "-10"
      ]
     },
     "execution_count": 2,
     "metadata": {},
     "output_type": "execute_result"
    }
   ],
   "source": [
    "17-27"
   ]
  },
  {
   "cell_type": "markdown",
   "id": "c0301b0a",
   "metadata": {},
   "source": [
    "#### c. Multiplication(*)\n",
    "Multiplies the values on either side of the operator."
   ]
  },
  {
   "cell_type": "code",
   "execution_count": 3,
   "id": "f1b5c73c",
   "metadata": {},
   "outputs": [
    {
     "data": {
      "text/plain": [
       "35"
      ]
     },
     "execution_count": 3,
     "metadata": {},
     "output_type": "execute_result"
    }
   ],
   "source": [
    "5*7"
   ]
  },
  {
   "cell_type": "markdown",
   "id": "d6113354",
   "metadata": {},
   "source": [
    "#### d. Division(/)\n",
    "Divides the value on the left by the one on the right. Notice that division results in a floating-point value."
   ]
  },
  {
   "cell_type": "code",
   "execution_count": 4,
   "id": "1b3723ba",
   "metadata": {},
   "outputs": [
    {
     "data": {
      "text/plain": [
       "0.75"
      ]
     },
     "execution_count": 4,
     "metadata": {},
     "output_type": "execute_result"
    }
   ],
   "source": [
    "3/4"
   ]
  },
  {
   "cell_type": "markdown",
   "id": "9ab23d9d",
   "metadata": {},
   "source": [
    "#### e. Exponentiation(**)\n",
    "\n",
    "Raises the first number to the power of the second."
   ]
  },
  {
   "cell_type": "code",
   "execution_count": 5,
   "id": "322a025a",
   "metadata": {},
   "outputs": [
    {
     "data": {
      "text/plain": [
       "81"
      ]
     },
     "execution_count": 5,
     "metadata": {},
     "output_type": "execute_result"
    }
   ],
   "source": [
    "3**4"
   ]
  },
  {
   "cell_type": "markdown",
   "id": "5b15f520",
   "metadata": {},
   "source": [
    "#### f. Floor Division(//)\n",
    "Divides and returns the integer value of the quotient. It dumps the digits after the decimal."
   ]
  },
  {
   "cell_type": "code",
   "execution_count": 6,
   "id": "eb7c931f",
   "metadata": {},
   "outputs": [
    {
     "data": {
      "text/plain": [
       "0"
      ]
     },
     "execution_count": 6,
     "metadata": {},
     "output_type": "execute_result"
    }
   ],
   "source": [
    "3//4"
   ]
  },
  {
   "cell_type": "code",
   "execution_count": 7,
   "id": "0d441702",
   "metadata": {},
   "outputs": [
    {
     "data": {
      "text/plain": [
       "1"
      ]
     },
     "execution_count": 7,
     "metadata": {},
     "output_type": "execute_result"
    }
   ],
   "source": [
    "4//3"
   ]
  },
  {
   "cell_type": "markdown",
   "id": "a83e8386",
   "metadata": {},
   "source": [
    "#### g. Modulus(%)\n",
    "Divides and returns the value of the remainder."
   ]
  },
  {
   "cell_type": "code",
   "execution_count": 8,
   "id": "75877b23",
   "metadata": {},
   "outputs": [
    {
     "data": {
      "text/plain": [
       "3"
      ]
     },
     "execution_count": 8,
     "metadata": {},
     "output_type": "execute_result"
    }
   ],
   "source": [
    "3%4"
   ]
  },
  {
   "cell_type": "code",
   "execution_count": 9,
   "id": "2e9728b9",
   "metadata": {},
   "outputs": [
    {
     "data": {
      "text/plain": [
       "1"
      ]
     },
     "execution_count": 9,
     "metadata": {},
     "output_type": "execute_result"
    }
   ],
   "source": [
    "4%3"
   ]
  },
  {
   "cell_type": "markdown",
   "id": "983ac840",
   "metadata": {},
   "source": [
    "### 7.2 Relational Operator "
   ]
  },
  {
   "cell_type": "markdown",
   "id": "79e8b2ed",
   "metadata": {},
   "source": [
    "Relational Python Operator carries out the comparison between operands.\n",
    "\n",
    "They tell us whether an operand is greater than the other, lesser, equal, or a combination of those."
   ]
  },
  {
   "cell_type": "markdown",
   "id": "5e8acf43",
   "metadata": {},
   "source": [
    "#### a. Less than(<)\n",
    "This operator checks if the value on the left of the operator is lesser than the one on the right."
   ]
  },
  {
   "cell_type": "code",
   "execution_count": 12,
   "id": "de3deb40",
   "metadata": {},
   "outputs": [
    {
     "data": {
      "text/plain": [
       "True"
      ]
     },
     "execution_count": 12,
     "metadata": {},
     "output_type": "execute_result"
    }
   ],
   "source": [
    "3<4"
   ]
  },
  {
   "cell_type": "markdown",
   "id": "e8f8187b",
   "metadata": {},
   "source": [
    "#### b. Greater than(>)\n",
    "It checks if the value on the left of the operator is greater than the one on the right."
   ]
  },
  {
   "cell_type": "code",
   "execution_count": 13,
   "id": "a28e3407",
   "metadata": {},
   "outputs": [
    {
     "data": {
      "text/plain": [
       "False"
      ]
     },
     "execution_count": 13,
     "metadata": {},
     "output_type": "execute_result"
    }
   ],
   "source": [
    "3>4"
   ]
  },
  {
   "cell_type": "markdown",
   "id": "3a2124be",
   "metadata": {},
   "source": [
    "#### c. Less than or equal to(<=)\n",
    "It checks if the value on the left of the operator is lesser than or equal to the one on the right."
   ]
  },
  {
   "cell_type": "code",
   "execution_count": 14,
   "id": "e5ac771c",
   "metadata": {},
   "outputs": [
    {
     "data": {
      "text/plain": [
       "True"
      ]
     },
     "execution_count": 14,
     "metadata": {},
     "output_type": "execute_result"
    }
   ],
   "source": [
    "7<=7"
   ]
  },
  {
   "cell_type": "markdown",
   "id": "10c2c461",
   "metadata": {},
   "source": [
    "#### d. Greater than or equal to(>=)\n",
    "It checks if the value on the left of the operator is greater than or equal to the one on the right."
   ]
  },
  {
   "cell_type": "code",
   "execution_count": 15,
   "id": "c3412709",
   "metadata": {},
   "outputs": [
    {
     "data": {
      "text/plain": [
       "True"
      ]
     },
     "execution_count": 15,
     "metadata": {},
     "output_type": "execute_result"
    }
   ],
   "source": [
    "5>=5"
   ]
  },
  {
   "cell_type": "markdown",
   "id": "1432ca8f",
   "metadata": {},
   "source": [
    "#### e. Equal to(= =)\n",
    "This operator checks if the value on the left of the operator is equal to the one on the right.\n",
    "\n",
    "1 is equal to the Boolean value True. Also, 0 is equal to False."
   ]
  },
  {
   "cell_type": "code",
   "execution_count": 16,
   "id": "5e3a1128",
   "metadata": {},
   "outputs": [
    {
     "data": {
      "text/plain": [
       "True"
      ]
     },
     "execution_count": 16,
     "metadata": {},
     "output_type": "execute_result"
    }
   ],
   "source": [
    "3==3.0"
   ]
  },
  {
   "cell_type": "code",
   "execution_count": 17,
   "id": "fe409bfc",
   "metadata": {},
   "outputs": [
    {
     "data": {
      "text/plain": [
       "True"
      ]
     },
     "execution_count": 17,
     "metadata": {},
     "output_type": "execute_result"
    }
   ],
   "source": [
    "1==True"
   ]
  },
  {
   "cell_type": "code",
   "execution_count": 18,
   "id": "93343b6e",
   "metadata": {},
   "outputs": [
    {
     "data": {
      "text/plain": [
       "True"
      ]
     },
     "execution_count": 18,
     "metadata": {},
     "output_type": "execute_result"
    }
   ],
   "source": [
    "0==False"
   ]
  },
  {
   "cell_type": "code",
   "execution_count": 19,
   "id": "c9fd633e",
   "metadata": {},
   "outputs": [
    {
     "data": {
      "text/plain": [
       "True"
      ]
     },
     "execution_count": 19,
     "metadata": {},
     "output_type": "execute_result"
    }
   ],
   "source": [
    "0==False"
   ]
  },
  {
   "cell_type": "markdown",
   "id": "f79cafd2",
   "metadata": {},
   "source": [
    "#### f. Not equal to(!=)\n",
    "It checks if the value on the left of the operator is not equal to the one on the right."
   ]
  },
  {
   "cell_type": "code",
   "execution_count": 20,
   "id": "a3564abe",
   "metadata": {},
   "outputs": [
    {
     "data": {
      "text/plain": [
       "False"
      ]
     },
     "execution_count": 20,
     "metadata": {},
     "output_type": "execute_result"
    }
   ],
   "source": [
    "1!=1.0"
   ]
  },
  {
   "cell_type": "markdown",
   "id": "c768e64c",
   "metadata": {},
   "source": [
    "### 7.3 Assignment Operator"
   ]
  },
  {
   "cell_type": "markdown",
   "id": "94afc6da",
   "metadata": {},
   "source": [
    "Python assignment operator assigns a value to a variable. It may manipulate the value by a factor before assigning it."
   ]
  },
  {
   "cell_type": "markdown",
   "id": "e62fb406",
   "metadata": {},
   "source": [
    "#### a. Assign(=)\n",
    "Assigns a value to the expression on the left. Notice that = = is used for comparing, but = is used for assigning."
   ]
  },
  {
   "cell_type": "code",
   "execution_count": 21,
   "id": "70eb0fb9",
   "metadata": {},
   "outputs": [
    {
     "name": "stdout",
     "output_type": "stream",
     "text": [
      "5\n"
     ]
    }
   ],
   "source": [
    "a=5\n",
    "print(a)"
   ]
  },
  {
   "cell_type": "markdown",
   "id": "864faa1e",
   "metadata": {},
   "source": [
    "#### b. Add and Assign(+=)\n",
    "Adds the values on either side and assigns it to the expression on the left. \n",
    "\n",
    "a+=10 is the same as a=a+10."
   ]
  },
  {
   "cell_type": "code",
   "execution_count": 24,
   "id": "af39aa0b",
   "metadata": {},
   "outputs": [
    {
     "name": "stdout",
     "output_type": "stream",
     "text": [
      "15\n"
     ]
    }
   ],
   "source": [
    "a=10\n",
    "a+=5\n",
    "print(a)"
   ]
  },
  {
   "cell_type": "markdown",
   "id": "a6a94b2f",
   "metadata": {},
   "source": [
    "#### c. Subtract and Assign(-=)\n",
    "Subtracts the value on the right from the value on the left. Then it assigns it to the expression on the left.\n",
    "\n"
   ]
  },
  {
   "cell_type": "code",
   "execution_count": 25,
   "id": "3ec3a1f5",
   "metadata": {},
   "outputs": [],
   "source": [
    "a-=5"
   ]
  },
  {
   "cell_type": "code",
   "execution_count": 26,
   "id": "074e3ce4",
   "metadata": {},
   "outputs": [
    {
     "data": {
      "text/plain": [
       "10"
      ]
     },
     "execution_count": 26,
     "metadata": {},
     "output_type": "execute_result"
    }
   ],
   "source": [
    "a"
   ]
  },
  {
   "cell_type": "markdown",
   "id": "46ec4134",
   "metadata": {},
   "source": [
    "#### d. Divide and Assign(/=)\n",
    "Divides the value on the left by the one on the right. Then it assigns it to the expression on the left."
   ]
  },
  {
   "cell_type": "code",
   "execution_count": 27,
   "id": "89b77877",
   "metadata": {},
   "outputs": [
    {
     "name": "stdout",
     "output_type": "stream",
     "text": [
      "1.4285714285714286\n"
     ]
    }
   ],
   "source": [
    "a/=7\n",
    "print(a)"
   ]
  },
  {
   "cell_type": "markdown",
   "id": "eca3d176",
   "metadata": {},
   "source": [
    "#### e. Multiply and Assign(*=)\n",
    "Multiplies the values on either sides. Then it assigns it to the expression on the left."
   ]
  },
  {
   "cell_type": "code",
   "execution_count": 30,
   "id": "1b981b11",
   "metadata": {},
   "outputs": [
    {
     "data": {
      "text/plain": [
       "20"
      ]
     },
     "execution_count": 30,
     "metadata": {},
     "output_type": "execute_result"
    }
   ],
   "source": [
    "a=10\n",
    "a*=2\n",
    "a"
   ]
  },
  {
   "cell_type": "markdown",
   "id": "dfc3a452",
   "metadata": {},
   "source": [
    "#### f. Modulus and Assign(%=)\n",
    "Performs modulus on the values on either side. Then it assigns it to the expression on the left."
   ]
  },
  {
   "cell_type": "code",
   "execution_count": 31,
   "id": "3a3e96e4",
   "metadata": {},
   "outputs": [
    {
     "name": "stdout",
     "output_type": "stream",
     "text": [
      "2\n"
     ]
    }
   ],
   "source": [
    "a%=3\n",
    "print(a)"
   ]
  },
  {
   "cell_type": "markdown",
   "id": "7ecf64a8",
   "metadata": {},
   "source": [
    "#### g. Exponent and Assign(**=)\n",
    "\n",
    "Performs exponentiation on the values on either side. Then assigns it to the expression on the left."
   ]
  },
  {
   "cell_type": "code",
   "execution_count": 32,
   "id": "f0caa826",
   "metadata": {},
   "outputs": [
    {
     "data": {
      "text/plain": [
       "32"
      ]
     },
     "execution_count": 32,
     "metadata": {},
     "output_type": "execute_result"
    }
   ],
   "source": [
    "a**=5\n",
    "a"
   ]
  },
  {
   "cell_type": "markdown",
   "id": "ec0e5da9",
   "metadata": {},
   "source": [
    "#### h. Floor-Divide and Assign(//=)\n",
    "Performs floor-division on the values on either side. Then assigns it to the expression on the left."
   ]
  },
  {
   "cell_type": "code",
   "execution_count": 33,
   "id": "f5eb5bee",
   "metadata": {},
   "outputs": [
    {
     "data": {
      "text/plain": [
       "10"
      ]
     },
     "execution_count": 33,
     "metadata": {},
     "output_type": "execute_result"
    }
   ],
   "source": [
    "a//=3\n",
    "a"
   ]
  },
  {
   "cell_type": "markdown",
   "id": "e45456e4",
   "metadata": {},
   "source": [
    "### 7.4 Logical Operator\n",
    "These are conjunctions that you can use to combine more than one condition.\n",
    "\n",
    "We have threelogical operator – and, or, and not."
   ]
  },
  {
   "cell_type": "markdown",
   "id": "68872864",
   "metadata": {},
   "source": [
    "#### a. and Operator \n",
    "If the conditions on both sides of the operator are true, then the expression as a whole is true."
   ]
  },
  {
   "cell_type": "code",
   "execution_count": 37,
   "id": "67356668",
   "metadata": {},
   "outputs": [
    {
     "name": "stdout",
     "output_type": "stream",
     "text": [
      "False\n"
     ]
    }
   ],
   "source": [
    "a=7>7 and 2>-1\n",
    "print(a)"
   ]
  },
  {
   "cell_type": "markdown",
   "id": "22963790",
   "metadata": {},
   "source": [
    "#### b. or Operator\n",
    "The expression is false only if both the statements around the operator are false. Otherwise, it is true."
   ]
  },
  {
   "cell_type": "code",
   "execution_count": 39,
   "id": "24c9b525",
   "metadata": {},
   "outputs": [
    {
     "name": "stdout",
     "output_type": "stream",
     "text": [
      "True\n"
     ]
    }
   ],
   "source": [
    "a=7>7 or 2>-1\n",
    "print(a)"
   ]
  },
  {
   "cell_type": "markdown",
   "id": "dbe3d6e4",
   "metadata": {},
   "source": [
    "#### c. not Operator \n",
    "This inverts the Boolean value of an expression. It converts True to False, and False to True."
   ]
  },
  {
   "cell_type": "code",
   "execution_count": 41,
   "id": "3be21c22",
   "metadata": {},
   "outputs": [
    {
     "name": "stdout",
     "output_type": "stream",
     "text": [
      "True\n"
     ]
    }
   ],
   "source": [
    "a = not(0)    #the Boolean value for 0 is False. So, not inverts it to True.\n",
    "print(a)"
   ]
  },
  {
   "cell_type": "markdown",
   "id": "062c003f",
   "metadata": {},
   "source": [
    "### 7.5. Membership Operator\n",
    "These operators test whether a value is a member of a sequence. The sequence may be a list, a string, or a tuple.\n",
    "\n",
    "We have two membership python operators- ‘in’ and ‘not in’."
   ]
  },
  {
   "cell_type": "markdown",
   "id": "2a139581",
   "metadata": {},
   "source": [
    "#### a. in Operator \n",
    "This checks if a value is a member of a sequence."
   ]
  },
  {
   "cell_type": "code",
   "execution_count": 44,
   "id": "1cbe15d5",
   "metadata": {},
   "outputs": [
    {
     "data": {
      "text/plain": [
       "False"
      ]
     },
     "execution_count": 44,
     "metadata": {},
     "output_type": "execute_result"
    }
   ],
   "source": [
    "pets = ['dog', 'cat', 'Rabit']\n",
    "'fox' in pets\n"
   ]
  },
  {
   "cell_type": "code",
   "execution_count": 45,
   "id": "15b3a0cd",
   "metadata": {},
   "outputs": [
    {
     "data": {
      "text/plain": [
       "True"
      ]
     },
     "execution_count": 45,
     "metadata": {},
     "output_type": "execute_result"
    }
   ],
   "source": [
    "'cat' in pets"
   ]
  },
  {
   "cell_type": "code",
   "execution_count": 47,
   "id": "6d030dee",
   "metadata": {},
   "outputs": [
    {
     "data": {
      "text/plain": [
       "True"
      ]
     },
     "execution_count": 47,
     "metadata": {},
     "output_type": "execute_result"
    }
   ],
   "source": [
    "'point' in 'disappointments'   #the string ‘ponit’ is a substring to string ‘disappointment’, returns true."
   ]
  },
  {
   "cell_type": "markdown",
   "id": "c1ab9077",
   "metadata": {},
   "source": [
    "#### b. not in Operator in Python\n",
    "Unlike ‘in’, ‘not in’ checks if a value is not a member of a sequence."
   ]
  },
  {
   "cell_type": "code",
   "execution_count": 48,
   "id": "6fd2eaaa",
   "metadata": {},
   "outputs": [
    {
     "data": {
      "text/plain": [
       "True"
      ]
     },
     "execution_count": 48,
     "metadata": {},
     "output_type": "execute_result"
    }
   ],
   "source": [
    "'pot' not in 'disappointments' "
   ]
  },
  {
   "cell_type": "markdown",
   "id": "c1b9419d",
   "metadata": {},
   "source": [
    "### 7.6 Identity Operator\n",
    "These operators test if the two operands share an identity. \n",
    "We have two identity operators- ‘is’ and ‘is not’."
   ]
  },
  {
   "cell_type": "markdown",
   "id": "80b02b3f",
   "metadata": {},
   "source": [
    "#### a. is Operator in Python\n",
    "If two operands have the same identity, it returns True. Otherwise, it returns False. "
   ]
  },
  {
   "cell_type": "code",
   "execution_count": 49,
   "id": "8677437f",
   "metadata": {},
   "outputs": [
    {
     "name": "stderr",
     "output_type": "stream",
     "text": [
      "<>:1: SyntaxWarning: \"is\" with a literal. Did you mean \"==\"?\n",
      "<>:1: SyntaxWarning: \"is\" with a literal. Did you mean \"==\"?\n",
      "C:\\Users\\DELL\\AppData\\Local\\Temp/ipykernel_19404/1231539819.py:1: SyntaxWarning: \"is\" with a literal. Did you mean \"==\"?\n",
      "  2 is 20\n"
     ]
    },
    {
     "data": {
      "text/plain": [
       "False"
      ]
     },
     "execution_count": 49,
     "metadata": {},
     "output_type": "execute_result"
    }
   ],
   "source": [
    "2 is 20"
   ]
  },
  {
   "cell_type": "code",
   "execution_count": 50,
   "id": "7920c27b",
   "metadata": {},
   "outputs": [
    {
     "name": "stderr",
     "output_type": "stream",
     "text": [
      "<>:1: SyntaxWarning: \"is\" with a literal. Did you mean \"==\"?\n",
      "<>:1: SyntaxWarning: \"is\" with a literal. Did you mean \"==\"?\n",
      "C:\\Users\\DELL\\AppData\\Local\\Temp/ipykernel_19404/7060930.py:1: SyntaxWarning: \"is\" with a literal. Did you mean \"==\"?\n",
      "  '2' is \"2\"\n"
     ]
    },
    {
     "data": {
      "text/plain": [
       "True"
      ]
     },
     "execution_count": 50,
     "metadata": {},
     "output_type": "execute_result"
    }
   ],
   "source": [
    "'2' is \"2\""
   ]
  },
  {
   "cell_type": "markdown",
   "id": "c46fd31b",
   "metadata": {},
   "source": [
    "#### b. is not Operator in Python\n",
    "2 is a number, and ‘2’ is a string. So, it returns a True to that."
   ]
  },
  {
   "cell_type": "code",
   "execution_count": 51,
   "id": "8a7bf726",
   "metadata": {},
   "outputs": [
    {
     "name": "stderr",
     "output_type": "stream",
     "text": [
      "<>:1: SyntaxWarning: \"is not\" with a literal. Did you mean \"!=\"?\n",
      "<>:1: SyntaxWarning: \"is not\" with a literal. Did you mean \"!=\"?\n",
      "C:\\Users\\DELL\\AppData\\Local\\Temp/ipykernel_19404/3071503370.py:1: SyntaxWarning: \"is not\" with a literal. Did you mean \"!=\"?\n",
      "  2 is not '2'\n"
     ]
    },
    {
     "data": {
      "text/plain": [
       "True"
      ]
     },
     "execution_count": 51,
     "metadata": {},
     "output_type": "execute_result"
    }
   ],
   "source": [
    "2 is not '2'"
   ]
  },
  {
   "cell_type": "markdown",
   "id": "17d43a86",
   "metadata": {},
   "source": [
    "### 7.7 Bitwise Operator"
   ]
  },
  {
   "cell_type": "markdown",
   "id": "31e03c70",
   "metadata": {},
   "source": [
    "#### a. Binary AND(&) Operator\n",
    "It performs bit by bit AND operation on the two values."
   ]
  },
  {
   "cell_type": "code",
   "execution_count": 52,
   "id": "cd2dc63f",
   "metadata": {},
   "outputs": [
    {
     "data": {
      "text/plain": [
       "2"
      ]
     },
     "execution_count": 52,
     "metadata": {},
     "output_type": "execute_result"
    }
   ],
   "source": [
    "2&3    # &-ing 10(2) and 11() results in 10(2)."
   ]
  },
  {
   "cell_type": "code",
   "execution_count": 53,
   "id": "dc2476e1",
   "metadata": {},
   "outputs": [
    {
     "data": {
      "text/plain": [
       "0"
      ]
     },
     "execution_count": 53,
     "metadata": {},
     "output_type": "execute_result"
    }
   ],
   "source": [
    "3&4    # &-ing 011(3) and 100(4) results in 000(0)."
   ]
  },
  {
   "cell_type": "markdown",
   "id": "1813f187",
   "metadata": {},
   "source": [
    "#### b. Binary OR(|) Operator\n",
    "It performs bit by bit OR on the two values."
   ]
  },
  {
   "cell_type": "code",
   "execution_count": 54,
   "id": "abd92754",
   "metadata": {},
   "outputs": [
    {
     "data": {
      "text/plain": [
       "3"
      ]
     },
     "execution_count": 54,
     "metadata": {},
     "output_type": "execute_result"
    }
   ],
   "source": [
    "2|3      #OR-ing 10(2) and 11(3) results in 11(3)"
   ]
  },
  {
   "cell_type": "markdown",
   "id": "ea060f5e",
   "metadata": {},
   "source": [
    "#### c. Binary XOR(^) Operator\n",
    "It performs bit by bit XOR(exclusive-OR) on the two values."
   ]
  },
  {
   "cell_type": "code",
   "execution_count": 55,
   "id": "beb6dc1d",
   "metadata": {},
   "outputs": [
    {
     "data": {
      "text/plain": [
       "1"
      ]
     },
     "execution_count": 55,
     "metadata": {},
     "output_type": "execute_result"
    }
   ],
   "source": [
    "2^3     #XOR-ing 10(2) and 11(3) results in 01(1)"
   ]
  },
  {
   "cell_type": "markdown",
   "id": "d69f649d",
   "metadata": {},
   "source": [
    "#### d. Binary One’s Complement(~) \n",
    "It returns the one’s complement of a number’s binary. It flips the bits. \n",
    "\n",
    "Binary for 2 is 00000010. Its one’s complement is 11111101."
   ]
  },
  {
   "cell_type": "code",
   "execution_count": 56,
   "id": "8969ba7d",
   "metadata": {},
   "outputs": [
    {
     "data": {
      "text/plain": [
       "2"
      ]
     },
     "execution_count": 56,
     "metadata": {},
     "output_type": "execute_result"
    }
   ],
   "source": [
    "~-3   #one’s complement of -3 is 2.   "
   ]
  },
  {
   "cell_type": "markdown",
   "id": "a036a919",
   "metadata": {},
   "source": [
    "#### e. Binary Left-Shift(<<) Operator\n",
    "It shifts the value of the left operand the number of places to the left that the right operand specifies."
   ]
  },
  {
   "cell_type": "code",
   "execution_count": 57,
   "id": "c83c43d8",
   "metadata": {},
   "outputs": [
    {
     "data": {
      "text/plain": [
       "8"
      ]
     },
     "execution_count": 57,
     "metadata": {},
     "output_type": "execute_result"
    }
   ],
   "source": [
    "2<<2   #binary of 2 is 10. 2<<2 shifts it two places to the left. \n",
    "       #This results in 1000, which is binary for 8."
   ]
  },
  {
   "cell_type": "markdown",
   "id": "387330fd",
   "metadata": {},
   "source": [
    "#### f. Binary Right-Shift(>>) \n",
    "It shifts the value of the left operand the number of places to the right that the right operand specifies."
   ]
  },
  {
   "cell_type": "code",
   "execution_count": 58,
   "id": "ad15ba83",
   "metadata": {},
   "outputs": [
    {
     "data": {
      "text/plain": [
       "0"
      ]
     },
     "execution_count": 58,
     "metadata": {},
     "output_type": "execute_result"
    }
   ],
   "source": [
    "3>>2  #binary of 3 is 11. 3>>2 shifts it two places to the right. \n",
    "      #This results in 00, which is binary for 0"
   ]
  },
  {
   "cell_type": "code",
   "execution_count": 59,
   "id": "6b4f858e",
   "metadata": {},
   "outputs": [
    {
     "data": {
      "text/plain": [
       "1"
      ]
     },
     "execution_count": 59,
     "metadata": {},
     "output_type": "execute_result"
    }
   ],
   "source": [
    "3>>1   # 3>>1 shifts it one place to the right. \n",
    "       #This results in 01, which is binary for 1."
   ]
  },
  {
   "cell_type": "code",
   "execution_count": null,
   "id": "e70b2e7e",
   "metadata": {},
   "outputs": [],
   "source": []
  }
 ],
 "metadata": {
  "kernelspec": {
   "display_name": "Python 3 (ipykernel)",
   "language": "python",
   "name": "python3"
  },
  "language_info": {
   "codemirror_mode": {
    "name": "ipython",
    "version": 3
   },
   "file_extension": ".py",
   "mimetype": "text/x-python",
   "name": "python",
   "nbconvert_exporter": "python",
   "pygments_lexer": "ipython3",
   "version": "3.9.7"
  }
 },
 "nbformat": 4,
 "nbformat_minor": 5
}
