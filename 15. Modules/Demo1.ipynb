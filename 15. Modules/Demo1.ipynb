{
 "cells": [
  {
   "cell_type": "code",
   "execution_count": 12,
   "id": "bec490ed",
   "metadata": {},
   "outputs": [
    {
     "name": "stdout",
     "output_type": "stream",
     "text": [
      "5+4=9\n",
      "5-4=1\n",
      "5*4=20\n",
      "5/4=1.25\n",
      "5**4=625\n",
      "5//4=1\n"
     ]
    }
   ],
   "source": [
    "# import calc module\n",
    "from calc1 import *\n",
    "\n",
    "a=5\n",
    "b=4\n",
    "\n",
    "#Calculation\n",
    "Addition = add(a,b)\n",
    "Substraction = sub(a,b)\n",
    "Multiplication = mul(a,b)\n",
    "Division = div(a,b)\n",
    "Exponential = exp(a,b)\n",
    "Floor_division = floordiv(a,b)\n",
    "\n",
    "#Print Statements\n",
    "print(f\"{a}+{b}={Addition}\")\n",
    "print(f\"{a}-{b}={Substraction}\")\n",
    "print(f\"{a}*{b}={Multiplication}\")\n",
    "print(f\"{a}/{b}={Division}\")\n",
    "print(f\"{a}**{b}={Exponential}\")\n",
    "print(f\"{a}//{b}={Floor_division}\")"
   ]
  },
  {
   "cell_type": "code",
   "execution_count": null,
   "id": "1b0f2abc",
   "metadata": {},
   "outputs": [],
   "source": []
  }
 ],
 "metadata": {
  "kernelspec": {
   "display_name": "Python 3 (ipykernel)",
   "language": "python",
   "name": "python3"
  },
  "language_info": {
   "codemirror_mode": {
    "name": "ipython",
    "version": 3
   },
   "file_extension": ".py",
   "mimetype": "text/x-python",
   "name": "python",
   "nbconvert_exporter": "python",
   "pygments_lexer": "ipython3",
   "version": "3.9.7"
  }
 },
 "nbformat": 4,
 "nbformat_minor": 5
}
