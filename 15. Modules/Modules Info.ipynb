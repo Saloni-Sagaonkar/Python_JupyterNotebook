{
 "cells": [
  {
   "cell_type": "markdown",
   "id": "f3c2ff56",
   "metadata": {},
   "source": [
    "# Modules Info."
   ]
  },
  {
   "cell_type": "markdown",
   "id": "484431f9",
   "metadata": {},
   "source": [
    "A module allows you to logically organize your Python code. Grouping related code into a module makes the code easier to understand and use. \n",
    "\n",
    "A module is a Python object with arbitrarily named attributes that you can bind and reference.\n",
    "\n",
    "Simply, a module is a file consisting of Python code. A module can define functions, classes and variables. A module can also include runnable code.\n",
    "\n",
    "A Python modules looks like this:\n",
    "\n",
    "calc.py"
   ]
  },
  {
   "cell_type": "code",
   "execution_count": null,
   "id": "d62653dd",
   "metadata": {},
   "outputs": [],
   "source": [
    "def add(a,b):\n",
    "     return a+b\n",
    "def sub(a,b): \n",
    "     return a-b\n",
    "def mul(a,b):\n",
    "     return a*b\n",
    "def div(a,b):\n",
    "     return a/b\n",
    "def exp(a,b):\n",
    "     return a**b\n",
    "def floordiv(a,b):\n",
    "     return a//b"
   ]
  },
  {
   "cell_type": "markdown",
   "id": "a1e94aac",
   "metadata": {},
   "source": [
    "Now, to import Python modules"
   ]
  },
  {
   "cell_type": "code",
   "execution_count": null,
   "id": "21e5fb60",
   "metadata": {},
   "outputs": [],
   "source": [
    "from cal import *\n",
    "addition = add(a,b)\n",
    "add(5,4)\n",
    "print(addition)"
   ]
  },
  {
   "cell_type": "markdown",
   "id": "febfb041",
   "metadata": {},
   "source": [
    "> To understand above example refere demo1 and calc1.py modules."
   ]
  },
  {
   "cell_type": "markdown",
   "id": "6c44465e",
   "metadata": {},
   "source": [
    "# Special Variable `__name__`"
   ]
  },
  {
   "cell_type": "markdown",
   "id": "131d5dd5",
   "metadata": {},
   "source": [
    "Python `__name__` is a special variable in which the name of the current python script/module being executed is stored.\n",
    "\n",
    "In python, the `__name__` variable is assigned value `__main__` for the current python script or module, when it is being executed."
   ]
  },
  {
   "cell_type": "code",
   "execution_count": 8,
   "id": "e5136e3d",
   "metadata": {},
   "outputs": [
    {
     "name": "stdout",
     "output_type": "stream",
     "text": [
      "<class 'str'>\n",
      "__main__\n"
     ]
    }
   ],
   "source": [
    "print (type( __name__ ))\n",
    "print (__name__)"
   ]
  },
  {
   "cell_type": "code",
   "execution_count": null,
   "id": "4cd27087",
   "metadata": {},
   "outputs": [],
   "source": []
  }
 ],
 "metadata": {
  "kernelspec": {
   "display_name": "Python 3 (ipykernel)",
   "language": "python",
   "name": "python3"
  },
  "language_info": {
   "codemirror_mode": {
    "name": "ipython",
    "version": 3
   },
   "file_extension": ".py",
   "mimetype": "text/x-python",
   "name": "python",
   "nbconvert_exporter": "python",
   "pygments_lexer": "ipython3",
   "version": "3.9.7"
  }
 },
 "nbformat": 4,
 "nbformat_minor": 5
}
