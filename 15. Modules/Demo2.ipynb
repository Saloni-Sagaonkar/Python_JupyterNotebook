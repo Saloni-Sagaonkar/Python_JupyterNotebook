{
 "cells": [
  {
   "cell_type": "code",
   "execution_count": 7,
   "id": "f52f8e45",
   "metadata": {},
   "outputs": [
    {
     "name": "stdout",
     "output_type": "stream",
     "text": [
      "result 1 is\n",
      "from fun1\n",
      "from fun2\n"
     ]
    }
   ],
   "source": [
    "from cal2 import *\n",
    "\n",
    "def fun1():\n",
    "    add()\n",
    "    print(\"from fun1\")\n",
    "    \n",
    "def fun2():\n",
    "    print(\"from fun2\")\n",
    "    \n",
    "def main():\n",
    "    fun1()\n",
    "    fun2()\n",
    "\n",
    "main()"
   ]
  },
  {
   "cell_type": "code",
   "execution_count": null,
   "id": "e0e61ea8",
   "metadata": {},
   "outputs": [],
   "source": []
  }
 ],
 "metadata": {
  "kernelspec": {
   "display_name": "Python 3 (ipykernel)",
   "language": "python",
   "name": "python3"
  },
  "language_info": {
   "codemirror_mode": {
    "name": "ipython",
    "version": 3
   },
   "file_extension": ".py",
   "mimetype": "text/x-python",
   "name": "python",
   "nbconvert_exporter": "python",
   "pygments_lexer": "ipython3",
   "version": "3.9.7"
  }
 },
 "nbformat": 4,
 "nbformat_minor": 5
}
