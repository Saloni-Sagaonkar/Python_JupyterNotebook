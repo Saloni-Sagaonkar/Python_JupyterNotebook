{
 "cells": [
  {
   "cell_type": "markdown",
   "id": "7094fe6f",
   "metadata": {},
   "source": [
    "# 8. Math"
   ]
  },
  {
   "cell_type": "markdown",
   "id": "d20596a1",
   "metadata": {},
   "source": [
    "Reference: https://www.geeksforgeeks.org/python-math-module/\n",
    "\n",
    "Python provides the math module to deal with mathematical calculations.\n",
    "\n",
    "Math module provides functions to deal with both basic operations such as addition(+), subtraction(-), multiplication(*), division(/) and advance operations like trigonometric, logarithmic, exponential functions."
   ]
  },
  {
   "cell_type": "code",
   "execution_count": 1,
   "id": "62c039ad",
   "metadata": {},
   "outputs": [
    {
     "data": {
      "text/plain": [
       "5.0"
      ]
     },
     "execution_count": 1,
     "metadata": {},
     "output_type": "execute_result"
    }
   ],
   "source": [
    "import math\n",
    "x = math.sqrt(25)    #square root of 25\n",
    "x"
   ]
  },
  {
   "cell_type": "code",
   "execution_count": 33,
   "id": "56d36b3f",
   "metadata": {},
   "outputs": [
    {
     "data": {
      "text/plain": [
       "1024.0"
      ]
     },
     "execution_count": 33,
     "metadata": {},
     "output_type": "execute_result"
    }
   ],
   "source": [
    "from math import sqrt, pow\n",
    "pow(4,5)"
   ]
  },
  {
   "cell_type": "code",
   "execution_count": 34,
   "id": "a67b2a71",
   "metadata": {},
   "outputs": [
    {
     "data": {
      "text/plain": [
       "3.0"
      ]
     },
     "execution_count": 34,
     "metadata": {},
     "output_type": "execute_result"
    }
   ],
   "source": [
    "sqrt(9)"
   ]
  },
  {
   "cell_type": "markdown",
   "id": "63fbe224",
   "metadata": {},
   "source": [
    "### Constants provided by the math module\n",
    "Math module provides various the value of various constants like pi, tau.\n",
    "\n",
    "Having such constants saves the time of writing the value of each constant every time we want to use it and that too with great precision. \n",
    "\n",
    "Constants provided by the math module are – \n",
    "\n",
    "1. Euler’s Number\n",
    "2. Pi\n",
    "3. Tau\n",
    "4. Infinity\n",
    "5. Not a Number (NaN)"
   ]
  },
  {
   "cell_type": "markdown",
   "id": "fcf52599",
   "metadata": {},
   "source": [
    "#### a. Euler’s Number \n",
    "The math.e constant returns the Euler’s number: 2.71828182846."
   ]
  },
  {
   "cell_type": "code",
   "execution_count": 2,
   "id": "ed673320",
   "metadata": {},
   "outputs": [
    {
     "name": "stdout",
     "output_type": "stream",
     "text": [
      "2.718281828459045\n"
     ]
    }
   ],
   "source": [
    "import math\n",
    "print(math.e)"
   ]
  },
  {
   "cell_type": "markdown",
   "id": "7ce8c12e",
   "metadata": {},
   "source": [
    "#### b. Pi\n",
    "The pi is defined as the ratio of circumstance to the diameter of a circle. it is as either 22/7 or 3.14. \n",
    "\n",
    "The math.pi provides a more precise value for the pi."
   ]
  },
  {
   "cell_type": "code",
   "execution_count": 3,
   "id": "9761091c",
   "metadata": {},
   "outputs": [
    {
     "name": "stdout",
     "output_type": "stream",
     "text": [
      "3.141592653589793\n"
     ]
    }
   ],
   "source": [
    "print(math.pi)"
   ]
  },
  {
   "cell_type": "markdown",
   "id": "a9533328",
   "metadata": {},
   "source": [
    "#### c. Tau\n",
    "Tau is defined as the ratio of the circumference to the radius of a circle.\n",
    "\n",
    "The math.tau constant returns the value tau: 6.283185307179586."
   ]
  },
  {
   "cell_type": "code",
   "execution_count": 4,
   "id": "11d10de1",
   "metadata": {},
   "outputs": [
    {
     "name": "stdout",
     "output_type": "stream",
     "text": [
      "6.283185307179586\n"
     ]
    }
   ],
   "source": [
    "print(math.tau)"
   ]
  },
  {
   "cell_type": "markdown",
   "id": "8e66ab49",
   "metadata": {},
   "source": [
    "#### d. Infinity\n",
    "Infinity basically means something which is never-ending or boundless from both directions i.e. negative and positive. \n",
    "\n",
    "It cannot be depicted(represted) by a number. \n",
    "\n",
    "The math.inf constant returns of positive infinity. For negative infinity, use -math.inf."
   ]
  },
  {
   "cell_type": "code",
   "execution_count": 5,
   "id": "4cd93c7d",
   "metadata": {},
   "outputs": [
    {
     "name": "stdout",
     "output_type": "stream",
     "text": [
      "inf\n",
      "-inf\n"
     ]
    }
   ],
   "source": [
    "import math as m\n",
    "print(m.inf)\n",
    "print(-m.inf)"
   ]
  },
  {
   "cell_type": "markdown",
   "id": "c33ac174",
   "metadata": {},
   "source": [
    "#### e. NaN\n",
    "The math.nan constant returns a floating-point nan (Not a Number) value.\n",
    "\n",
    "This value is not a legal number. The nan constant is equivalent to float(“nan”)."
   ]
  },
  {
   "cell_type": "code",
   "execution_count": 6,
   "id": "946f523b",
   "metadata": {},
   "outputs": [
    {
     "name": "stdout",
     "output_type": "stream",
     "text": [
      "nan\n"
     ]
    }
   ],
   "source": [
    "import math\n",
    "print(math.nan)"
   ]
  },
  {
   "cell_type": "markdown",
   "id": "901ea622",
   "metadata": {},
   "source": [
    "### Numeric Functions"
   ]
  },
  {
   "cell_type": "markdown",
   "id": "1272e27f",
   "metadata": {},
   "source": [
    "#### a. ceil()\n",
    "This function returns the smallest integral value greater than the number. If number is already integer, same number is returned.\n",
    "\n",
    "#### b. floor()\n",
    "This function returns the greatest integral value smaller than the number. If number is already integer, same number is returned."
   ]
  },
  {
   "cell_type": "code",
   "execution_count": 10,
   "id": "9b599179",
   "metadata": {},
   "outputs": [
    {
     "name": "stdout",
     "output_type": "stream",
     "text": [
      "The ceil of 2.3 is: 3\n",
      "The floor of 2.3 is: 2\n"
     ]
    }
   ],
   "source": [
    "import math\n",
    "a= 2.3\n",
    "print(\"The ceil of 2.3 is:\", math.ceil(a))\n",
    "print(\"The floor of 2.3 is:\", math.floor(a))"
   ]
  },
  {
   "cell_type": "markdown",
   "id": "8f57c451",
   "metadata": {},
   "source": [
    "#### c. fabs()\n",
    "This function returns the absolute value of the number.\n",
    "\n"
   ]
  },
  {
   "cell_type": "code",
   "execution_count": 13,
   "id": "b1b9b92a",
   "metadata": {},
   "outputs": [
    {
     "name": "stdout",
     "output_type": "stream",
     "text": [
      "The absolute value of -10 is :  10.0\n"
     ]
    }
   ],
   "source": [
    "import math\n",
    "a=-10\n",
    "print(\"The absolute value of -10 is : \", math.fabs(a))"
   ]
  },
  {
   "cell_type": "markdown",
   "id": "9d3051cc",
   "metadata": {},
   "source": [
    "#### d. factorial() \n",
    "This function returns the factorial of the number. An error message is displayed if number is not integral."
   ]
  },
  {
   "cell_type": "code",
   "execution_count": 14,
   "id": "ebceb553",
   "metadata": {},
   "outputs": [
    {
     "name": "stdout",
     "output_type": "stream",
     "text": [
      "The factorial of 5 is  120\n"
     ]
    }
   ],
   "source": [
    "import math\n",
    "a= 5\n",
    "print(\"The factorial of 5 is \", math.factorial(a))"
   ]
  },
  {
   "cell_type": "markdown",
   "id": "111409b2",
   "metadata": {},
   "source": [
    "#### e. copysign(a, b) \n",
    "This function returns the number with the value of ‘a’ but with the sign of ‘b’. The returned value is float type."
   ]
  },
  {
   "cell_type": "code",
   "execution_count": 16,
   "id": "5eb44414",
   "metadata": {},
   "outputs": [
    {
     "name": "stdout",
     "output_type": "stream",
     "text": [
      "The copysigned value of -10 and 5.5 is : -10.0\n"
     ]
    }
   ],
   "source": [
    "import math\n",
    "a = 10\n",
    "b = -5.5\n",
    "print (\"The copysigned value of -10 and 5.5 is :\", math.copysign(a,b))"
   ]
  },
  {
   "cell_type": "markdown",
   "id": "1cee9d9d",
   "metadata": {},
   "source": [
    "#### f. gcd() \n",
    "This function is used to find the greatest common divisor of two numbers passed as the arguments. "
   ]
  },
  {
   "cell_type": "code",
   "execution_count": 17,
   "id": "2ef351fd",
   "metadata": {},
   "outputs": [
    {
     "name": "stdout",
     "output_type": "stream",
     "text": [
      "The gcd of 15 and 5 is: 5\n"
     ]
    }
   ],
   "source": [
    "import math\n",
    "a = 15\n",
    "b = 5\n",
    "print (\"The gcd of 15 and 5 is:\", math.gcd(a,b))"
   ]
  },
  {
   "cell_type": "markdown",
   "id": "1160a103",
   "metadata": {},
   "source": [
    "### Logarithmic and Power Functions"
   ]
  },
  {
   "cell_type": "markdown",
   "id": "12928aeb",
   "metadata": {},
   "source": [
    "Power functions can be expressed as x^n where n is the power of x.\n",
    "\n",
    "Logarithmic functions are considered as the inverse of exponential functions."
   ]
  },
  {
   "cell_type": "markdown",
   "id": "45ca4329",
   "metadata": {},
   "source": [
    "#### a. exp() \n",
    "This function returns the value of e raised to the power a (e**a) ."
   ]
  },
  {
   "cell_type": "code",
   "execution_count": 20,
   "id": "4e09aee5",
   "metadata": {},
   "outputs": [
    {
     "name": "stdout",
     "output_type": "stream",
     "text": [
      "The e**4 value is : 54.598150033144236\n"
     ]
    }
   ],
   "source": [
    "import math\n",
    "print (\"The e**4 value is :\", math.exp(4))"
   ]
  },
  {
   "cell_type": "markdown",
   "id": "839d8c9b",
   "metadata": {},
   "source": [
    "#### b. log(a, b)\n",
    "This function returns the logarithmic value of a with base b. If base is not mentioned, the computed value is of natural log."
   ]
  },
  {
   "cell_type": "code",
   "execution_count": 21,
   "id": "210ec9eb",
   "metadata": {},
   "outputs": [
    {
     "name": "stdout",
     "output_type": "stream",
     "text": [
      "The value of log 2 with base 3 is : 0.6309297535714574\n"
     ]
    }
   ],
   "source": [
    "print(\"The value of log 2 with base 3 is :\",math.log(2,3))"
   ]
  },
  {
   "cell_type": "markdown",
   "id": "df10d3a8",
   "metadata": {},
   "source": [
    "#### c. log2(a) \n",
    "This function computes value of log a with base 2.\n",
    "\n",
    "#### d. log10(a) \n",
    "This function computes value of log a with base 10."
   ]
  },
  {
   "cell_type": "code",
   "execution_count": 22,
   "id": "3c40c539",
   "metadata": {},
   "outputs": [
    {
     "name": "stdout",
     "output_type": "stream",
     "text": [
      "The value of log2 of 16 is :  4.0\n",
      "The value of log10 of 10000 is :  4.0\n"
     ]
    }
   ],
   "source": [
    "import math\n",
    "   \n",
    "# returning the log2 of 16\n",
    "print (\"The value of log2 of 16 is : \",math.log2(16))\n",
    "   \n",
    "# returning the log10 of 10000\n",
    "print (\"The value of log10 of 10000 is : \",math.log10(10000))"
   ]
  },
  {
   "cell_type": "markdown",
   "id": "e46797fe",
   "metadata": {},
   "source": [
    "#### e. pow(a, b) \n",
    "This function is used to compute value of a raised to the power b (a**b).\n"
   ]
  },
  {
   "cell_type": "code",
   "execution_count": 23,
   "id": "f9d2f939",
   "metadata": {},
   "outputs": [
    {
     "name": "stdout",
     "output_type": "stream",
     "text": [
      "The value of 3 to the power 2 is :  9.0\n"
     ]
    }
   ],
   "source": [
    "print (\"The value of 3 to the power 2 is : \", math.pow(3, 2))"
   ]
  },
  {
   "cell_type": "markdown",
   "id": "c7ba7fb1",
   "metadata": {},
   "source": [
    "#### f. sqrt() \n",
    "This function returns the square root of the number."
   ]
  },
  {
   "cell_type": "code",
   "execution_count": 24,
   "id": "6087e650",
   "metadata": {},
   "outputs": [
    {
     "name": "stdout",
     "output_type": "stream",
     "text": [
      "The value of square root of 16:  4.0\n"
     ]
    }
   ],
   "source": [
    "print (\"The value of square root of 16: \", math.sqrt(16))"
   ]
  },
  {
   "cell_type": "markdown",
   "id": "d7421ff7",
   "metadata": {},
   "source": [
    "### Trigonometric and Angular Functions "
   ]
  },
  {
   "cell_type": "markdown",
   "id": "3525e122",
   "metadata": {},
   "source": [
    "#### 1. sin() \n",
    "This function returns the sine of value passed as argument. The value passed in this function should be in radians.\n",
    "\n",
    "#### 2. cos() \n",
    "This function returns the cosine of value passed as argument. The value passed in this function should be in radians.\n",
    "\n",
    "#### 3. tan()\n",
    "This function returns the tangent of value passed as argument. The value passed in this function should be in radians."
   ]
  },
  {
   "cell_type": "code",
   "execution_count": 26,
   "id": "ee8e249a",
   "metadata": {},
   "outputs": [
    {
     "name": "stdout",
     "output_type": "stream",
     "text": [
      "The value of sine of pi/6 is :  0.49999999999999994\n",
      "The value of cosine of pi/6 is :  0.8660254037844387\n",
      "The value of tangent of pi/6 is :  0.5773502691896257\n"
     ]
    }
   ],
   "source": [
    "import math as m\n",
    "\n",
    "a= math.pi/6\n",
    "\n",
    "print (\"The value of sine of pi/6 is : \", m.sin(a))\n",
    "print (\"The value of cosine of pi/6 is : \", m.cos(a))\n",
    "print (\"The value of tangent of pi/6 is : \", m.tan(a))"
   ]
  },
  {
   "cell_type": "markdown",
   "id": "a2bf1b98",
   "metadata": {},
   "source": [
    "#### 4. hypot(a, b) \n",
    "This returns the hypotenuse of the values passed in arguments. Numerically, it returns the value of sqrt(a*a + b*b)."
   ]
  },
  {
   "cell_type": "code",
   "execution_count": 27,
   "id": "1b97e3ad",
   "metadata": {},
   "outputs": [
    {
     "name": "stdout",
     "output_type": "stream",
     "text": [
      "The value of hypotenuse of 3 and 4 is :  5.0\n"
     ]
    }
   ],
   "source": [
    "a= 3\n",
    "b=4\n",
    "\n",
    "print (\"The value of hypotenuse of 3 and 4 is : \", m.hypot(a, b))"
   ]
  },
  {
   "cell_type": "markdown",
   "id": "747d6684",
   "metadata": {},
   "source": [
    "#### 5. degrees()\n",
    "This function is used to convert argument value from radians to degrees.\n",
    "\n",
    "#### 6. radians()\n",
    "This function is used to convert argument value from degrees to radians.\n",
    "\n"
   ]
  },
  {
   "cell_type": "code",
   "execution_count": 28,
   "id": "2253770e",
   "metadata": {},
   "outputs": [
    {
     "name": "stdout",
     "output_type": "stream",
     "text": [
      "The converted value from radians to degrees is :  29.999999999999996\n",
      "The converted value from degrees to radians is :  0.5235987755982988\n"
     ]
    }
   ],
   "source": [
    "import math as m\n",
    "   \n",
    "a = math.pi/6\n",
    "b = 30\n",
    "  \n",
    "# returning the converted value from radians to degrees\n",
    "print (\"The converted value from radians to degrees is : \",m.degrees(a))\n",
    "\n",
    "   \n",
    "# returning the converted value from degrees to radians\n",
    "print (\"The converted value from degrees to radians is : \",m.radians(b))"
   ]
  },
  {
   "cell_type": "code",
   "execution_count": null,
   "id": "b19d25b3",
   "metadata": {},
   "outputs": [],
   "source": []
  }
 ],
 "metadata": {
  "kernelspec": {
   "display_name": "Python 3 (ipykernel)",
   "language": "python",
   "name": "python3"
  },
  "language_info": {
   "codemirror_mode": {
    "name": "ipython",
    "version": 3
   },
   "file_extension": ".py",
   "mimetype": "text/x-python",
   "name": "python",
   "nbconvert_exporter": "python",
   "pygments_lexer": "ipython3",
   "version": "3.9.7"
  }
 },
 "nbformat": 4,
 "nbformat_minor": 5
}
