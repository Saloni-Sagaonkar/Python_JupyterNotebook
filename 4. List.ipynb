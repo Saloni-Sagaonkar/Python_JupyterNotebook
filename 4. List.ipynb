{
 "cells": [
  {
   "cell_type": "markdown",
   "id": "f84e3cdd",
   "metadata": {},
   "source": [
    "# 4. List"
   ]
  },
  {
   "cell_type": "markdown",
   "id": "bd5acf04",
   "metadata": {},
   "source": [
    "A list is a collection of values. Remember, it may contain different types of values.\n",
    "\n",
    "To define a list, you must put values separated with commas in square brackets. You don’t need to declare a type for a list either."
   ]
  },
  {
   "cell_type": "code",
   "execution_count": 1,
   "id": "4147c3ca",
   "metadata": {},
   "outputs": [
    {
     "data": {
      "text/plain": [
       "['Monday', 'Tuesday', 3, 4, 5]"
      ]
     },
     "execution_count": 1,
     "metadata": {},
     "output_type": "execute_result"
    }
   ],
   "source": [
    "days = ['Monday', 'Tuesday', 3, 4, 5]\n",
    "days"
   ]
  },
  {
   "cell_type": "code",
   "execution_count": 6,
   "id": "17d4c964",
   "metadata": {},
   "outputs": [],
   "source": [
    "names = ['Saloni', 'Nupur', 'Maithili']\n",
    "age= [22, 18, 17]\n",
    "output = [names, age]"
   ]
  },
  {
   "cell_type": "code",
   "execution_count": 7,
   "id": "e1169d95",
   "metadata": {},
   "outputs": [
    {
     "data": {
      "text/plain": [
       "[['Saloni', 'Nupur', 'Maithili'], [22, 18, 17]]"
      ]
     },
     "execution_count": 7,
     "metadata": {},
     "output_type": "execute_result"
    }
   ],
   "source": [
    "output"
   ]
  },
  {
   "cell_type": "markdown",
   "id": "0d82b0aa",
   "metadata": {},
   "source": [
    "### 4.1 Slicing a List "
   ]
  },
  {
   "cell_type": "code",
   "execution_count": 8,
   "id": "65acb2f9",
   "metadata": {},
   "outputs": [
    {
     "data": {
      "text/plain": [
       "['Tuesday', 3]"
      ]
     },
     "execution_count": 8,
     "metadata": {},
     "output_type": "execute_result"
    }
   ],
   "source": [
    "days[1:3]"
   ]
  },
  {
   "cell_type": "code",
   "execution_count": 9,
   "id": "2ef032ec",
   "metadata": {},
   "outputs": [
    {
     "data": {
      "text/plain": [
       "[22]"
      ]
     },
     "execution_count": 9,
     "metadata": {},
     "output_type": "execute_result"
    }
   ],
   "source": [
    "age[:1]"
   ]
  },
  {
   "cell_type": "markdown",
   "id": "d259ad87",
   "metadata": {},
   "source": [
    "### 4.2 Reassigning Elements of a List"
   ]
  },
  {
   "cell_type": "markdown",
   "id": "b78dfa3e",
   "metadata": {},
   "source": [
    "A list is mutable. This means that you can reassign elements later on."
   ]
  },
  {
   "cell_type": "code",
   "execution_count": 10,
   "id": "e615011b",
   "metadata": {},
   "outputs": [
    {
     "data": {
      "text/plain": [
       "['Monday', 'Tuesday', 'Wednesday', 4, 5]"
      ]
     },
     "execution_count": 10,
     "metadata": {},
     "output_type": "execute_result"
    }
   ],
   "source": [
    "days[2]= 'Wednesday'\n",
    "days"
   ]
  },
  {
   "cell_type": "markdown",
   "id": "0116fc55",
   "metadata": {},
   "source": [
    "### 4.3 Multidimensional Lists "
   ]
  },
  {
   "cell_type": "markdown",
   "id": "7a499820",
   "metadata": {},
   "source": [
    "A list may have more than one dimension."
   ]
  },
  {
   "cell_type": "code",
   "execution_count": 13,
   "id": "cf6f4e66",
   "metadata": {},
   "outputs": [
    {
     "data": {
      "text/plain": [
       "[['caramel', 'Jelly'], ['onions', 'potatoes'], ['oil', 'salt']]"
      ]
     },
     "execution_count": 13,
     "metadata": {},
     "output_type": "execute_result"
    }
   ],
   "source": [
    "grocery_list = [['caramel', 'Jelly'], ['onions', 'potatoes'], ['oil', 'salt']]\n",
    "grocery_list"
   ]
  },
  {
   "cell_type": "code",
   "execution_count": 14,
   "id": "6ce7e4d5",
   "metadata": {},
   "outputs": [
    {
     "data": {
      "text/plain": [
       "[[[1, 2], [3, 4], 5], [6, 7]]"
      ]
     },
     "execution_count": 14,
     "metadata": {},
     "output_type": "execute_result"
    }
   ],
   "source": [
    "a = [[[1, 2], [3, 4], 5], [6, 7]]\n",
    "a"
   ]
  },
  {
   "cell_type": "code",
   "execution_count": 15,
   "id": "fd775e39",
   "metadata": {},
   "outputs": [
    {
     "data": {
      "text/plain": [
       "4"
      ]
     },
     "execution_count": 15,
     "metadata": {},
     "output_type": "execute_result"
    }
   ],
   "source": [
    "a [0][1][1]    # to access element 4"
   ]
  },
  {
   "cell_type": "code",
   "execution_count": 16,
   "id": "6df9f647",
   "metadata": {},
   "outputs": [
    {
     "data": {
      "text/plain": [
       "2"
      ]
     },
     "execution_count": 16,
     "metadata": {},
     "output_type": "execute_result"
    }
   ],
   "source": [
    "a [0][0][1]    # to access the element 2"
   ]
  },
  {
   "cell_type": "markdown",
   "id": "d0f4d48c",
   "metadata": {},
   "source": [
    "### 4.4 Concatenation of Python List "
   ]
  },
  {
   "cell_type": "code",
   "execution_count": 17,
   "id": "46646139",
   "metadata": {},
   "outputs": [
    {
     "data": {
      "text/plain": [
       "[5, 6, 7, 8, 9, 7]"
      ]
     },
     "execution_count": 17,
     "metadata": {},
     "output_type": "execute_result"
    }
   ],
   "source": [
    "a, b = [5, 6, 7], [8, 9, 7]\n",
    "a+b"
   ]
  },
  {
   "cell_type": "markdown",
   "id": "0cc437fe",
   "metadata": {},
   "source": [
    "### 4.5 List Operations"
   ]
  },
  {
   "cell_type": "markdown",
   "id": "04fd5e05",
   "metadata": {},
   "source": [
    "#### a. Multiplication\n",
    "This is an arithmetic operation. Multiplying a Python list by an integer makes copies of its items that a number of times while preserving the order."
   ]
  },
  {
   "cell_type": "code",
   "execution_count": 18,
   "id": "28e013e0",
   "metadata": {},
   "outputs": [
    {
     "data": {
      "text/plain": [
       "[5, 6, 7, 5, 6, 7, 5, 6, 7]"
      ]
     },
     "execution_count": 18,
     "metadata": {},
     "output_type": "execute_result"
    }
   ],
   "source": [
    "a *=3\n",
    "a"
   ]
  },
  {
   "cell_type": "code",
   "execution_count": 19,
   "id": "0415889c",
   "metadata": {},
   "outputs": [
    {
     "ename": "TypeError",
     "evalue": "can't multiply sequence by non-int of type 'float'",
     "output_type": "error",
     "traceback": [
      "\u001b[1;31m---------------------------------------------------------------------------\u001b[0m",
      "\u001b[1;31mTypeError\u001b[0m                                 Traceback (most recent call last)",
      "\u001b[1;32m~\\AppData\\Local\\Temp/ipykernel_14860/3920916697.py\u001b[0m in \u001b[0;36m<module>\u001b[1;34m\u001b[0m\n\u001b[1;32m----> 1\u001b[1;33m \u001b[0ma\u001b[0m \u001b[1;33m*=\u001b[0m \u001b[1;36m3.0\u001b[0m  \u001b[1;31m#can't multiply it by a float\u001b[0m\u001b[1;33m\u001b[0m\u001b[1;33m\u001b[0m\u001b[0m\n\u001b[0m",
      "\u001b[1;31mTypeError\u001b[0m: can't multiply sequence by non-int of type 'float'"
     ]
    }
   ],
   "source": [
    "a *= 3.0      #can't multiply it by a float"
   ]
  },
  {
   "cell_type": "markdown",
   "id": "d5bb4194",
   "metadata": {},
   "source": [
    "#### b. Membership\n",
    "The ‘in’ and ‘not in’ operators"
   ]
  },
  {
   "cell_type": "code",
   "execution_count": 20,
   "id": "e88ad050",
   "metadata": {},
   "outputs": [
    {
     "data": {
      "text/plain": [
       "True"
      ]
     },
     "execution_count": 20,
     "metadata": {},
     "output_type": "execute_result"
    }
   ],
   "source": [
    "6 in a"
   ]
  },
  {
   "cell_type": "code",
   "execution_count": 21,
   "id": "1b8e8585",
   "metadata": {},
   "outputs": [
    {
     "data": {
      "text/plain": [
       "False"
      ]
     },
     "execution_count": 21,
     "metadata": {},
     "output_type": "execute_result"
    }
   ],
   "source": [
    "1 in a"
   ]
  },
  {
   "cell_type": "code",
   "execution_count": 22,
   "id": "30f8a6b0",
   "metadata": {},
   "outputs": [
    {
     "data": {
      "text/plain": [
       "True"
      ]
     },
     "execution_count": 22,
     "metadata": {},
     "output_type": "execute_result"
    }
   ],
   "source": [
    "2 not in a"
   ]
  },
  {
   "cell_type": "markdown",
   "id": "e4f22343",
   "metadata": {},
   "source": [
    "### 4.6 List Comprehension "
   ]
  },
  {
   "cell_type": "markdown",
   "id": "b916bb73",
   "metadata": {},
   "source": [
    "You can create a new list just like you would do in mathematics. To do so, type an expression followed by a for statement, all inside square brackets. You may assign it to a variable. \n",
    "\n",
    "Make a list for all even numbers from 1 to 20."
   ]
  },
  {
   "cell_type": "code",
   "execution_count": 23,
   "id": "8d9f1be0",
   "metadata": {},
   "outputs": [
    {
     "data": {
      "text/plain": [
       "[2, 4, 6, 8, 10, 12, 14, 16, 18, 20]"
      ]
     },
     "execution_count": 23,
     "metadata": {},
     "output_type": "execute_result"
    }
   ],
   "source": [
    "even = [2*i for i in range(1, 11)]\n",
    "even"
   ]
  },
  {
   "cell_type": "markdown",
   "id": "f5aa5bbd",
   "metadata": {},
   "source": [
    "Add an if-statement to filter out items. \n",
    "\n",
    "If we want to change this list to hold only those items from 1 to 20 that are even and are divisible by 3."
   ]
  },
  {
   "cell_type": "code",
   "execution_count": 24,
   "id": "aeb333b7",
   "metadata": {},
   "outputs": [
    {
     "data": {
      "text/plain": [
       "[6, 12, 18]"
      ]
     },
     "execution_count": 24,
     "metadata": {},
     "output_type": "execute_result"
    }
   ],
   "source": [
    "even = [2*i for i in range(1, 11) if i%3==0]\n",
    "even"
   ]
  },
  {
   "cell_type": "markdown",
   "id": "8a1dd241",
   "metadata": {},
   "source": [
    "### 4.7 Built-in List Funtions "
   ]
  },
  {
   "cell_type": "markdown",
   "id": "7da46b45",
   "metadata": {},
   "source": [
    "#### a. len() \n",
    "\n",
    "Calculates length of the list."
   ]
  },
  {
   "cell_type": "code",
   "execution_count": 25,
   "id": "6dba7083",
   "metadata": {},
   "outputs": [
    {
     "data": {
      "text/plain": [
       "3"
      ]
     },
     "execution_count": 25,
     "metadata": {},
     "output_type": "execute_result"
    }
   ],
   "source": [
    "len(even)"
   ]
  },
  {
   "cell_type": "markdown",
   "id": "9ec50603",
   "metadata": {},
   "source": [
    "#### b. max()\n",
    "\n",
    "It returns the item from the list with the highest value."
   ]
  },
  {
   "cell_type": "code",
   "execution_count": 26,
   "id": "74ed4bb1",
   "metadata": {},
   "outputs": [
    {
     "data": {
      "text/plain": [
       "18"
      ]
     },
     "execution_count": 26,
     "metadata": {},
     "output_type": "execute_result"
    }
   ],
   "source": [
    "max(even)"
   ]
  },
  {
   "cell_type": "code",
   "execution_count": 27,
   "id": "4dd8f846",
   "metadata": {},
   "outputs": [
    {
     "data": {
      "text/plain": [
       "'3'"
      ]
     },
     "execution_count": 27,
     "metadata": {},
     "output_type": "execute_result"
    }
   ],
   "source": [
    "max(['1', '2', '3'])    #if all items in list are string, it will compare"
   ]
  },
  {
   "cell_type": "code",
   "execution_count": 29,
   "id": "704962d2",
   "metadata": {},
   "outputs": [
    {
     "data": {
      "text/plain": [
       "'saloni'"
      ]
     },
     "execution_count": 29,
     "metadata": {},
     "output_type": "execute_result"
    }
   ],
   "source": [
    "max(['saloni', 'nupurr', '3'])"
   ]
  },
  {
   "cell_type": "code",
   "execution_count": 30,
   "id": "02809fd8",
   "metadata": {},
   "outputs": [
    {
     "ename": "TypeError",
     "evalue": "'>' not supported between instances of 'str' and 'int'",
     "output_type": "error",
     "traceback": [
      "\u001b[1;31m---------------------------------------------------------------------------\u001b[0m",
      "\u001b[1;31mTypeError\u001b[0m                                 Traceback (most recent call last)",
      "\u001b[1;32m~\\AppData\\Local\\Temp/ipykernel_14860/3506568668.py\u001b[0m in \u001b[0;36m<module>\u001b[1;34m\u001b[0m\n\u001b[1;32m----> 1\u001b[1;33m \u001b[0mmax\u001b[0m\u001b[1;33m(\u001b[0m\u001b[1;33m[\u001b[0m\u001b[1;36m2\u001b[0m\u001b[1;33m,\u001b[0m \u001b[1;34m'1'\u001b[0m\u001b[1;33m,\u001b[0m \u001b[1;34m'5'\u001b[0m\u001b[1;33m]\u001b[0m\u001b[1;33m)\u001b[0m     \u001b[1;31m#fails when some are numeric and some are string\u001b[0m\u001b[1;33m\u001b[0m\u001b[1;33m\u001b[0m\u001b[0m\n\u001b[0m",
      "\u001b[1;31mTypeError\u001b[0m: '>' not supported between instances of 'str' and 'int'"
     ]
    }
   ],
   "source": [
    "max([2, '1', '5'])     #fails when some are numeric and some are string"
   ]
  },
  {
   "cell_type": "markdown",
   "id": "cd1dc9d6",
   "metadata": {},
   "source": [
    "#### c. min()\n",
    "\n",
    "It returns the item from the list with the lowest value.\n"
   ]
  },
  {
   "cell_type": "code",
   "execution_count": 61,
   "id": "f1c3a549",
   "metadata": {},
   "outputs": [
    {
     "data": {
      "text/plain": [
       "6"
      ]
     },
     "execution_count": 61,
     "metadata": {},
     "output_type": "execute_result"
    }
   ],
   "source": [
    "min(even)"
   ]
  },
  {
   "cell_type": "markdown",
   "id": "033633fa",
   "metadata": {},
   "source": [
    "#### d. sum()\n",
    "\n",
    "It returns the sum of all elements in the list."
   ]
  },
  {
   "cell_type": "code",
   "execution_count": 62,
   "id": "c6825664",
   "metadata": {},
   "outputs": [
    {
     "data": {
      "text/plain": [
       "36"
      ]
     },
     "execution_count": 62,
     "metadata": {},
     "output_type": "execute_result"
    }
   ],
   "source": [
    "sum(even)"
   ]
  },
  {
   "cell_type": "code",
   "execution_count": 33,
   "id": "13b62170",
   "metadata": {},
   "outputs": [
    {
     "data": {
      "text/plain": [
       "15.7"
      ]
     },
     "execution_count": 33,
     "metadata": {},
     "output_type": "execute_result"
    }
   ],
   "source": [
    "sum([2.2, 5.6, 7.9])"
   ]
  },
  {
   "cell_type": "markdown",
   "id": "374a9610",
   "metadata": {},
   "source": [
    "#### e. sorted()\n",
    "It returns a sorted version of the list, but does not change the original one."
   ]
  },
  {
   "cell_type": "code",
   "execution_count": 34,
   "id": "274ac4bb",
   "metadata": {},
   "outputs": [
    {
     "data": {
      "text/plain": [
       "[2, 5, 8]"
      ]
     },
     "execution_count": 34,
     "metadata": {},
     "output_type": "execute_result"
    }
   ],
   "source": [
    "a=[5, 2, 8]\n",
    "sorted(a)"
   ]
  },
  {
   "cell_type": "code",
   "execution_count": 35,
   "id": "36df8080",
   "metadata": {},
   "outputs": [
    {
     "data": {
      "text/plain": [
       "['Hello', 'hell', 'hello']"
      ]
     },
     "execution_count": 35,
     "metadata": {},
     "output_type": "execute_result"
    }
   ],
   "source": [
    "sorted(['hello', 'hell', 'Hello'])      #H has an ASCII value of 72, it appears first"
   ]
  },
  {
   "cell_type": "markdown",
   "id": "66b4fab6",
   "metadata": {},
   "source": [
    "#### f. list()\n",
    "It converts a different data type into a list.\n"
   ]
  },
  {
   "cell_type": "code",
   "execution_count": 36,
   "id": "326cace4",
   "metadata": {},
   "outputs": [
    {
     "data": {
      "text/plain": [
       "['x', 'y', 'z']"
      ]
     },
     "execution_count": 36,
     "metadata": {},
     "output_type": "execute_result"
    }
   ],
   "source": [
    "list(\"xyz\")"
   ]
  },
  {
   "cell_type": "code",
   "execution_count": 38,
   "id": "988da53f",
   "metadata": {},
   "outputs": [
    {
     "ename": "TypeError",
     "evalue": "'int' object is not iterable",
     "output_type": "error",
     "traceback": [
      "\u001b[1;31m---------------------------------------------------------------------------\u001b[0m",
      "\u001b[1;31mTypeError\u001b[0m                                 Traceback (most recent call last)",
      "\u001b[1;32m~\\AppData\\Local\\Temp/ipykernel_14860/3809773585.py\u001b[0m in \u001b[0;36m<module>\u001b[1;34m\u001b[0m\n\u001b[1;32m----> 1\u001b[1;33m \u001b[0mlist\u001b[0m\u001b[1;33m(\u001b[0m\u001b[1;36m2\u001b[0m\u001b[1;33m)\u001b[0m\u001b[1;33m\u001b[0m\u001b[1;33m\u001b[0m\u001b[0m\n\u001b[0m",
      "\u001b[1;31mTypeError\u001b[0m: 'int' object is not iterable"
     ]
    }
   ],
   "source": [
    "list(2)       #It can’t convert a single int into a list, though, it only converts iterables"
   ]
  },
  {
   "cell_type": "markdown",
   "id": "c70d1471",
   "metadata": {},
   "source": [
    "#### g. any()\n",
    "It returns True if even one item in the list has a True value."
   ]
  },
  {
   "cell_type": "code",
   "execution_count": 39,
   "id": "198eab6e",
   "metadata": {},
   "outputs": [
    {
     "data": {
      "text/plain": [
       "True"
      ]
     },
     "execution_count": 39,
     "metadata": {},
     "output_type": "execute_result"
    }
   ],
   "source": [
    "any(['', '1', ''])"
   ]
  },
  {
   "cell_type": "code",
   "execution_count": 40,
   "id": "500385aa",
   "metadata": {},
   "outputs": [
    {
     "data": {
      "text/plain": [
       "False"
      ]
     },
     "execution_count": 40,
     "metadata": {},
     "output_type": "execute_result"
    }
   ],
   "source": [
    "any([])"
   ]
  },
  {
   "cell_type": "markdown",
   "id": "ea3a2914",
   "metadata": {},
   "source": [
    "#### h. all()\n",
    "It returns True if all item in the list has a True value."
   ]
  },
  {
   "cell_type": "code",
   "execution_count": 41,
   "id": "65f95b6e",
   "metadata": {},
   "outputs": [
    {
     "data": {
      "text/plain": [
       "False"
      ]
     },
     "execution_count": 41,
     "metadata": {},
     "output_type": "execute_result"
    }
   ],
   "source": [
    "all(['','', '1'])"
   ]
  },
  {
   "cell_type": "code",
   "execution_count": 42,
   "id": "d1dd898b",
   "metadata": {},
   "outputs": [
    {
     "data": {
      "text/plain": [
       "True"
      ]
     },
     "execution_count": 42,
     "metadata": {},
     "output_type": "execute_result"
    }
   ],
   "source": [
    "all([])"
   ]
  },
  {
   "cell_type": "markdown",
   "id": "8156c364",
   "metadata": {},
   "source": [
    "### 4.8 Built-in Methods \n",
    "While a function is what you can apply on a construct and get a result, a method is what you can do to it and change it. \n",
    "\n",
    "To call a method on a construct, you use the dot-operator(.)"
   ]
  },
  {
   "cell_type": "markdown",
   "id": "5dc299d9",
   "metadata": {},
   "source": [
    "#### a. append()\n",
    "It adds an item to the end of the list."
   ]
  },
  {
   "cell_type": "code",
   "execution_count": 46,
   "id": "aeb2a738",
   "metadata": {},
   "outputs": [
    {
     "data": {
      "text/plain": [
       "[2, 3, 1]"
      ]
     },
     "execution_count": 46,
     "metadata": {},
     "output_type": "execute_result"
    }
   ],
   "source": [
    "a= [2, 3, 1]\n",
    "a"
   ]
  },
  {
   "cell_type": "code",
   "execution_count": 47,
   "id": "db7133db",
   "metadata": {},
   "outputs": [
    {
     "data": {
      "text/plain": [
       "[2, 3, 1, 4]"
      ]
     },
     "execution_count": 47,
     "metadata": {},
     "output_type": "execute_result"
    }
   ],
   "source": [
    "a.append(4)\n",
    "a"
   ]
  },
  {
   "cell_type": "markdown",
   "id": "065d8957",
   "metadata": {},
   "source": [
    "#### b. insert()\n",
    "It inserts an item at a specified position."
   ]
  },
  {
   "cell_type": "code",
   "execution_count": 48,
   "id": "cb6b8a4a",
   "metadata": {},
   "outputs": [
    {
     "data": {
      "text/plain": [
       "[2, 3, 1, 5, 4]"
      ]
     },
     "execution_count": 48,
     "metadata": {},
     "output_type": "execute_result"
    }
   ],
   "source": [
    "a.insert(3, 5)    #insert element 5 at index 3\n",
    "a"
   ]
  },
  {
   "cell_type": "markdown",
   "id": "8ea4cf77",
   "metadata": {},
   "source": [
    "#### c. remove()\n",
    "It removes the first instance of an item from the list."
   ]
  },
  {
   "cell_type": "code",
   "execution_count": 49,
   "id": "0be6b12f",
   "metadata": {},
   "outputs": [
    {
     "data": {
      "text/plain": [
       "[1, 3, 4, 2, 5]"
      ]
     },
     "execution_count": 49,
     "metadata": {},
     "output_type": "execute_result"
    }
   ],
   "source": [
    "a = [2, 1, 3, 4, 2, 5]\n",
    "a.remove(2)              #there were two 2s, but it removed only the first one.\n",
    "a"
   ]
  },
  {
   "cell_type": "markdown",
   "id": "80e854e4",
   "metadata": {},
   "source": [
    "#### d. pop()\n",
    "It removes the element at the specified index, and prints it to the screen."
   ]
  },
  {
   "cell_type": "code",
   "execution_count": 50,
   "id": "8bd3fa6a",
   "metadata": {},
   "outputs": [
    {
     "data": {
      "text/plain": [
       "2"
      ]
     },
     "execution_count": 50,
     "metadata": {},
     "output_type": "execute_result"
    }
   ],
   "source": [
    "a.pop(3)"
   ]
  },
  {
   "cell_type": "code",
   "execution_count": 51,
   "id": "fc3477be",
   "metadata": {},
   "outputs": [
    {
     "data": {
      "text/plain": [
       "[1, 3, 4, 5]"
      ]
     },
     "execution_count": 51,
     "metadata": {},
     "output_type": "execute_result"
    }
   ],
   "source": [
    "a\n"
   ]
  },
  {
   "cell_type": "markdown",
   "id": "123d154f",
   "metadata": {},
   "source": [
    "#### e. clear()\n",
    "It empties the list."
   ]
  },
  {
   "cell_type": "code",
   "execution_count": 53,
   "id": "0706a5df",
   "metadata": {},
   "outputs": [],
   "source": [
    "a.clear()"
   ]
  },
  {
   "cell_type": "code",
   "execution_count": 54,
   "id": "c952adab",
   "metadata": {},
   "outputs": [
    {
     "data": {
      "text/plain": [
       "[]"
      ]
     },
     "execution_count": 54,
     "metadata": {},
     "output_type": "execute_result"
    }
   ],
   "source": [
    "a"
   ]
  },
  {
   "cell_type": "code",
   "execution_count": 55,
   "id": "1244202c",
   "metadata": {},
   "outputs": [
    {
     "data": {
      "text/plain": [
       "False"
      ]
     },
     "execution_count": 55,
     "metadata": {},
     "output_type": "execute_result"
    }
   ],
   "source": [
    "bool(a)     #it now has a False value"
   ]
  },
  {
   "cell_type": "markdown",
   "id": "1359dd73",
   "metadata": {},
   "source": [
    "#### f. index()\n",
    "It returns the first matching index of the item specified."
   ]
  },
  {
   "cell_type": "code",
   "execution_count": 56,
   "id": "71f508a3",
   "metadata": {},
   "outputs": [
    {
     "data": {
      "text/plain": [
       "2"
      ]
     },
     "execution_count": 56,
     "metadata": {},
     "output_type": "execute_result"
    }
   ],
   "source": [
    "a=[1, 4, 6, 2]\n",
    "a.index(6)"
   ]
  },
  {
   "cell_type": "markdown",
   "id": "42003ee5",
   "metadata": {},
   "source": [
    "#### g. count()\n",
    "It returns the count of the item specified."
   ]
  },
  {
   "cell_type": "code",
   "execution_count": 57,
   "id": "33040091",
   "metadata": {},
   "outputs": [
    {
     "data": {
      "text/plain": [
       "3"
      ]
     },
     "execution_count": 57,
     "metadata": {},
     "output_type": "execute_result"
    }
   ],
   "source": [
    "a=[1, 4, 6, 2, 2, 4, 2]\n",
    "a.count(2)"
   ]
  },
  {
   "cell_type": "markdown",
   "id": "ab2a5be9",
   "metadata": {},
   "source": [
    "#### h. sort()\n",
    "It sorts the list in an ascending order."
   ]
  },
  {
   "cell_type": "code",
   "execution_count": 58,
   "id": "9e9f60bd",
   "metadata": {},
   "outputs": [],
   "source": [
    "a.sort()"
   ]
  },
  {
   "cell_type": "code",
   "execution_count": 59,
   "id": "7dc6d4bd",
   "metadata": {},
   "outputs": [
    {
     "data": {
      "text/plain": [
       "[1, 2, 2, 2, 4, 4, 6]"
      ]
     },
     "execution_count": 59,
     "metadata": {},
     "output_type": "execute_result"
    }
   ],
   "source": [
    "a"
   ]
  },
  {
   "cell_type": "markdown",
   "id": "ef7726a2",
   "metadata": {},
   "source": [
    "#### i. reverse()\n",
    "It reverses the order of elements in the lists."
   ]
  },
  {
   "cell_type": "code",
   "execution_count": 60,
   "id": "0a186808",
   "metadata": {},
   "outputs": [
    {
     "data": {
      "text/plain": [
       "[6, 4, 4, 2, 2, 2, 1]"
      ]
     },
     "execution_count": 60,
     "metadata": {},
     "output_type": "execute_result"
    }
   ],
   "source": [
    "a.reverse()\n",
    "a"
   ]
  },
  {
   "cell_type": "code",
   "execution_count": null,
   "id": "1486f6ab",
   "metadata": {},
   "outputs": [],
   "source": []
  }
 ],
 "metadata": {
  "kernelspec": {
   "display_name": "Python 3 (ipykernel)",
   "language": "python",
   "name": "python3"
  },
  "language_info": {
   "codemirror_mode": {
    "name": "ipython",
    "version": 3
   },
   "file_extension": ".py",
   "mimetype": "text/x-python",
   "name": "python",
   "nbconvert_exporter": "python",
   "pygments_lexer": "ipython3",
   "version": "3.9.7"
  }
 },
 "nbformat": 4,
 "nbformat_minor": 5
}

