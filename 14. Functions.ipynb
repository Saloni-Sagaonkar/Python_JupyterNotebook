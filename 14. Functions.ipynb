{
 "cells": [
  {
   "cell_type": "markdown",
   "id": "ae620f75",
   "metadata": {},
   "source": [
    "# 14. Functions "
   ]
  },
  {
   "cell_type": "markdown",
   "id": "6f45111c",
   "metadata": {},
   "source": [
    "Python function in any programming language is a sequence of statements in a certain order, given a name. When called, those statements are executed. So we don’t have to write the code again and again for each [type of] data that we want to apply it to. \n",
    "\n",
    "This is called code re-usability."
   ]
  },
  {
   "cell_type": "markdown",
   "id": "879bd32f",
   "metadata": {},
   "source": [
    "Types of Function in python:\n",
    "- User-defined Functions\n",
    "- Builti-in Functions\n",
    "- Lambda Functions\n",
    "- Recursion Functions"
   ]
  },
  {
   "cell_type": "markdown",
   "id": "9b553ce5",
   "metadata": {},
   "source": [
    "### User-Defined Functions\n",
    "Python lets us group a sequence of statements into a single entity, called a function.\n",
    "\n",
    "A Python function may or may not have a name."
   ]
  },
  {
   "cell_type": "markdown",
   "id": "a0ae12be",
   "metadata": {},
   "source": [
    "#### a. Advantages of User-defined Functions\n",
    "1. This Python Function help divide a program into modules. This makes the code easier to manage, debug, and scale.\n",
    "\n",
    "2. It implements code reuse. Every time you need to execute a sequence of statements, all you need to do is to call the function.\n",
    "\n",
    "3. This Python Function allow us to change functionality easily, and different programmers can work on different functions."
   ]
  },
  {
   "cell_type": "markdown",
   "id": "53336b71",
   "metadata": {},
   "source": [
    "#### b. Defining and Calling a Function\n",
    "To define your own Python function, you use the ‘def’ keyword before its name. And its name is to be followed by parentheses, before a colon(:).\n",
    "\n",
    "The contents inside the body of the function must be equally indented."
   ]
  },
  {
   "cell_type": "code",
   "execution_count": 3,
   "id": "5a620507",
   "metadata": {},
   "outputs": [],
   "source": [
    "# Definin a function\n",
    "def hello():\n",
    "    print(\"HELLO\")"
   ]
  },
  {
   "cell_type": "markdown",
   "id": "821b99a5",
   "metadata": {},
   "source": [
    "To call a Python function at a place in your code, you simply need to name it, and pass arguments, if any. "
   ]
  },
  {
   "cell_type": "code",
   "execution_count": 4,
   "id": "b35f1810",
   "metadata": {},
   "outputs": [
    {
     "name": "stdout",
     "output_type": "stream",
     "text": [
      "HELLO\n"
     ]
    }
   ],
   "source": [
    "#Calling a function\n",
    "hello()"
   ]
  },
  {
   "cell_type": "markdown",
   "id": "aaeff1da",
   "metadata": {},
   "source": [
    "> A docstring right under the first line of a function declaration. This is a documentation string, and it explains what the function does."
   ]
  },
  {
   "cell_type": "code",
   "execution_count": 6,
   "id": "f7fcb357",
   "metadata": {},
   "outputs": [],
   "source": [
    "def hello():\n",
    "             \"\"\"\n",
    "             This Python function simply prints hello to the screen\n",
    "             \"\"\"\n",
    "             print(\"Hello\")"
   ]
  },
  {
   "cell_type": "markdown",
   "id": "ff7209ef",
   "metadata": {},
   "source": [
    ">To access this docstring using the `__doc__` attribute of the function."
   ]
  },
  {
   "cell_type": "code",
   "execution_count": 10,
   "id": "dc722c22",
   "metadata": {},
   "outputs": [
    {
     "data": {
      "text/plain": [
       "'\\n             This Python function simply prints hello to the screen\\n             '"
      ]
     },
     "execution_count": 10,
     "metadata": {},
     "output_type": "execute_result"
    }
   ],
   "source": [
    "hello.__doc__"
   ]
  },
  {
   "cell_type": "code",
   "execution_count": 15,
   "id": "eb449d3d",
   "metadata": {},
   "outputs": [],
   "source": [
    "def func1():\n",
    "           \"\"\"\n",
    "           This is the docstring\n",
    "           \"\"\"\n",
    "           print(\"Hello\")"
   ]
  },
  {
   "cell_type": "code",
   "execution_count": 16,
   "id": "d21064b6",
   "metadata": {},
   "outputs": [
    {
     "data": {
      "text/plain": [
       "'\\n           This is the docstring\\n           '"
      ]
     },
     "execution_count": 16,
     "metadata": {},
     "output_type": "execute_result"
    }
   ],
   "source": [
    "func1.__doc__"
   ]
  },
  {
   "cell_type": "code",
   "execution_count": 17,
   "id": "631fc659",
   "metadata": {},
   "outputs": [
    {
     "data": {
      "text/plain": [
       "str"
      ]
     },
     "execution_count": 17,
     "metadata": {},
     "output_type": "execute_result"
    }
   ],
   "source": [
    "type(func1.__doc__)"
   ]
  },
  {
   "cell_type": "markdown",
   "id": "6457336b",
   "metadata": {},
   "source": [
    "> If you don’t know what to put in the function, then you should put the pass statement in its body. \n",
    "\n",
    "> If you leave its body empty, you get an error “Expected an indented block”."
   ]
  },
  {
   "cell_type": "code",
   "execution_count": 24,
   "id": "d174f3d3",
   "metadata": {},
   "outputs": [],
   "source": [
    "def hello1():\n",
    "    pass\n",
    "hello1()"
   ]
  },
  {
   "cell_type": "markdown",
   "id": "d7d497e7",
   "metadata": {},
   "source": [
    "#### c. Function Parameters\n",
    "Sometimes, you may want a function to operate on some variables, and produce a result. Such a function may take any number of parameters. "
   ]
  },
  {
   "cell_type": "code",
   "execution_count": 25,
   "id": "aeb23749",
   "metadata": {},
   "outputs": [
    {
     "name": "stdout",
     "output_type": "stream",
     "text": [
      "5+8=13\n"
     ]
    }
   ],
   "source": [
    "# add two numbers\n",
    "def sum(a,b):\n",
    "    print(f\"{a}+{b}={a+b}\")\n",
    "sum(5,8)"
   ]
  },
  {
   "cell_type": "markdown",
   "id": "cf870a5d",
   "metadata": {},
   "source": [
    "#### d. return statement\n",
    "A Python function may optionally return a value. This value can be a result that it produced on its execution. Or it can be something you specify- an expression or a value."
   ]
  },
  {
   "cell_type": "code",
   "execution_count": 26,
   "id": "55937379",
   "metadata": {},
   "outputs": [
    {
     "data": {
      "text/plain": [
       "0"
      ]
     },
     "execution_count": 26,
     "metadata": {},
     "output_type": "execute_result"
    }
   ],
   "source": [
    "def fun(a):\n",
    "    if a%2==0:\n",
    "        return 0\n",
    "    else:\n",
    "        return 1\n",
    "fun(4)"
   ]
  },
  {
   "cell_type": "code",
   "execution_count": 27,
   "id": "e2d83976",
   "metadata": {},
   "outputs": [
    {
     "data": {
      "text/plain": [
       "7"
      ]
     },
     "execution_count": 27,
     "metadata": {},
     "output_type": "execute_result"
    }
   ],
   "source": [
    "def sum(x,y):\n",
    "    return x+y\n",
    "sum(1,6)"
   ]
  },
  {
   "cell_type": "markdown",
   "id": "44f8b4f9",
   "metadata": {},
   "source": [
    "#### e. Scope and Lifetime of Variables\n",
    "A variable isn’t visible everywhere and alive every time. We study this in functions because the scope and lifetime for a variable depend on whether it is inside a function."
   ]
  },
  {
   "cell_type": "markdown",
   "id": "7a4f6b49",
   "metadata": {},
   "source": [
    "<b>1. Scope</b>\n",
    "\n",
    "A variable’s scope tells us where in the program it is visible. A variable may have local or global scope.\n",
    "\n",
    "<b>- Local Scope</b>\n",
    "\n",
    "A variable that’s declared inside a function has a local scope. In other words, it is local to that function."
   ]
  },
  {
   "cell_type": "code",
   "execution_count": 28,
   "id": "1b847c85",
   "metadata": {},
   "outputs": [
    {
     "name": "stdout",
     "output_type": "stream",
     "text": [
      "9\n"
     ]
    }
   ],
   "source": [
    "def fun():\n",
    "    x=9       #local variable\n",
    "    print(x)\n",
    "fun()"
   ]
  },
  {
   "cell_type": "code",
   "execution_count": 30,
   "id": "b4fb33ee",
   "metadata": {},
   "outputs": [
    {
     "ename": "NameError",
     "evalue": "name 'x' is not defined",
     "output_type": "error",
     "traceback": [
      "\u001b[1;31m---------------------------------------------------------------------------\u001b[0m",
      "\u001b[1;31mNameError\u001b[0m                                 Traceback (most recent call last)",
      "\u001b[1;32m~\\AppData\\Local\\Temp/ipykernel_5032/1353120783.py\u001b[0m in \u001b[0;36m<module>\u001b[1;34m\u001b[0m\n\u001b[1;32m----> 1\u001b[1;33m \u001b[0mprint\u001b[0m\u001b[1;33m(\u001b[0m\u001b[0mx\u001b[0m\u001b[1;33m)\u001b[0m\u001b[1;33m\u001b[0m\u001b[1;33m\u001b[0m\u001b[0m\n\u001b[0m",
      "\u001b[1;31mNameError\u001b[0m: name 'x' is not defined"
     ]
    }
   ],
   "source": [
    "print(x)     #access the variable x outside the function, you cannot."
   ]
  },
  {
   "cell_type": "markdown",
   "id": "9d38942f",
   "metadata": {},
   "source": [
    "<b>- Global Scope</b>\n",
    "\n",
    "When you declare a variable outside python function, or anything else, it has global scope. It means that it is visible everywhere within the program."
   ]
  },
  {
   "cell_type": "code",
   "execution_count": 31,
   "id": "cb1247e6",
   "metadata": {},
   "outputs": [
    {
     "name": "stdout",
     "output_type": "stream",
     "text": [
      "3\n"
     ]
    }
   ],
   "source": [
    "y=3\n",
    "def fun():\n",
    "    print(y)\n",
    "fun()"
   ]
  },
  {
   "cell_type": "markdown",
   "id": "a90c31cb",
   "metadata": {},
   "source": [
    "However, you can’t change its value from inside a local scope(here, inside a function). To do so, you must declare it global inside the function, using the `global` keyword."
   ]
  },
  {
   "cell_type": "code",
   "execution_count": 32,
   "id": "9eda5dc9",
   "metadata": {},
   "outputs": [
    {
     "name": "stdout",
     "output_type": "stream",
     "text": [
      "4\n"
     ]
    }
   ],
   "source": [
    "def fun():\n",
    "    global y\n",
    "    y+=1\n",
    "    print(y)\n",
    "fun()"
   ]
  },
  {
   "cell_type": "code",
   "execution_count": 33,
   "id": "bc172976",
   "metadata": {},
   "outputs": [
    {
     "data": {
      "text/plain": [
       "4"
      ]
     },
     "execution_count": 33,
     "metadata": {},
     "output_type": "execute_result"
    }
   ],
   "source": [
    "y     # y changed from 3 to 4"
   ]
  },
  {
   "cell_type": "markdown",
   "id": "09679106",
   "metadata": {},
   "source": [
    "<b>2. Lifetime</b>\n",
    "\n",
    "A variable’s lifetime is the period of time for which it resides in the memory.\n",
    "\n",
    "A variable that’s declared inside python function is destroyed after the function stops executing. So the next time the function is called, it does not remember the previous value of that variable."
   ]
  },
  {
   "cell_type": "code",
   "execution_count": 34,
   "id": "27ded3d6",
   "metadata": {},
   "outputs": [
    {
     "name": "stdout",
     "output_type": "stream",
     "text": [
      "1\n"
     ]
    }
   ],
   "source": [
    "def fun():\n",
    "    count=0\n",
    "    count+=1\n",
    "    print(count)\n",
    "fun()"
   ]
  },
  {
   "cell_type": "code",
   "execution_count": 35,
   "id": "522b7cee",
   "metadata": {},
   "outputs": [
    {
     "name": "stdout",
     "output_type": "stream",
     "text": [
      "1\n"
     ]
    }
   ],
   "source": [
    "fun()      #the function func() doesn’t print 2 for second time."
   ]
  },
  {
   "cell_type": "markdown",
   "id": "620f6fc6",
   "metadata": {},
   "source": [
    "#### f. Deleting Python function\n",
    "To delete a function with the ‘del’ keyword."
   ]
  },
  {
   "cell_type": "code",
   "execution_count": 36,
   "id": "66a17aa2",
   "metadata": {},
   "outputs": [
    {
     "name": "stdout",
     "output_type": "stream",
     "text": [
      "9\n"
     ]
    }
   ],
   "source": [
    "def fun():\n",
    "    print(\"9\")\n",
    "fun()"
   ]
  },
  {
   "cell_type": "code",
   "execution_count": 37,
   "id": "17cbfdeb",
   "metadata": {},
   "outputs": [
    {
     "ename": "NameError",
     "evalue": "name 'fun' is not defined",
     "output_type": "error",
     "traceback": [
      "\u001b[1;31m---------------------------------------------------------------------------\u001b[0m",
      "\u001b[1;31mNameError\u001b[0m                                 Traceback (most recent call last)",
      "\u001b[1;32m~\\AppData\\Local\\Temp/ipykernel_5032/3190673828.py\u001b[0m in \u001b[0;36m<module>\u001b[1;34m\u001b[0m\n\u001b[0;32m      1\u001b[0m \u001b[1;32mdel\u001b[0m \u001b[0mfun\u001b[0m\u001b[1;33m\u001b[0m\u001b[1;33m\u001b[0m\u001b[0m\n\u001b[1;32m----> 2\u001b[1;33m \u001b[0mfun\u001b[0m\u001b[1;33m(\u001b[0m\u001b[1;33m)\u001b[0m\u001b[1;33m\u001b[0m\u001b[1;33m\u001b[0m\u001b[0m\n\u001b[0m",
      "\u001b[1;31mNameError\u001b[0m: name 'fun' is not defined"
     ]
    }
   ],
   "source": [
    "del fun\n",
    "fun()"
   ]
  },
  {
   "cell_type": "markdown",
   "id": "10529f09",
   "metadata": {},
   "source": [
    "### 2. Built-in Functions\n",
    "Previously, we have seen a range of built-in functions. \n",
    "\n",
    "This Python function apply on constructs like int, float, bin, hex, string, list, tuple, set, dictionary, and so. "
   ]
  },
  {
   "cell_type": "markdown",
   "id": "bd24d17b",
   "metadata": {},
   "source": [
    "### 3. Lambda Expressions\n",
    "As we said earlier, a function doesn’t need to have a name. \n",
    "\n",
    "A lambda expression in Python allows us to create anonymous python function, and we use the ‘lambda’ keyword for it. \n",
    "\n",
    "Syntax for a lambda expression.\n",
    "\n",
    "`lambda arguments:expression`\n",
    "\n",
    "It’s worth noting that it can have any number of arguments, but only one expression. It evaluates the value of that expression, and returns the result."
   ]
  },
  {
   "cell_type": "code",
   "execution_count": 38,
   "id": "15ac698e",
   "metadata": {},
   "outputs": [
    {
     "data": {
      "text/plain": [
       "17"
      ]
     },
     "execution_count": 38,
     "metadata": {},
     "output_type": "execute_result"
    }
   ],
   "source": [
    "var = lambda a,b: (a*b)+2\n",
    "var(5,3)"
   ]
  },
  {
   "cell_type": "markdown",
   "id": "8f1ac5b2",
   "metadata": {},
   "source": [
    "Lambda functions can be used along with built-in functions like filter(), map() and reduce()."
   ]
  },
  {
   "cell_type": "markdown",
   "id": "03a7ea8b",
   "metadata": {},
   "source": [
    "#### a. Using lambda() Function with filter()\n",
    "The filter() function in Python takes in a function and a list as an argument. \n",
    "\n",
    "The filter() method filters the given sequence with the help of a function that tests each element in the sequence to be true or not.\n",
    "\n",
    "Write a program that returns the odd numbers from an input list: "
   ]
  },
  {
   "cell_type": "code",
   "execution_count": 43,
   "id": "e389ceb8",
   "metadata": {},
   "outputs": [
    {
     "name": "stdout",
     "output_type": "stream",
     "text": [
      "[5, 7, 97, 77, 23, 73, 61]\n"
     ]
    }
   ],
   "source": [
    "# filter() with lambda()\n",
    "li = [5, 7, 22, 97, 54, 62, 77, 23, 73, 61]\n",
    " \n",
    "final_list = list(filter(lambda x: (x%2 != 0) , li))\n",
    "print(final_list)"
   ]
  },
  {
   "cell_type": "code",
   "execution_count": 45,
   "id": "5732b972",
   "metadata": {},
   "outputs": [
    {
     "name": "stdout",
     "output_type": "stream",
     "text": [
      "[98, 75, 56, 19, 25]\n"
     ]
    }
   ],
   "source": [
    "# Python code to people above 18 yrs\n",
    "ages = [3, 98, 75, 56, 17, 19, 25]\n",
    "\n",
    "adults = list(filter(lambda age: age>18, ages))\n",
    "print(adults)"
   ]
  },
  {
   "cell_type": "markdown",
   "id": "36221893",
   "metadata": {},
   "source": [
    "#### b. Using lambda() Function with map()\n",
    "The map() function in Python takes in a function and a list as an argument. \n",
    "\n",
    "map() function returns a map object(which is an iterator) of the results after applying the given function to each item of a given iterable (list, tuple etc.)"
   ]
  },
  {
   "cell_type": "code",
   "execution_count": 46,
   "id": "51ff9df9",
   "metadata": {},
   "outputs": [
    {
     "name": "stdout",
     "output_type": "stream",
     "text": [
      "[10, 14, 44, 194, 108, 124, 154, 46, 146, 122]\n"
     ]
    }
   ],
   "source": [
    "# map() with lambda()\n",
    "# to get double of a list.\n",
    "li = [5, 7, 22, 97, 54, 62, 77, 23, 73, 61]\n",
    " \n",
    "final_list = list(map(lambda x: x*2, li))\n",
    "print(final_list)"
   ]
  },
  {
   "cell_type": "markdown",
   "id": "1ff91b8e",
   "metadata": {},
   "source": [
    "#### c. Using lambda() Function with reduce()\n",
    "The reduce() function in Python takes in a function and a list as an argument. \n",
    "\n",
    "The reduce() function is used to apply a particular function passed in its argument to all of the list elements mentioned in the sequence passed along.This function is defined in “functools” module."
   ]
  },
  {
   "cell_type": "code",
   "execution_count": 48,
   "id": "91cf0c55",
   "metadata": {},
   "outputs": [
    {
     "name": "stdout",
     "output_type": "stream",
     "text": [
      "193\n"
     ]
    }
   ],
   "source": [
    "# reduce() with lambda()\n",
    "# to get sum of a list\n",
    " \n",
    "from functools import reduce\n",
    "li = [5, 8, 10, 20, 50, 100]\n",
    "sum = reduce((lambda x, y: x + y), li)\n",
    "print (sum)"
   ]
  },
  {
   "cell_type": "markdown",
   "id": "ca74e48a",
   "metadata": {},
   "source": [
    "Here the results of previous two elements are added to the next element and this goes on till the end of the list like (((((5+8)+10)+20)+50)+100)."
   ]
  },
  {
   "cell_type": "markdown",
   "id": "d971a879",
   "metadata": {},
   "source": [
    "### 4. Recursion Function\n",
    "It is something calling itself. In Python function, recursion is when a function calls itself. "
   ]
  },
  {
   "cell_type": "markdown",
   "id": "e73b7900",
   "metadata": {},
   "source": [
    "Calculating the factorial of a number. Mathematically, a number’s factorial is:\n",
    "\n",
    "`n!=n*n-1*n-2*…*2*1`"
   ]
  },
  {
   "cell_type": "code",
   "execution_count": 39,
   "id": "7154ec05",
   "metadata": {},
   "outputs": [
    {
     "data": {
      "text/plain": [
       "120"
      ]
     },
     "execution_count": 39,
     "metadata": {},
     "output_type": "execute_result"
    }
   ],
   "source": [
    "def fact(n):\n",
    "    if n==1:\n",
    "        return 1\n",
    "    return n*fact(n-1)    #recursion function\n",
    "fact(5)"
   ]
  },
  {
   "cell_type": "code",
   "execution_count": 40,
   "id": "7c08ae42",
   "metadata": {},
   "outputs": [
    {
     "data": {
      "text/plain": [
       "1"
      ]
     },
     "execution_count": 40,
     "metadata": {},
     "output_type": "execute_result"
    }
   ],
   "source": [
    "fact(1)"
   ]
  },
  {
   "cell_type": "code",
   "execution_count": 41,
   "id": "034f8d63",
   "metadata": {},
   "outputs": [
    {
     "data": {
      "text/plain": [
       "6"
      ]
     },
     "execution_count": 41,
     "metadata": {},
     "output_type": "execute_result"
    }
   ],
   "source": [
    "fact(3)"
   ]
  },
  {
   "cell_type": "code",
   "execution_count": null,
   "id": "360a6a4a",
   "metadata": {},
   "outputs": [],
   "source": []
  }
 ],
 "metadata": {
  "kernelspec": {
   "display_name": "Python 3 (ipykernel)",
   "language": "python",
   "name": "python3"
  },
  "language_info": {
   "codemirror_mode": {
    "name": "ipython",
    "version": 3
   },
   "file_extension": ".py",
   "mimetype": "text/x-python",
   "name": "python",
   "nbconvert_exporter": "python",
   "pygments_lexer": "ipython3",
   "version": "3.9.7"
  }
 },
 "nbformat": 4,
 "nbformat_minor": 5
}
