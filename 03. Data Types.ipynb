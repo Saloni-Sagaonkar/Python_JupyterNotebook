{
 "cells": [
  {
   "cell_type": "markdown",
   "id": "1dd2b346",
   "metadata": {},
   "source": [
    "# 3. Data Types"
   ]
  },
  {
   "cell_type": "markdown",
   "id": "aa9eb1da",
   "metadata": {},
   "source": [
    "Data Type represents the type of data present inside a variable.\n",
    "\n",
    "Python contains the following inbuilt data types:\n",
    "\n",
    "1. Numbers\n",
    "\n",
    "2. Strings\n",
    "\n",
    "3. Lists \n",
    "\n",
    "4. Tuples\n",
    "5. Sets\n",
    "\n",
    "5. Dictionaries\n",
    "\n"
   ]
  },
  {
   "cell_type": "markdown",
   "id": "ad919b5b",
   "metadata": {},
   "source": [
    "### 3.1 Numbers\n",
    "\n",
    "There are four numeric Python data types.\n",
    "\n",
    "#### a. int\n",
    "int stands for integer. This Data Type holds signed integers. \n",
    "\n",
    "Use the type() function to find which class it belongs to."
   ]
  },
  {
   "cell_type": "code",
   "execution_count": 1,
   "id": "7663bdf6",
   "metadata": {},
   "outputs": [
    {
     "data": {
      "text/plain": [
       "int"
      ]
     },
     "execution_count": 1,
     "metadata": {},
     "output_type": "execute_result"
    }
   ],
   "source": [
    "a = -27\n",
    "type(a)"
   ]
  },
  {
   "cell_type": "markdown",
   "id": "bcfec102",
   "metadata": {},
   "source": [
    "### b. float\n",
    "This Data Type holds floating-point real values. \n",
    "\n",
    "An int can only store the number 3, but float can store 3.25 if you want. "
   ]
  },
  {
   "cell_type": "code",
   "execution_count": 2,
   "id": "9eda37a8",
   "metadata": {},
   "outputs": [
    {
     "data": {
      "text/plain": [
       "float"
      ]
     },
     "execution_count": 2,
     "metadata": {},
     "output_type": "execute_result"
    }
   ],
   "source": [
    "a = 3.0\n",
    "type(a)"
   ]
  },
  {
   "cell_type": "markdown",
   "id": "2c7f2416",
   "metadata": {},
   "source": [
    "### c. complex\n",
    "This Data type holds a complex number. \n",
    "\n",
    "A complex number looks like this: a+bj Here, a and b are the real parts of the number, and j is imaginary."
   ]
  },
  {
   "cell_type": "code",
   "execution_count": 3,
   "id": "2d25dc43",
   "metadata": {},
   "outputs": [
    {
     "data": {
      "text/plain": [
       "complex"
      ]
     },
     "execution_count": 3,
     "metadata": {},
     "output_type": "execute_result"
    }
   ],
   "source": [
    "a = 2+3j\n",
    "type(a)"
   ]
  },
  {
   "cell_type": "markdown",
   "id": "326c9a77",
   "metadata": {},
   "source": [
    "### d. bool\n",
    "A Boolean value can be True or False."
   ]
  },
  {
   "cell_type": "code",
   "execution_count": 4,
   "id": "ff6cb31d",
   "metadata": {},
   "outputs": [
    {
     "data": {
      "text/plain": [
       "bool"
      ]
     },
     "execution_count": 4,
     "metadata": {},
     "output_type": "execute_result"
    }
   ],
   "source": [
    "a = 2 > 1\n",
    "type (a)"
   ]
  },
  {
   "cell_type": "markdown",
   "id": "c024d74d",
   "metadata": {},
   "source": [
    "### 3.2 Strings \n",
    "A string is a sequence of characters. \n",
    "\n",
    "Python does not have a char data type, unlike C++ or Java. \n",
    "\n",
    "You can delimit a string using single quotes or double-quotes."
   ]
  },
  {
   "cell_type": "code",
   "execution_count": 5,
   "id": "1be3eb40",
   "metadata": {},
   "outputs": [
    {
     "data": {
      "text/plain": [
       "'pune'"
      ]
     },
     "execution_count": 5,
     "metadata": {},
     "output_type": "execute_result"
    }
   ],
   "source": [
    "city=\"Pune\"\n",
    "city"
   ]
  },
  {
   "cell_type": "code",
   "execution_count": 6,
   "id": "617cc617",
   "metadata": {},
   "outputs": [
    {
     "data": {
      "text/plain": [
       "'Pune'"
      ]
     },
     "execution_count": 6,
     "metadata": {},
     "output_type": "execute_result"
    }
   ],
   "source": [
    "city='Pune'\n",
    "city"
   ]
  },
  {
   "cell_type": "markdown",
   "id": "c8992710",
   "metadata": {},
   "source": [
    "#### a. Spanning a String Across Lines\n",
    "To span a string across multiple lines, you can use triple quotes."
   ]
  },
  {
   "cell_type": "code",
   "execution_count": 12,
   "id": "7c8b519b",
   "metadata": {},
   "outputs": [
    {
     "data": {
      "text/plain": [
       "'If\\nonly'"
      ]
     },
     "execution_count": 12,
     "metadata": {},
     "output_type": "execute_result"
    }
   ],
   "source": [
    "variable=\"\"\"If\n",
    "only\"\"\"\n",
    "variable"
   ]
  },
  {
   "cell_type": "code",
   "execution_count": 13,
   "id": "924a34f4",
   "metadata": {},
   "outputs": [
    {
     "name": "stdout",
     "output_type": "stream",
     "text": [
      "If\n",
      "only\n"
     ]
    }
   ],
   "source": [
    "print(variable)"
   ]
  },
  {
   "cell_type": "markdown",
   "id": "1eb2de6e",
   "metadata": {},
   "source": [
    "#### b. Displaying Part of a String\n",
    "You can display a character from a string using its index.\n",
    "Remember, indexing starts with 0."
   ]
  },
  {
   "cell_type": "code",
   "execution_count": 14,
   "id": "cb8c1e89",
   "metadata": {},
   "outputs": [
    {
     "data": {
      "text/plain": [
       "'t'"
      ]
     },
     "execution_count": 14,
     "metadata": {},
     "output_type": "execute_result"
    }
   ],
   "source": [
    "word = 'python'\n",
    "word[2]"
   ]
  },
  {
   "cell_type": "code",
   "execution_count": 15,
   "id": "92624863",
   "metadata": {},
   "outputs": [
    {
     "data": {
      "text/plain": [
       "'yth'"
      ]
     },
     "execution_count": 15,
     "metadata": {},
     "output_type": "execute_result"
    }
   ],
   "source": [
    "word[1:4]"
   ]
  },
  {
   "cell_type": "markdown",
   "id": "b644b7c8",
   "metadata": {},
   "source": [
    "#### c. String Formatters\n",
    "String formatters allow us to print characters and values at once. You can use the % operator."
   ]
  },
  {
   "cell_type": "code",
   "execution_count": 16,
   "id": "94fd7243",
   "metadata": {},
   "outputs": [
    {
     "name": "stdout",
     "output_type": "stream",
     "text": [
      "I just printed 5 pages to the printer Dell\n"
     ]
    }
   ],
   "source": [
    "x = 5;\n",
    "printer= \"Dell\"\n",
    "print(\"I just printed %s pages to the printer %s\" % (x, printer))"
   ]
  },
  {
   "cell_type": "markdown",
   "id": "ccf4a4c7",
   "metadata": {},
   "source": [
    "OR you can use the format method."
   ]
  },
  {
   "cell_type": "code",
   "execution_count": 18,
   "id": "66ad6f56",
   "metadata": {},
   "outputs": [
    {
     "name": "stdout",
     "output_type": "stream",
     "text": [
      "I just printed 5 pages to the printer Dell\n",
      "I just printed 7 pages to the printer Dell\n"
     ]
    }
   ],
   "source": [
    "print(\"I just printed {0} pages to the printer {1}\".format(x, printer))\n",
    "print(\"I just printed {x} pages to the printer {printer}\".format(x=7, printer=\"Dell\"))"
   ]
  },
  {
   "cell_type": "markdown",
   "id": "e0e75fee",
   "metadata": {},
   "source": [
    "OR use f-strings."
   ]
  },
  {
   "cell_type": "code",
   "execution_count": 19,
   "id": "dce53928",
   "metadata": {},
   "outputs": [
    {
     "name": "stdout",
     "output_type": "stream",
     "text": [
      "I just printed 5 pages to the printer Dell\n"
     ]
    }
   ],
   "source": [
    "print(f\"I just printed {x} pages to the printer {printer}\")"
   ]
  },
  {
   "cell_type": "markdown",
   "id": "098b58ee",
   "metadata": {},
   "source": [
    "#### d. String Concatenation\n",
    "Concatenate(join) strings.\n",
    "Cannot concatenate valuse of different types."
   ]
  },
  {
   "cell_type": "code",
   "execution_count": 20,
   "id": "c7ebb6d6",
   "metadata": {},
   "outputs": [
    {
     "name": "stdout",
     "output_type": "stream",
     "text": [
      "1010\n"
     ]
    }
   ],
   "source": [
    "a='10'\n",
    "print(a+a)"
   ]
  },
  {
   "cell_type": "code",
   "execution_count": 21,
   "id": "54264e7f",
   "metadata": {},
   "outputs": [
    {
     "ename": "TypeError",
     "evalue": "can only concatenate str (not \"int\") to str",
     "output_type": "error",
     "traceback": [
      "\u001b[1;31m---------------------------------------------------------------------------\u001b[0m",
      "\u001b[1;31mTypeError\u001b[0m                                 Traceback (most recent call last)",
      "\u001b[1;32m~\\AppData\\Local\\Temp/ipykernel_18568/990838741.py\u001b[0m in \u001b[0;36m<module>\u001b[1;34m\u001b[0m\n\u001b[1;32m----> 1\u001b[1;33m \u001b[0mprint\u001b[0m\u001b[1;33m(\u001b[0m\u001b[1;34m'10'\u001b[0m\u001b[1;33m+\u001b[0m\u001b[1;36m10\u001b[0m\u001b[1;33m)\u001b[0m\u001b[1;33m\u001b[0m\u001b[1;33m\u001b[0m\u001b[0m\n\u001b[0m",
      "\u001b[1;31mTypeError\u001b[0m: can only concatenate str (not \"int\") to str"
     ]
    }
   ],
   "source": [
    "print('10'+10)"
   ]
  },
  {
   "cell_type": "markdown",
   "id": "ffeb53d2",
   "metadata": {},
   "source": [
    "### 3.3 Lists [refer notebook 4]\n",
    "### 3.4 Tuples [refer notebook 5]\n",
    "### 3.5 Sets [refer notebook 6]"
   ]
  },
  {
   "cell_type": "markdown",
   "id": "f8ab5015",
   "metadata": {},
   "source": [
    "### 3.6. Dictionaries\n",
    "A dictionary holds key-value pairs. \n",
    "\n",
    "Declare it in curly braces, with pairs separated by commas. Separate keys and values by a colon(:)."
   ]
  },
  {
   "cell_type": "code",
   "execution_count": 23,
   "id": "72f106d7",
   "metadata": {},
   "outputs": [
    {
     "data": {
      "text/plain": [
       "{'city': 'Pune', 'age': 22}"
      ]
     },
     "execution_count": 23,
     "metadata": {},
     "output_type": "execute_result"
    }
   ],
   "source": [
    "person= {'city':'Pune', 'age':22}\n",
    "person"
   ]
  },
  {
   "cell_type": "code",
   "execution_count": 24,
   "id": "8a1a81f6",
   "metadata": {},
   "outputs": [
    {
     "data": {
      "text/plain": [
       "dict"
      ]
     },
     "execution_count": 24,
     "metadata": {},
     "output_type": "execute_result"
    }
   ],
   "source": [
    "type(person)"
   ]
  },
  {
   "cell_type": "markdown",
   "id": "c8f7e1a9",
   "metadata": {},
   "source": [
    "#### a. Accessing a Value\n",
    "To access a value, mention the key in square brackets."
   ]
  },
  {
   "cell_type": "code",
   "execution_count": 25,
   "id": "869d9a0a",
   "metadata": {},
   "outputs": [
    {
     "data": {
      "text/plain": [
       "'Pune'"
      ]
     },
     "execution_count": 25,
     "metadata": {},
     "output_type": "execute_result"
    }
   ],
   "source": [
    "person['city']"
   ]
  },
  {
   "cell_type": "markdown",
   "id": "6d773327",
   "metadata": {},
   "source": [
    "#### b. Reassigning Elements\n",
    "Reassign a value to a key."
   ]
  },
  {
   "cell_type": "code",
   "execution_count": 26,
   "id": "723ca77d",
   "metadata": {},
   "outputs": [
    {
     "data": {
      "text/plain": [
       "30"
      ]
     },
     "execution_count": 26,
     "metadata": {},
     "output_type": "execute_result"
    }
   ],
   "source": [
    "person['age']= 30\n",
    "person['age']"
   ]
  },
  {
   "cell_type": "code",
   "execution_count": 27,
   "id": "f4b959d2",
   "metadata": {},
   "outputs": [
    {
     "data": {
      "text/plain": [
       "'Mumbai'"
      ]
     },
     "execution_count": 27,
     "metadata": {},
     "output_type": "execute_result"
    }
   ],
   "source": [
    "person['city']= 'Mumbai'\n",
    "person['city']"
   ]
  },
  {
   "cell_type": "markdown",
   "id": "c0eaa257",
   "metadata": {},
   "source": [
    "#### c. List of Keys\n",
    "Use the keys() function to get a list of keys in the dictionary."
   ]
  },
  {
   "cell_type": "code",
   "execution_count": 28,
   "id": "723f7e8e",
   "metadata": {},
   "outputs": [
    {
     "data": {
      "text/plain": [
       "dict_keys(['city', 'age'])"
      ]
     },
     "execution_count": 28,
     "metadata": {},
     "output_type": "execute_result"
    }
   ],
   "source": [
    "person.keys()"
   ]
  },
  {
   "cell_type": "code",
   "execution_count": null,
   "id": "1c1db4e5",
   "metadata": {},
   "outputs": [],
   "source": []
  }
 ],
 "metadata": {
  "kernelspec": {
   "display_name": "Python 3 (ipykernel)",
   "language": "python",
   "name": "python3"
  },
  "language_info": {
   "codemirror_mode": {
    "name": "ipython",
    "version": 3
   },
   "file_extension": ".py",
   "mimetype": "text/x-python",
   "name": "python",
   "nbconvert_exporter": "python",
   "pygments_lexer": "ipython3",
   "version": "3.9.7"
  }
 },
 "nbformat": 4,
 "nbformat_minor": 5
}
