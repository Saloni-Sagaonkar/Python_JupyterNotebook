{
 "cells": [
  {
   "cell_type": "markdown",
   "id": "3d5eb28b",
   "metadata": {},
   "source": [
    "# Object-Oriented Programming"
   ]
  },
  {
   "cell_type": "markdown",
   "id": "edef4ec5",
   "metadata": {},
   "source": [
    "OOPs is a programming paradigm that uses objects and classes in programming. \n",
    "\n",
    "It aims to <b>implement real-world entities</b> like inheritance, polymorphisms, encapsulation, etc. in the programming. The main concept of OOPs is to bind the data and the functions that work on that together as a single unit so that no other part of the code can access this data. \n",
    "\n",
    "- Main Concepts of Object-Oriented Programming (OOPs) \n",
    "1. Class\n",
    "2. Objects\n",
    "3. Methods\n",
    "4. Polymorphism\n",
    "5. Encapsulation\n",
    "6. Inheritance"
   ]
  },
  {
   "cell_type": "markdown",
   "id": "448f589a",
   "metadata": {},
   "source": [
    "### 1. Class"
   ]
  },
  {
   "cell_type": "markdown",
   "id": "ca8e579c",
   "metadata": {},
   "source": [
    "A class is a collection of objects. This contains the <b>blueprints</b> from which the objects are being created. It is a logical entity that contains some attributes and methods.\n",
    "\n",
    "Some points on Python class:  \n",
    "\n",
    "- Classes are created by keyword \"class\".\n",
    "- Attributes are the variables that belong to a class.\n",
    "- Attributes are always public and can be accessed using the dot (.) operator. Eg.: Myclass.Myattribute"
   ]
  },
  {
   "attachments": {
    "image.png": {
     "image/png": "[encoded data removed]"
    }
   },
   "cell_type": "markdown",
   "id": "22b9faa2",
   "metadata": {},
   "source": [
    "### 2. Objects\n",
    "A Python object is an instance of a class. It can have properties and behavior. \n",
    "\n",
    "An object consists of : \n",
    "\n",
    "1. <b>State</b>: It is represented by the attributes of an object. It also reflects the properties of an object.\n",
    "2. <b>Behavior</b>: It is represented by the methods of an object. It also reflects the response of an object to other objects.\n",
    "3. <b>Identity</b>: It gives a unique name to an object and enables one object to interact with other objects.\n",
    "\n",
    "![image.png](attachment:image.png)"
   ]
  },
  {
   "cell_type": "code",
   "execution_count": 1,
   "id": "864b5104",
   "metadata": {},
   "outputs": [
    {
     "name": "stdout",
     "output_type": "stream",
     "text": [
      "mammal\n",
      "I'm a mammal\n",
      "I'm a dog\n"
     ]
    }
   ],
   "source": [
    "class Dog:                                 # class\n",
    "     \n",
    "    attr1 = \"mammal\"                       # attribute\n",
    "    attr2 = \"dog\"\n",
    "  \n",
    "    def fun(self):                         # method\n",
    "        print(\"I'm a\", self.attr1)\n",
    "        print(\"I'm a\", self.attr2)\n",
    " \n",
    "Dobermann = Dog()                          # object of a class\n",
    " \n",
    "print(Dobermann .attr1)                   # Accessing class attributes\n",
    "Dobermann .fun()                          # Accessing method through objects"
   ]
  },
  {
   "cell_type": "markdown",
   "id": "9c777e3f",
   "metadata": {},
   "source": [
    "#### The self\n",
    "Class methods must have an <b>extra first parameter in the method definition</b>. We do not give a value for this parameter when we call the method, Python provides it.\n",
    "\n",
    "If we have a method that takes no arguments, then we still have to have one argument."
   ]
  },
  {
   "cell_type": "markdown",
   "id": "4a84a344",
   "metadata": {},
   "source": [
    ">Self is always pointing to Current Object."
   ]
  },
  {
   "cell_type": "code",
   "execution_count": 3,
   "id": "57bed15f",
   "metadata": {},
   "outputs": [
    {
     "name": "stdout",
     "output_type": "stream",
     "text": [
      "Address of self =  1276499034416\n",
      "Address of class object =  1276499034416\n"
     ]
    }
   ],
   "source": [
    "#it is clearly seen that self and obj is referring to the same object\n",
    " \n",
    "class check:\n",
    "    def __init__(self):\n",
    "        print(\"Address of self = \",id(self))\n",
    " \n",
    "obj = check()\n",
    "print(\"Address of class object = \",id(obj))"
   ]
  },
  {
   "cell_type": "markdown",
   "id": "d07b5ebd",
   "metadata": {},
   "source": [
    "### The `__init__` method  \n",
    "the __init__() method is equivalent to a constructor in C++ or Java. It gets called every time we create an object of the class"
   ]
  },
  {
   "cell_type": "code",
   "execution_count": 2,
   "id": "f849e8c7",
   "metadata": {},
   "outputs": [
    {
     "name": "stdout",
     "output_type": "stream",
     "text": [
      "Hello, my name is Saloni\n",
      "Hello, my name is Nupur\n"
     ]
    }
   ],
   "source": [
    "# A Sample class with init method  \n",
    "class Person:   \n",
    "    def __init__(self, name):                 # init method or constructor  \n",
    "        self.name = name  \n",
    "      \n",
    "    def say_hi(self):                          # Sample Method   \n",
    "        print('Hello, my name is', self.name)  \n",
    "        \n",
    "#Creating different objects  \n",
    "p1 = Person('Saloni') \n",
    "p2 = Person('Nupur')\n",
    "\n",
    "p1.say_hi() \n",
    "p2.say_hi()  "
   ]
  },
  {
   "cell_type": "markdown",
   "id": "288a3b8e",
   "metadata": {},
   "source": [
    "### Types of variables\n",
    "\n",
    "1. <b>Instance Variable</b>: Instances variable are different for different objects. If you change one object, it will not affect other objects.\n",
    "\n",
    "\n",
    "2. <b>Class(static) variable</b>: Class variable is common to all objects."
   ]
  },
  {
   "cell_type": "code",
   "execution_count": 1,
   "id": "d8697109",
   "metadata": {},
   "outputs": [
    {
     "name": "stdout",
     "output_type": "stream",
     "text": [
      "BMW 8 4\n",
      "BMW 10 4\n"
     ]
    }
   ],
   "source": [
    "# A sample class car\n",
    "class Car:\n",
    "    wheels = 4                            #Class(static) variable--> inside class but outside on methods\n",
    "    \n",
    "    def __init__(self):\n",
    "        self.mil= 10                      #Instance Variable -->inside __init__\n",
    "        self.com=\"BMW\"                    #Instance Variable\n",
    "\n",
    "c1= Car()\n",
    "c2= Car()\n",
    "\n",
    "c1.mil =8\n",
    "\n",
    "print(c1.com, c1.mil, c1.wheels)\n",
    "print(c2.com, c2.mil, c2.wheels)"
   ]
  },
  {
   "cell_type": "markdown",
   "id": "ac817f7e",
   "metadata": {},
   "source": [
    "### Types of Methods\n",
    "\n",
    "\n",
    "<b>1. Instance Methods</b>:: The most common method type. you can access data and properties unique to each instance.\n",
    "- access class variables\n",
    "- access instance variables\n",
    "- call other instance methods\n",
    "- call static methods\n",
    "- call class methods\n"
   ]
  },
  {
   "cell_type": "code",
   "execution_count": 2,
   "id": "32722d95",
   "metadata": {},
   "outputs": [
    {
     "name": "stdout",
     "output_type": "stream",
     "text": [
      "15.0\n",
      "20.0\n",
      "True\n",
      "True\n"
     ]
    }
   ],
   "source": [
    "# Instance Method Example in Python\n",
    "class Student:\n",
    "    \"\"\"Calculates student average\"\"\"\n",
    "\n",
    "    def __init__(self, a, b):\n",
    "        self.a = a\n",
    "        self.b = b\n",
    "\n",
    "    def avg(self):\n",
    "        return (self.a + self.b) / 2\n",
    "\n",
    "\n",
    "'''\n",
    "create two instances of Student class (tim and sally)\n",
    "pass in different arguments to the objects\n",
    "each object is saved as instance variables self.a, self.b\n",
    "'''\n",
    "tim = Student(10, 20) \n",
    "sally = Student(15, 25) \n",
    "\n",
    "\n",
    "'''\n",
    "each object calls the avg() method, but the instance\n",
    "variables are different in each call\n",
    "'''\n",
    "print(tim.avg()) #output: 15.0\n",
    "print(sally.avg()) #output: 20.0\n",
    "\n",
    "\n",
    "'''\n",
    "Use Python's function to check if tim and sally are indeed\n",
    "instances of the class Student\n",
    "'''\n",
    "print(isinstance(tim, Student)) # True\n",
    "print(isinstance(sally, Student)) # True"
   ]
  },
  {
   "cell_type": "markdown",
   "id": "59ab61d7",
   "metadata": {},
   "source": [
    "<b>2. Static Methods</b>: Does not have the self keyword and cannot access data in the class, it is self-contained.\n",
    "- no direct access to class variables\n",
    "- no direct access to instance variables\n",
    "- no access to instance methods\n",
    "- no direct access to class method ( possible with Class.method_name )"
   ]
  },
  {
   "cell_type": "code",
   "execution_count": 10,
   "id": "b692eb22",
   "metadata": {},
   "outputs": [
    {
     "name": "stdout",
     "output_type": "stream",
     "text": [
      "Exams next week!\n",
      "Exams next week!\n"
     ]
    }
   ],
   "source": [
    "# Static Method Example in Python\n",
    "class Student:\n",
    "    \"\"\"Calculates student average\"\"\"\n",
    "\n",
    "    def __init__(self, a, b):\n",
    "        self.a = a\n",
    "        self.b = b\n",
    "\n",
    "    def avg(self):\n",
    "        return (self.a + self.b) / 2\n",
    "\n",
    "    @staticmethod\n",
    "    def notice():\n",
    "        return \"Exams next week!\"\n",
    "\n",
    "\n",
    "# static method called directly on class\n",
    "print( Student.notice() )  # output: Exams next week!\n",
    "\n",
    "# create object and call static method on it\n",
    "sally = Student(10, 15)\n",
    "print( sally.notice() ) # output: Exams next week!"
   ]
  },
  {
   "cell_type": "markdown",
   "id": "5b343581",
   "metadata": {},
   "source": [
    ">The @staticmethod decorator was used to tell Python that this method is a static method.\n",
    "\n",
    ">Static methods are great for utility methods used to perform tasks in isolation, they cannot access class data and should be completely self contained."
   ]
  },
  {
   "cell_type": "markdown",
   "id": "900bf4af",
   "metadata": {},
   "source": [
    "<b>3. Class Methods</b>: Similar to the static method but has cls keyword and access to class data but not instance data\n",
    "- access class variables\n",
    "- access static method\n",
    "- no access to instance variables\n",
    "- no access to instance methods"
   ]
  },
  {
   "cell_type": "code",
   "execution_count": 12,
   "id": "2e18f5ad",
   "metadata": {},
   "outputs": [
    {
     "name": "stdout",
     "output_type": "stream",
     "text": [
      "Kings College\n",
      "Kings College\n"
     ]
    }
   ],
   "source": [
    "# Class Method Example in Python\n",
    "class Student:\n",
    "    \"\"\"Return info\"\"\"\n",
    "\n",
    "    name = \"Kings College\"\n",
    "\n",
    "    @classmethod\n",
    "    def info(cls):\n",
    "        return cls.name\n",
    "\n",
    "\n",
    "print(Student.info())  # output: Kings College\n",
    "\n",
    "jill = Student()\n",
    "print(jill.info()) # output: Kings College"
   ]
  },
  {
   "cell_type": "markdown",
   "id": "22dc71b9",
   "metadata": {},
   "source": [
    ">The @classmethod decorator was used to tell Python that this method is a class method.\n",
    "\n",
    ">Also we define the method with the cls keyword, this gives us access to the class property name"
   ]
  },
  {
   "cell_type": "code",
   "execution_count": 13,
   "id": "1e3f1a04",
   "metadata": {},
   "outputs": [
    {
     "ename": "AttributeError",
     "evalue": "type object 'Student' has no attribute 'a'",
     "output_type": "error",
     "traceback": [
      "\u001b[1;31m---------------------------------------------------------------------------\u001b[0m",
      "\u001b[1;31mAttributeError\u001b[0m                            Traceback (most recent call last)",
      "\u001b[1;32m~\\AppData\\Local\\Temp/ipykernel_21868/3106853186.py\u001b[0m in \u001b[0;36m<module>\u001b[1;34m\u001b[0m\n\u001b[0;32m     14\u001b[0m \u001b[1;33m\u001b[0m\u001b[0m\n\u001b[0;32m     15\u001b[0m \u001b[1;31m# AttributeError: type object 'Student' has no attribute 'a'\u001b[0m\u001b[1;33m\u001b[0m\u001b[1;33m\u001b[0m\u001b[0m\n\u001b[1;32m---> 16\u001b[1;33m \u001b[0mprint\u001b[0m\u001b[1;33m(\u001b[0m\u001b[0mStudent\u001b[0m\u001b[1;33m.\u001b[0m\u001b[0minfo\u001b[0m\u001b[1;33m(\u001b[0m\u001b[1;33m)\u001b[0m\u001b[1;33m)\u001b[0m\u001b[1;33m\u001b[0m\u001b[1;33m\u001b[0m\u001b[0m\n\u001b[0m",
      "\u001b[1;32m~\\AppData\\Local\\Temp/ipykernel_21868/3106853186.py\u001b[0m in \u001b[0;36minfo\u001b[1;34m(cls)\u001b[0m\n\u001b[0;32m     10\u001b[0m     \u001b[1;33m@\u001b[0m\u001b[0mclassmethod\u001b[0m\u001b[1;33m\u001b[0m\u001b[1;33m\u001b[0m\u001b[0m\n\u001b[0;32m     11\u001b[0m     \u001b[1;32mdef\u001b[0m \u001b[0minfo\u001b[0m\u001b[1;33m(\u001b[0m\u001b[0mcls\u001b[0m\u001b[1;33m)\u001b[0m\u001b[1;33m:\u001b[0m\u001b[1;33m\u001b[0m\u001b[1;33m\u001b[0m\u001b[0m\n\u001b[1;32m---> 12\u001b[1;33m         \u001b[1;32mreturn\u001b[0m \u001b[0mcls\u001b[0m\u001b[1;33m.\u001b[0m\u001b[0ma\u001b[0m\u001b[1;33m\u001b[0m\u001b[1;33m\u001b[0m\u001b[0m\n\u001b[0m\u001b[0;32m     13\u001b[0m \u001b[1;33m\u001b[0m\u001b[0m\n\u001b[0;32m     14\u001b[0m \u001b[1;33m\u001b[0m\u001b[0m\n",
      "\u001b[1;31mAttributeError\u001b[0m: type object 'Student' has no attribute 'a'"
     ]
    }
   ],
   "source": [
    "# Example: can't access instance variables from a class method\n",
    "class Student:\n",
    "    \"\"\"Return info\"\"\"\n",
    "\n",
    "    name = \"Kings College\"\n",
    "\n",
    "    def __init__(self, a, b):\n",
    "        self.a = a\n",
    "        self.b = b\n",
    "\n",
    "    @classmethod\n",
    "    def info(cls):\n",
    "        return cls.a\n",
    "\n",
    "\n",
    "# AttributeError: type object 'Student' has no attribute 'a'\n",
    "print(Student.info())"
   ]
  },
  {
   "cell_type": "code",
   "execution_count": 14,
   "id": "b305f031",
   "metadata": {},
   "outputs": [
    {
     "name": "stdout",
     "output_type": "stream",
     "text": [
      "static method called!\n",
      "static method called!\n",
      "Kings College\n"
     ]
    }
   ],
   "source": [
    "'''\n",
    "It is possible to call a static method from a class method\n",
    "'''\n",
    "class Student:\n",
    "\n",
    "    name = \"Kings College\"\n",
    "\n",
    "    @classmethod\n",
    "    def info(cls):\n",
    "        return cls.static_method()\n",
    "\n",
    "    @staticmethod\n",
    "    def static_method():\n",
    "        return \"static method called!\"\n",
    "\n",
    "\n",
    "print(Student.info()) #ouput: static method called!\n",
    "\n",
    "\n",
    "'''\n",
    "It is possible to call a static method from an instance method\n",
    "'''\n",
    "class Student:\n",
    "\n",
    "    name = \"Kings College\"\n",
    "\n",
    "    def instance_method(self):\n",
    "        return self.static_method()\n",
    "\n",
    "    @staticmethod\n",
    "    def static_method():\n",
    "        return \"static method called!\"\n",
    "\n",
    "jill = Student()\n",
    "print(jill.instance_method())  # output: static method called!\n",
    "\n",
    "\n",
    "'''\n",
    "It is possible to call a class method from an instance method\n",
    "'''\n",
    "class Student:\n",
    "\n",
    "    name = \"Kings College\"\n",
    "\n",
    "    def instance_method(self):\n",
    "        return self.class_method()\n",
    "\n",
    "    @classmethod\n",
    "    def class_method(cls):\n",
    "        return cls.name\n",
    "\n",
    "\n",
    "jill = Student()\n",
    "print(jill.instance_method())  # output: Kings College"
   ]
  },
  {
   "cell_type": "markdown",
   "id": "04baea7f",
   "metadata": {},
   "source": [
    "### Inner Class \n",
    "A class defined in another class is known as an inner class or nested class. "
   ]
  },
  {
   "cell_type": "code",
   "execution_count": 17,
   "id": "972cf02e",
   "metadata": {},
   "outputs": [
    {
     "name": "stdout",
     "output_type": "stream",
     "text": [
      "Name: Green\n",
      "Name: Light Green\n",
      "Code: 024avc\n"
     ]
    }
   ],
   "source": [
    "# create a Color class\n",
    "class Color:\n",
    "   \n",
    "  def __init__(self):                    # constructor method\n",
    "    # object attributes\n",
    "    self.name = 'Green'\n",
    "    self.lg = self.Lightgreen()\n",
    "   \n",
    "  def show(self):\n",
    "    print(\"Name:\", self.name)\n",
    "   \n",
    "  class Lightgreen:                     # create Lightgreen class\n",
    "     def __init__(self):\n",
    "        self.name = 'Light Green'\n",
    "        self.code = '024avc'\n",
    "   \n",
    "     def display(self):\n",
    "        print(\"Name:\", self.name)\n",
    "        print(\"Code:\", self.code)\n",
    "        \n",
    "outer = Color()                         # create Color class object\n",
    " \n",
    "outer.show()                            # method calling\n",
    " \n",
    "g = outer.lg                            # create a Lightgreen inner class object\n",
    " \n",
    "g.display()                             # inner class method calling"
   ]
  },
  {
   "cell_type": "code",
   "execution_count": null,
   "id": "431b7dd1",
   "metadata": {},
   "outputs": [],
   "source": []
  }
 ],
 "metadata": {
  "kernelspec": {
   "display_name": "Python 3 (ipykernel)",
   "language": "python",
   "name": "python3"
  },
  "language_info": {
   "codemirror_mode": {
    "name": "ipython",
    "version": 3
   },
   "file_extension": ".py",
   "mimetype": "text/x-python",
   "name": "python",
   "nbconvert_exporter": "python",
   "pygments_lexer": "ipython3",
   "version": "3.9.7"
  }
 },
 "nbformat": 4,
 "nbformat_minor": 5
}
