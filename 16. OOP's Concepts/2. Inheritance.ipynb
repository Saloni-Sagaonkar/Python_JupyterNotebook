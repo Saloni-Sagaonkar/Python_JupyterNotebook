{
 "cells": [
  {
   "cell_type": "markdown",
   "id": "3b64b77b",
   "metadata": {},
   "source": [
    "# Inheritance \n",
    "Inheritance is the capability of one class to derive or inherit the properties from another class."
   ]
  },
  {
   "cell_type": "code",
   "execution_count": 1,
   "id": "081a0d1c",
   "metadata": {},
   "outputs": [
    {
     "data": {
      "text/plain": [
       "True"
      ]
     },
     "execution_count": 1,
     "metadata": {},
     "output_type": "execute_result"
    }
   ],
   "source": [
    "class Person:\n",
    "    pass\n",
    "class Student(Person):  #class Student inherits from class Person\n",
    "    pass\n",
    "issubclass(Student,Person)   #issubclass() to confirm student is a subclass of person"
   ]
  },
  {
   "cell_type": "markdown",
   "id": "9c9f4ced",
   "metadata": {},
   "source": [
    "### Types of Inheritance \n",
    "\n",
    "1. Single Inheritance\n",
    "2. Multiple Inheritance\n",
    "3. Multilevel Inheritance\n",
    "4. Hierarchical Inheritance \n",
    "5. Hybrid Inheritance"
   ]
  },
  {
   "cell_type": "markdown",
   "id": "18330d54",
   "metadata": {},
   "source": [
    "#### 1. Single Inheritance\n",
    "A single Python inheritance is when a single class inherits from a class."
   ]
  },
  {
   "cell_type": "code",
   "execution_count": 3,
   "id": "50593bb3",
   "metadata": {},
   "outputs": [
    {
     "name": "stdout",
     "output_type": "stream",
     "text": [
      "I'm a fruit\n",
      "I'm citrus\n"
     ]
    }
   ],
   "source": [
    "x=0\n",
    "class fruit:\n",
    "    def __init__(self):\n",
    "        global x\n",
    "        x+=1\n",
    "        print(\"I'm a fruit\")                          \n",
    "class citrus(fruit):\n",
    "    def __init__(self):\n",
    "        super().__init__()\n",
    "        global x\n",
    "        x+=2\n",
    "        print(\"I'm citrus\")                           \n",
    "lime=citrus()"
   ]
  },
  {
   "cell_type": "markdown",
   "id": "74ddcb2f",
   "metadata": {},
   "source": [
    "#### 2. Multiple Inheritance\n",
    "Multiple Python inheritance are when a class inherits from multiple base classes."
   ]
  },
  {
   "cell_type": "code",
   "execution_count": 4,
   "id": "9c685028",
   "metadata": {},
   "outputs": [
    {
     "data": {
      "text/plain": [
       "True"
      ]
     },
     "execution_count": 4,
     "metadata": {},
     "output_type": "execute_result"
    }
   ],
   "source": [
    "class Color:\n",
    "    pass\n",
    "class Fruit:\n",
    "    pass\n",
    "class Orange(Color,Fruit):\n",
    "    pass\n",
    "issubclass(Orange,Color) and issubclass(Orange,Fruit)"
   ]
  },
  {
   "cell_type": "markdown",
   "id": "d134cffe",
   "metadata": {},
   "source": [
    "#### 3. Multilevel Inheritance\n",
    "When one class inherits from another, which in turn inherits from another, it is multilevel python inheritance."
   ]
  },
  {
   "cell_type": "code",
   "execution_count": 5,
   "id": "83ed5556",
   "metadata": {},
   "outputs": [
    {
     "data": {
      "text/plain": [
       "1"
      ]
     },
     "execution_count": 5,
     "metadata": {},
     "output_type": "execute_result"
    }
   ],
   "source": [
    "class A:\n",
    "    x=1         \n",
    "class B(A):\n",
    "    pass\n",
    "class C(B):\n",
    "    pass\n",
    "cobj=C()\n",
    "cobj.x"
   ]
  },
  {
   "cell_type": "markdown",
   "id": "6ad4d179",
   "metadata": {},
   "source": [
    "#### 4. Hierarchical Inheritance \n",
    "When more than one class inherits from a class, it is hierarchical Python inheritance."
   ]
  },
  {
   "cell_type": "code",
   "execution_count": 6,
   "id": "a7da71f1",
   "metadata": {},
   "outputs": [
    {
     "data": {
      "text/plain": [
       "True"
      ]
     },
     "execution_count": 6,
     "metadata": {},
     "output_type": "execute_result"
    }
   ],
   "source": [
    "class A:\n",
    "    pass\n",
    "class B(A):\n",
    "    pass\n",
    "class C(A):\n",
    "    pass\n",
    "issubclass(B,A) and issubclass(C,A)"
   ]
  },
  {
   "cell_type": "markdown",
   "id": "0cd97e11",
   "metadata": {},
   "source": [
    "#### 5. Hybrid Inheritance\n",
    "Hybrid Python inheritance is a combination of any two kinds of inheritance."
   ]
  },
  {
   "cell_type": "code",
   "execution_count": 7,
   "id": "1178f6c1",
   "metadata": {},
   "outputs": [
    {
     "data": {
      "text/plain": [
       "1"
      ]
     },
     "execution_count": 7,
     "metadata": {},
     "output_type": "execute_result"
    }
   ],
   "source": [
    "class A:\n",
    "    x=1       \n",
    "class B(A):\n",
    "    pass\n",
    "class C(A):\n",
    "    pass\n",
    "class D(B,C):\n",
    "    pass\n",
    "dobj=D()\n",
    "dobj.x"
   ]
  },
  {
   "cell_type": "markdown",
   "id": "42036297",
   "metadata": {},
   "source": [
    "### Inheritance Super Function – Super()\n",
    "With inheritance, the super() function in python actually comes in quite handy. It allows us to call a method from the parent class."
   ]
  },
  {
   "cell_type": "code",
   "execution_count": 8,
   "id": "b900cc20",
   "metadata": {},
   "outputs": [
    {
     "name": "stdout",
     "output_type": "stream",
     "text": [
      "Starting engine\n",
      "I have two wheels\n",
      "Stopping engine\n"
     ]
    }
   ],
   "source": [
    "class Vehicle:\n",
    "    def start(self):\n",
    "        print(\"Starting engine\")\n",
    "    def stop(self):\n",
    "        print(\"Stopping engine\")                            \n",
    "class TwoWheeler(Vehicle):\n",
    "    def say(self):\n",
    "        super().start()\n",
    "        print(\"I have two wheels\")\n",
    "        super().stop()                            \n",
    "Pulsar=TwoWheeler()\n",
    "Pulsar.say()"
   ]
  },
  {
   "cell_type": "markdown",
   "id": "9caae08d",
   "metadata": {},
   "source": [
    "### Override Method\n",
    "A subclass may change the functionality of a Python method in the superclass. It does so by redefining it."
   ]
  },
  {
   "cell_type": "code",
   "execution_count": 9,
   "id": "6acf32cb",
   "metadata": {},
   "outputs": [
    {
     "name": "stdout",
     "output_type": "stream",
     "text": [
      "I'm in B\n"
     ]
    }
   ],
   "source": [
    "class A:\n",
    "    def sayhi(self):\n",
    "        print(\"I'm in A\")                          \n",
    "class B(A):\n",
    "    def sayhi(self):\n",
    "        print(\"I'm in B\")                             \n",
    "bobj=B()\n",
    "bobj.sayhi()"
   ]
  },
  {
   "cell_type": "markdown",
   "id": "ef7e432e",
   "metadata": {},
   "source": [
    "### Method Overloading\n",
    "python does not support method overloading by default. But there are different ways to achieve method overloading in Python. \n",
    "\n",
    "The problem with method overloading in Python is that we may overload the methods but can only use the latest defined method. "
   ]
  },
  {
   "cell_type": "code",
   "execution_count": 10,
   "id": "0771d227",
   "metadata": {},
   "outputs": [
    {
     "ename": "SyntaxError",
     "evalue": "invalid syntax (Temp/ipykernel_14340/542487438.py, line 3)",
     "output_type": "error",
     "traceback": [
      "\u001b[1;36m  File \u001b[1;32m\"C:\\Users\\DELL\\AppData\\Local\\Temp/ipykernel_14340/542487438.py\"\u001b[1;36m, line \u001b[1;32m3\u001b[0m\n\u001b[1;33m    >>> def add(a,b,c):\u001b[0m\n\u001b[1;37m    ^\u001b[0m\n\u001b[1;31mSyntaxError\u001b[0m\u001b[1;31m:\u001b[0m invalid syntax\n"
     ]
    }
   ],
   "source": [
    "def add(a,b):\n",
    "      return a+b\n",
    ">>> def add(a,b,c):\n",
    "      return a+b+c\n",
    ">>> add(2,3)"
   ]
  },
  {
   "cell_type": "code",
   "execution_count": null,
   "id": "0855d5e1",
   "metadata": {},
   "outputs": [],
   "source": []
  }
 ],
 "metadata": {
  "kernelspec": {
   "display_name": "Python 3 (ipykernel)",
   "language": "python",
   "name": "python3"
  },
  "language_info": {
   "codemirror_mode": {
    "name": "ipython",
    "version": 3
   },
   "file_extension": ".py",
   "mimetype": "text/x-python",
   "name": "python",
   "nbconvert_exporter": "python",
   "pygments_lexer": "ipython3",
   "version": "3.9.7"
  }
 },
 "nbformat": 4,
 "nbformat_minor": 5
}
