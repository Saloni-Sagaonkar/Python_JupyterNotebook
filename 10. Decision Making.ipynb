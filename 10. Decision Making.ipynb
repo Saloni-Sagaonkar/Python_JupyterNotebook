{
 "cells": [
  {
   "cell_type": "markdown",
   "id": "5a9085ee",
   "metadata": {},
   "source": [
    "# 10. Decision Making"
   ]
  },
  {
   "cell_type": "markdown",
   "id": "d96dcce0",
   "metadata": {},
   "source": [
    "Python decision making constructs. This includes Python if statements, if else statements, elif statements, nested if conditions and single statement conditions.\n",
    "\n",
    "Sometimes, in a program, we may want to make a decision based on a condition. We know that an expression’s value can be True or False. We may want to do something only when a certain condition is true.\n",
    "\n"
   ]
  },
  {
   "cell_type": "markdown",
   "id": "d6c715ea",
   "metadata": {},
   "source": [
    "### if Statements"
   ]
  },
  {
   "cell_type": "markdown",
   "id": "9a2d0b13",
   "metadata": {},
   "source": [
    "An if statement in python takes an expression with it. If the expression amounts to True, then the block of statements under it is executed.\n",
    "\n",
    "If it amounts to False, then the block is skipped and control transfers to the statements after the block. But remember to indent the statements in a block equally.\n",
    "\n",
    "This is because we don’t use curly braces to delimit blocks. Also, use a colon(:) after the condition."
   ]
  },
  {
   "cell_type": "code",
   "execution_count": 4,
   "id": "811c6f74",
   "metadata": {},
   "outputs": [
    {
     "name": "stdout",
     "output_type": "stream",
     "text": [
      "7 is good\n"
     ]
    }
   ],
   "source": [
    "a=7\n",
    "if a>=6:\n",
    "    print (f\"{a} is good\")"
   ]
  },
  {
   "cell_type": "code",
   "execution_count": 5,
   "id": "aaae6d81",
   "metadata": {},
   "outputs": [
    {
     "name": "stdout",
     "output_type": "stream",
     "text": [
      "yay\n"
     ]
    }
   ],
   "source": [
    "if 1:              #1 has a Boolean value of True. So, the condition is true.\n",
    "    print(\"yay\")"
   ]
  },
  {
   "cell_type": "markdown",
   "id": "3fb1b35b",
   "metadata": {},
   "source": [
    "### if-else Statements"
   ]
  },
  {
   "cell_type": "markdown",
   "id": "1201fc60",
   "metadata": {},
   "source": [
    "What happens when the condition is untrue? We can mention that it in the block after the else statement. An else statement comes right after the block after ‘if’."
   ]
  },
  {
   "cell_type": "code",
   "execution_count": 6,
   "id": "19609267",
   "metadata": {},
   "outputs": [
    {
     "name": "stdout",
     "output_type": "stream",
     "text": [
      "4 is less than 5\n"
     ]
    }
   ],
   "source": [
    "a = 4\n",
    "if a>=5:\n",
    "    print(a,\" is greater than 5\")\n",
    "else:\n",
    "    print(a,\"is less than 5\")"
   ]
  },
  {
   "cell_type": "markdown",
   "id": "8aed2dd3",
   "metadata": {},
   "source": [
    "### Chained Conditionals (elif ladder)"
   ]
  },
  {
   "cell_type": "markdown",
   "id": "c8528b75",
   "metadata": {},
   "source": [
    "Python allows the elif keyword as a replacement to the else-if statements in Java or C++. \n",
    "\n",
    "When we have more than one condition to check, we can use it.\n",
    "\n",
    "If condition 1 isn’t True, condition 2 is checked. If it isn’t true, condition 3 is checked."
   ]
  },
  {
   "cell_type": "code",
   "execution_count": 12,
   "id": "a4ea16cd",
   "metadata": {},
   "outputs": [
    {
     "name": "stdout",
     "output_type": "stream",
     "text": [
      "Enter a Number2\n",
      "Two\n"
     ]
    }
   ],
   "source": [
    "x = int(input(\"Enter a Number\"))\n",
    "\n",
    "if x==1:\n",
    "    print(\"One\")\n",
    "\n",
    "elif x==2:\n",
    "    print(\"Two\")\n",
    "\n",
    "elif x==3:\n",
    "    print(\"Three\")\n",
    "\n",
    "else:\n",
    "    print(\"Wrong Input\")"
   ]
  },
  {
   "cell_type": "code",
   "execution_count": null,
   "id": "252d4529",
   "metadata": {},
   "outputs": [],
   "source": []
  }
 ],
 "metadata": {
  "kernelspec": {
   "display_name": "Python 3 (ipykernel)",
   "language": "python",
   "name": "python3"
  },
  "language_info": {
   "codemirror_mode": {
    "name": "ipython",
    "version": 3
   },
   "file_extension": ".py",
   "mimetype": "text/x-python",
   "name": "python",
   "nbconvert_exporter": "python",
   "pygments_lexer": "ipython3",
   "version": "3.9.7"
  }
 },
 "nbformat": 4,
 "nbformat_minor": 5
}
