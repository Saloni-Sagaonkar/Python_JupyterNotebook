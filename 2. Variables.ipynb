{
 "cells": [
  {
   "cell_type": "markdown",
   "id": "66b17493",
   "metadata": {},
   "source": [
    "# Variables"
   ]
  },
  {
   "cell_type": "markdown",
   "id": "e12db090",
   "metadata": {},
   "source": [
    "A variable is a container for a value. It can be assigned a name, you can use it to refer to it later in the program.\n",
    "\n",
    "Based on the value assigned, the interpreter decides its data type. You can always store a different type in a variable."
   ]
  },
  {
   "cell_type": "code",
   "execution_count": 1,
   "id": "4e0b1894",
   "metadata": {},
   "outputs": [
    {
     "data": {
      "text/plain": [
       "5"
      ]
     },
     "execution_count": 1,
     "metadata": {},
     "output_type": "execute_result"
    }
   ],
   "source": [
    "x = 2\n",
    "x + 3"
   ]
  },
  {
   "cell_type": "code",
   "execution_count": 2,
   "id": "af62e53a",
   "metadata": {},
   "outputs": [
    {
     "data": {
      "text/plain": [
       "5"
      ]
     },
     "execution_count": 2,
     "metadata": {},
     "output_type": "execute_result"
    }
   ],
   "source": [
    "y = 3\n",
    "x + y"
   ]
  },
  {
   "cell_type": "code",
   "execution_count": 3,
   "id": "df167fab",
   "metadata": {},
   "outputs": [
    {
     "data": {
      "text/plain": [
       "12"
      ]
     },
     "execution_count": 3,
     "metadata": {},
     "output_type": "execute_result"
    }
   ],
   "source": [
    "x + 10"
   ]
  },
  {
   "cell_type": "code",
   "execution_count": 4,
   "id": "fd2c3080",
   "metadata": {},
   "outputs": [
    {
     "data": {
      "text/plain": [
       "15"
      ]
     },
     "execution_count": 4,
     "metadata": {},
     "output_type": "execute_result"
    }
   ],
   "source": [
    "_ + y    # '_' output of previous opeartion"
   ]
  },
  {
   "cell_type": "code",
   "execution_count": 5,
   "id": "2929d317",
   "metadata": {},
   "outputs": [
    {
     "data": {
      "text/plain": [
       "'youtube'"
      ]
     },
     "execution_count": 5,
     "metadata": {},
     "output_type": "execute_result"
    }
   ],
   "source": [
    "name = 'youtube'\n",
    "name"
   ]
  },
  {
   "cell_type": "code",
   "execution_count": 7,
   "id": "cd9c8a4f",
   "metadata": {},
   "outputs": [
    {
     "data": {
      "text/plain": [
       "'youtube rocks'"
      ]
     },
     "execution_count": 7,
     "metadata": {},
     "output_type": "execute_result"
    }
   ],
   "source": [
    "name + ' rocks'\n"
   ]
  },
  {
   "cell_type": "code",
   "execution_count": 8,
   "id": "6c2308b7",
   "metadata": {},
   "outputs": [
    {
     "data": {
      "text/plain": [
       "'y'"
      ]
     },
     "execution_count": 8,
     "metadata": {},
     "output_type": "execute_result"
    }
   ],
   "source": [
    "name[0]   # Oth Index"
   ]
  },
  {
   "cell_type": "code",
   "execution_count": 9,
   "id": "237919d2",
   "metadata": {},
   "outputs": [
    {
     "data": {
      "text/plain": [
       "'e'"
      ]
     },
     "execution_count": 9,
     "metadata": {},
     "output_type": "execute_result"
    }
   ],
   "source": [
    "name[6]"
   ]
  },
  {
   "cell_type": "code",
   "execution_count": 10,
   "id": "d3260d9c",
   "metadata": {},
   "outputs": [
    {
     "ename": "IndexError",
     "evalue": "string index out of range",
     "output_type": "error",
     "traceback": [
      "\u001b[1;31m---------------------------------------------------------------------------\u001b[0m",
      "\u001b[1;31mIndexError\u001b[0m                                Traceback (most recent call last)",
      "\u001b[1;32m~\\AppData\\Local\\Temp/ipykernel_524/375854109.py\u001b[0m in \u001b[0;36m<module>\u001b[1;34m\u001b[0m\n\u001b[1;32m----> 1\u001b[1;33m \u001b[0mname\u001b[0m\u001b[1;33m[\u001b[0m\u001b[1;36m8\u001b[0m\u001b[1;33m]\u001b[0m\u001b[1;33m\u001b[0m\u001b[1;33m\u001b[0m\u001b[0m\n\u001b[0m",
      "\u001b[1;31mIndexError\u001b[0m: string index out of range"
     ]
    }
   ],
   "source": [
    "name[8]"
   ]
  },
  {
   "cell_type": "code",
   "execution_count": 11,
   "id": "58d6b8d2",
   "metadata": {},
   "outputs": [
    {
     "data": {
      "text/plain": [
       "'e'"
      ]
     },
     "execution_count": 11,
     "metadata": {},
     "output_type": "execute_result"
    }
   ],
   "source": [
    "name[-1]"
   ]
  },
  {
   "cell_type": "code",
   "execution_count": 12,
   "id": "571f6bfd",
   "metadata": {},
   "outputs": [
    {
     "data": {
      "text/plain": [
       "'y'"
      ]
     },
     "execution_count": 12,
     "metadata": {},
     "output_type": "execute_result"
    }
   ],
   "source": [
    "name[-7]"
   ]
  },
  {
   "cell_type": "code",
   "execution_count": 13,
   "id": "a569e6fb",
   "metadata": {},
   "outputs": [
    {
     "data": {
      "text/plain": [
       "'yo'"
      ]
     },
     "execution_count": 13,
     "metadata": {},
     "output_type": "execute_result"
    }
   ],
   "source": [
    "name[0:2]"
   ]
  },
  {
   "cell_type": "code",
   "execution_count": 14,
   "id": "8785666f",
   "metadata": {},
   "outputs": [
    {
     "data": {
      "text/plain": [
       "'outube'"
      ]
     },
     "execution_count": 14,
     "metadata": {},
     "output_type": "execute_result"
    }
   ],
   "source": [
    "name[1:]"
   ]
  },
  {
   "cell_type": "code",
   "execution_count": 15,
   "id": "7abeb953",
   "metadata": {},
   "outputs": [
    {
     "data": {
      "text/plain": [
       "'yout'"
      ]
     },
     "execution_count": 15,
     "metadata": {},
     "output_type": "execute_result"
    }
   ],
   "source": [
    "name[:4]"
   ]
  },
  {
   "cell_type": "code",
   "execution_count": 16,
   "id": "5f8a40e0",
   "metadata": {},
   "outputs": [
    {
     "ename": "SyntaxError",
     "evalue": "invalid syntax (Temp/ipykernel_524/3308434792.py, line 1)",
     "output_type": "error",
     "traceback": [
      "\u001b[1;36m  File \u001b[1;32m\"C:\\Users\\DELL\\AppData\\Local\\Temp/ipykernel_524/3308434792.py\"\u001b[1;36m, line \u001b[1;32m1\u001b[0m\n\u001b[1;33m    name[]\u001b[0m\n\u001b[1;37m         ^\u001b[0m\n\u001b[1;31mSyntaxError\u001b[0m\u001b[1;31m:\u001b[0m invalid syntax\n"
     ]
    }
   ],
   "source": [
    "name[]"
   ]
  },
  {
   "cell_type": "code",
   "execution_count": 17,
   "id": "a8dd40b8",
   "metadata": {},
   "outputs": [
    {
     "data": {
      "text/plain": [
       "'tube'"
      ]
     },
     "execution_count": 17,
     "metadata": {},
     "output_type": "execute_result"
    }
   ],
   "source": [
    "name[3:10]"
   ]
  },
  {
   "cell_type": "code",
   "execution_count": 18,
   "id": "91e2e3b6",
   "metadata": {},
   "outputs": [
    {
     "ename": "TypeError",
     "evalue": "'str' object does not support item assignment",
     "output_type": "error",
     "traceback": [
      "\u001b[1;31m---------------------------------------------------------------------------\u001b[0m",
      "\u001b[1;31mTypeError\u001b[0m                                 Traceback (most recent call last)",
      "\u001b[1;32m~\\AppData\\Local\\Temp/ipykernel_524/3715274407.py\u001b[0m in \u001b[0;36m<module>\u001b[1;34m\u001b[0m\n\u001b[1;32m----> 1\u001b[1;33m \u001b[0mname\u001b[0m\u001b[1;33m[\u001b[0m\u001b[1;36m0\u001b[0m\u001b[1;33m:\u001b[0m\u001b[1;36m3\u001b[0m\u001b[1;33m]\u001b[0m \u001b[1;33m=\u001b[0m \u001b[1;34m'my'\u001b[0m\u001b[1;33m\u001b[0m\u001b[1;33m\u001b[0m\u001b[0m\n\u001b[0m",
      "\u001b[1;31mTypeError\u001b[0m: 'str' object does not support item assignment"
     ]
    }
   ],
   "source": [
    "name[0:3] = 'my'"
   ]
  },
  {
   "cell_type": "code",
   "execution_count": 19,
   "id": "5f24a54a",
   "metadata": {},
   "outputs": [
    {
     "data": {
      "text/plain": [
       "'mytube'"
      ]
     },
     "execution_count": 19,
     "metadata": {},
     "output_type": "execute_result"
    }
   ],
   "source": [
    "'my' + name[3:]"
   ]
  },
  {
   "cell_type": "code",
   "execution_count": 20,
   "id": "5effa678",
   "metadata": {},
   "outputs": [
    {
     "data": {
      "text/plain": [
       "16"
      ]
     },
     "execution_count": 20,
     "metadata": {},
     "output_type": "execute_result"
    }
   ],
   "source": [
    "myname = 'Saloni Sagaonkar'  #string Variable\n",
    "len(myname)"
   ]
  },
  {
   "cell_type": "code",
   "execution_count": 1,
   "id": "8d3c9f06",
   "metadata": {},
   "outputs": [
    {
     "data": {
      "text/plain": [
       "2255133293168"
      ]
     },
     "execution_count": 1,
     "metadata": {},
     "output_type": "execute_result"
    }
   ],
   "source": [
    " name = \"Saloni\"\n",
    "id(name)          # address of the variable"
   ]
  },
  {
   "cell_type": "code",
   "execution_count": 2,
   "id": "460e04b9",
   "metadata": {},
   "outputs": [
    {
     "data": {
      "text/plain": [
       "2255053285968"
      ]
     },
     "execution_count": 2,
     "metadata": {},
     "output_type": "execute_result"
    }
   ],
   "source": [
    "a = 10\n",
    "id(a)"
   ]
  },
  {
   "cell_type": "code",
   "execution_count": 3,
   "id": "f21632f9",
   "metadata": {},
   "outputs": [
    {
     "data": {
      "text/plain": [
       "2255053285968"
      ]
     },
     "execution_count": 3,
     "metadata": {},
     "output_type": "execute_result"
    }
   ],
   "source": [
    "b = 10\n",
    "id(b)"
   ]
  },
  {
   "cell_type": "markdown",
   "id": "eb5d14fa",
   "metadata": {},
   "source": [
    "### 2.1 Naming Rules"
   ]
  },
  {
   "cell_type": "markdown",
   "id": "8f8a9cf4",
   "metadata": {},
   "source": [
    "1. Python variables can only begin with a letter(A-Z/a-z) or an underscore(_).\n",
    "\n",
    "2. The rest of the identifier may contain letters(A-Z/a-z), underscores(_), and numbers(0-9).\n",
    "\n",
    "3. Python is case-sensitive, and so are Python identifiers. Name and name are two different identifiers.\n",
    "\n",
    "4. Reserved words (keywords) cannot be used as identifier names."
   ]
  },
  {
   "cell_type": "code",
   "execution_count": 29,
   "id": "907305b5",
   "metadata": {},
   "outputs": [
    {
     "data": {
      "text/plain": [
       "'Saloni'"
      ]
     },
     "execution_count": 29,
     "metadata": {},
     "output_type": "execute_result"
    }
   ],
   "source": [
    "_MyName = 'Saloni'\n",
    "_MyName"
   ]
  },
  {
   "cell_type": "code",
   "execution_count": 32,
   "id": "769a21f1",
   "metadata": {},
   "outputs": [
    {
     "ename": "SyntaxError",
     "evalue": "invalid syntax (Temp/ipykernel_524/3582091697.py, line 1)",
     "output_type": "error",
     "traceback": [
      "\u001b[1;36m  File \u001b[1;32m\"C:\\Users\\DELL\\AppData\\Local\\Temp/ipykernel_524/3582091697.py\"\u001b[1;36m, line \u001b[1;32m1\u001b[0m\n\u001b[1;33m    8number = 27\u001b[0m\n\u001b[1;37m     ^\u001b[0m\n\u001b[1;31mSyntaxError\u001b[0m\u001b[1;31m:\u001b[0m invalid syntax\n"
     ]
    }
   ],
   "source": [
    "8number = 27\n",
    "8number"
   ]
  },
  {
   "cell_type": "markdown",
   "id": "240e2d11",
   "metadata": {},
   "source": [
    "### 2.2 Assigning and Reassigning Variables "
   ]
  },
  {
   "cell_type": "code",
   "execution_count": 21,
   "id": "1d8f2fca",
   "metadata": {},
   "outputs": [
    {
     "name": "stdout",
     "output_type": "stream",
     "text": [
      "22\n"
     ]
    }
   ],
   "source": [
    "age = 22\n",
    "print(age)"
   ]
  },
  {
   "cell_type": "code",
   "execution_count": 22,
   "id": "bafa8d96",
   "metadata": {},
   "outputs": [
    {
     "data": {
      "text/plain": [
       "35"
      ]
     },
     "execution_count": 22,
     "metadata": {},
     "output_type": "execute_result"
    }
   ],
   "source": [
    "age = 35\n",
    "age"
   ]
  },
  {
   "cell_type": "markdown",
   "id": "0575c0e8",
   "metadata": {},
   "source": [
    "### 2.3 Multiple Assignment"
   ]
  },
  {
   "cell_type": "code",
   "execution_count": 23,
   "id": "7cc3f4de",
   "metadata": {},
   "outputs": [
    {
     "name": "stdout",
     "output_type": "stream",
     "text": [
      "Saloni 22\n"
     ]
    }
   ],
   "source": [
    "name, age = 'Saloni', 22\n",
    "print(name, age)"
   ]
  },
  {
   "cell_type": "code",
   "execution_count": 24,
   "id": "8c7aaed8",
   "metadata": {},
   "outputs": [
    {
     "data": {
      "text/plain": [
       "(22, 22)"
      ]
     },
     "execution_count": 24,
     "metadata": {},
     "output_type": "execute_result"
    }
   ],
   "source": [
    "age = number =22\n",
    "age, number"
   ]
  },
  {
   "cell_type": "code",
   "execution_count": 25,
   "id": "4b8eff7b",
   "metadata": {},
   "outputs": [
    {
     "name": "stdout",
     "output_type": "stream",
     "text": [
      "22 22\n"
     ]
    }
   ],
   "source": [
    "print(age, number)"
   ]
  },
  {
   "cell_type": "markdown",
   "id": "afb3de86",
   "metadata": {},
   "source": [
    "### 2.4 Swapping Variables"
   ]
  },
  {
   "cell_type": "code",
   "execution_count": 26,
   "id": "7865d335",
   "metadata": {},
   "outputs": [
    {
     "name": "stdout",
     "output_type": "stream",
     "text": [
      "black red\n"
     ]
    }
   ],
   "source": [
    "a, b ='red', 'black'\n",
    "a, b = b, a\n",
    "print(a, b)"
   ]
  },
  {
   "cell_type": "markdown",
   "id": "6017a5d8",
   "metadata": {},
   "source": [
    "### 2.5 Deleting Variables "
   ]
  },
  {
   "cell_type": "markdown",
   "id": "189ab1fc",
   "metadata": {},
   "source": [
    "Delete Python variables using the keyword ‘del’."
   ]
  },
  {
   "cell_type": "code",
   "execution_count": 27,
   "id": "d554d023",
   "metadata": {},
   "outputs": [],
   "source": [
    "a= 'red'\n",
    "del a"
   ]
  },
  {
   "cell_type": "code",
   "execution_count": 28,
   "id": "431cca61",
   "metadata": {},
   "outputs": [
    {
     "ename": "NameError",
     "evalue": "name 'a' is not defined",
     "output_type": "error",
     "traceback": [
      "\u001b[1;31m---------------------------------------------------------------------------\u001b[0m",
      "\u001b[1;31mNameError\u001b[0m                                 Traceback (most recent call last)",
      "\u001b[1;32m~\\AppData\\Local\\Temp/ipykernel_524/2167009006.py\u001b[0m in \u001b[0;36m<module>\u001b[1;34m\u001b[0m\n\u001b[1;32m----> 1\u001b[1;33m \u001b[0ma\u001b[0m\u001b[1;33m\u001b[0m\u001b[1;33m\u001b[0m\u001b[0m\n\u001b[0m",
      "\u001b[1;31mNameError\u001b[0m: name 'a' is not defined"
     ]
    }
   ],
   "source": [
    "a"
   ]
  },
  {
   "cell_type": "code",
   "execution_count": null,
   "id": "545db3c3",
   "metadata": {},
   "outputs": [],
   "source": []
  }
 ],
 "metadata": {
  "kernelspec": {
   "display_name": "Python 3 (ipykernel)",
   "language": "python",
   "name": "python3"
  },
  "language_info": {
   "codemirror_mode": {
    "name": "ipython",
    "version": 3
   },
   "file_extension": ".py",
   "mimetype": "text/x-python",
   "name": "python",
   "nbconvert_exporter": "python",
   "pygments_lexer": "ipython3",
   "version": "3.9.7"
  }
 },
 "nbformat": 4,
 "nbformat_minor": 5
}
