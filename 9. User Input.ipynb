{
 "cells": [
  {
   "cell_type": "markdown",
   "id": "380514ed",
   "metadata": {},
   "source": [
    "# 9. User Input"
   ]
  },
  {
   "cell_type": "markdown",
   "id": "d659da9f",
   "metadata": {},
   "source": [
    "### input()\n",
    "\n",
    "Input() Python built-in functions, reads and returns a line of string."
   ]
  },
  {
   "cell_type": "markdown",
   "id": "fa366ea1",
   "metadata": {},
   "source": [
    "Note that this returns the input as a \"string\". \n",
    "\n",
    "If we want to take 7 as an integer, we need to apply the int() function to it."
   ]
  },
  {
   "cell_type": "code",
   "execution_count": 2,
   "id": "b7966dbc",
   "metadata": {},
   "outputs": [
    {
     "name": "stdout",
     "output_type": "stream",
     "text": [
      "Enter a number:7\n"
     ]
    },
    {
     "data": {
      "text/plain": [
       "'7'"
      ]
     },
     "execution_count": 2,
     "metadata": {},
     "output_type": "execute_result"
    }
   ],
   "source": [
    "input(\"Enter a number:\")"
   ]
  },
  {
   "cell_type": "code",
   "execution_count": 3,
   "id": "ecafeef7",
   "metadata": {},
   "outputs": [
    {
     "name": "stdout",
     "output_type": "stream",
     "text": [
      "Enter a number:7\n",
      "<class 'str'>\n"
     ]
    }
   ],
   "source": [
    "x= input(\"Enter a number:\")\n",
    "print(type(x))"
   ]
  },
  {
   "cell_type": "code",
   "execution_count": 4,
   "id": "2a85ae75",
   "metadata": {},
   "outputs": [
    {
     "name": "stdout",
     "output_type": "stream",
     "text": [
      "Enter a number:7\n",
      "<class 'int'>\n"
     ]
    }
   ],
   "source": [
    "x= int(input(\"Enter a number:\"))\n",
    "print(type(x))"
   ]
  },
  {
   "cell_type": "markdown",
   "id": "7ebf2557",
   "metadata": {},
   "source": [
    "Take a input from user in char formate"
   ]
  },
  {
   "cell_type": "code",
   "execution_count": 5,
   "id": "f26b262c",
   "metadata": {},
   "outputs": [
    {
     "name": "stdout",
     "output_type": "stream",
     "text": [
      "Enter a charS\n",
      "S\n"
     ]
    }
   ],
   "source": [
    "ch = input(\"Enter a char\")\n",
    "print(ch)"
   ]
  },
  {
   "cell_type": "code",
   "execution_count": 6,
   "id": "7ec9527b",
   "metadata": {},
   "outputs": [
    {
     "name": "stdout",
     "output_type": "stream",
     "text": [
      "Enter a charvsdh\n",
      "vsdh\n"
     ]
    }
   ],
   "source": [
    "ch = input(\"Enter a char\")   # user entered a string but want a charter\n",
    "print(ch)"
   ]
  },
  {
   "cell_type": "code",
   "execution_count": 7,
   "id": "d05b8b91",
   "metadata": {},
   "outputs": [
    {
     "name": "stdout",
     "output_type": "stream",
     "text": [
      "Enter a charcefdw\n",
      "c\n"
     ]
    }
   ],
   "source": [
    "ch = input(\"Enter a char\")\n",
    "print(ch[0])"
   ]
  },
  {
   "cell_type": "markdown",
   "id": "5446a0f7",
   "metadata": {},
   "source": [
    "OR"
   ]
  },
  {
   "cell_type": "code",
   "execution_count": 8,
   "id": "407198b5",
   "metadata": {},
   "outputs": [
    {
     "name": "stdout",
     "output_type": "stream",
     "text": [
      "Enter a charfdsa\n",
      "f\n"
     ]
    }
   ],
   "source": [
    "ch = input(\"Enter a char\")[0]\n",
    "print(ch)"
   ]
  },
  {
   "cell_type": "markdown",
   "id": "8e667afa",
   "metadata": {},
   "source": [
    "#### eval()"
   ]
  },
  {
   "cell_type": "markdown",
   "id": "cdc35a7f",
   "metadata": {},
   "source": [
    "This Function takes a string as an argument, which is parsed as an expression."
   ]
  },
  {
   "cell_type": "code",
   "execution_count": 9,
   "id": "86ba3891",
   "metadata": {},
   "outputs": [
    {
     "name": "stdout",
     "output_type": "stream",
     "text": [
      "Enter an expr:2+5-3\n",
      "4\n"
     ]
    }
   ],
   "source": [
    "result = eval(input(\"Enter an expr:\"))\n",
    "print(result)"
   ]
  },
  {
   "cell_type": "code",
   "execution_count": null,
   "id": "46b02c37",
   "metadata": {},
   "outputs": [],
   "source": []
  }
 ],
 "metadata": {
  "kernelspec": {
   "display_name": "Python 3 (ipykernel)",
   "language": "python",
   "name": "python3"
  },
  "language_info": {
   "codemirror_mode": {
    "name": "ipython",
    "version": 3
   },
   "file_extension": ".py",
   "mimetype": "text/x-python",
   "name": "python",
   "nbconvert_exporter": "python",
   "pygments_lexer": "ipython3",
   "version": "3.9.7"
  }
 },
 "nbformat": 4,
 "nbformat_minor": 5
}
